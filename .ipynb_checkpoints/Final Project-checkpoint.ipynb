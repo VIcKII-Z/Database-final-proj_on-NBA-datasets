{
 "cells": [
  {
   "cell_type": "markdown",
   "id": "a444e432",
   "metadata": {},
   "source": [
    "# CPSC 537 Final Project"
   ]
  },
  {
   "cell_type": "markdown",
   "id": "77240493",
   "metadata": {},
   "source": [
    "## 1. Fetch Players, Teams, Games and Drafts Data Through NBA_API"
   ]
  },
  {
   "cell_type": "markdown",
   "id": "05b34871",
   "metadata": {},
   "source": [
    "The basketball dataset is fetched through nba_api, which is an API Client for https://www.nba.com. We saved it as basketball.sqlite under Data directory. Here is the link to this API: https://github.com/swar/nba_api."
   ]
  },
  {
   "cell_type": "code",
   "execution_count": 1,
   "id": "393885a3",
   "metadata": {},
   "outputs": [],
   "source": [
    "import pandas as pd\n",
    "import numpy as np\n",
    "import sqlite3"
   ]
  },
  {
   "cell_type": "code",
   "execution_count": 2,
   "id": "7df172f3",
   "metadata": {},
   "outputs": [
    {
     "name": "stdout",
     "output_type": "stream",
     "text": [
      "['Player', 'Team', 'Team_Attributes', 'Team_History', 'Player_Attributes', 'Game_Officials', 'Game_Inactive_Players', 'Team_Salary', 'Player_Salary', 'Draft', 'Draft_Combine', 'Player_Photos', 'Player_Bios', 'Game', 'News', 'News_Missing']\n"
     ]
    }
   ],
   "source": [
    "db_path = './RawData/basketball.sqlite'\n",
    "connection = sqlite3.connect(db_path)\n",
    "cursor = connection.cursor()\n",
    "cursor.execute('SELECT name from sqlite_master where type= \"table\"')\n",
    "table_names = [table[0] for table in cursor.fetchall()]\n",
    "print(table_names)\n",
    "#connection.close()"
   ]
  },
  {
   "cell_type": "markdown",
   "id": "621574fe",
   "metadata": {},
   "source": [
    "Here are 16 tables in this dataset. The names are: Player, Player_Attributes, Player_Salary, Player_Photos, Player_Bios, Team, Team_History, Team_Attributes, Team_Salary, Game, Game_Officials, Game_Inactive_Players, Draft, Draft_Combine, News, News_Missing."
   ]
  },
  {
   "cell_type": "markdown",
   "id": "e6bab590",
   "metadata": {},
   "source": [
    "## 2. Download NBA Team Annual Attendance, Historical NBA Performance Dataset From Data.World\n"
   ]
  },
  {
   "cell_type": "markdown",
   "id": "dd3288bb",
   "metadata": {},
   "source": [
    "We download NBA team annual attendance data and historical NBA performance data from https://data.world/datasets/nba. Each dataset is a separate table, which contains the statistics of team's participation and performance in each year. The original data is in .xlsx format under Data directory."
   ]
  },
  {
   "cell_type": "code",
   "execution_count": 3,
   "id": "a75b4080",
   "metadata": {},
   "outputs": [],
   "source": [
    "performance = pd.read_excel(\n",
    "    './RawData/Historical NBA Performance.xlsx', \n",
    "    header=0)\n",
    "attendance = pd.read_excel(\n",
    "    './RawData/NBA Team Annual Attendance.xlsx', \n",
    "    header=0)"
   ]
  },
  {
   "cell_type": "code",
   "execution_count": 4,
   "id": "648df07d",
   "metadata": {},
   "outputs": [
    {
     "data": {
      "text/html": [
       "<div>\n",
       "<style scoped>\n",
       "    .dataframe tbody tr th:only-of-type {\n",
       "        vertical-align: middle;\n",
       "    }\n",
       "\n",
       "    .dataframe tbody tr th {\n",
       "        vertical-align: top;\n",
       "    }\n",
       "\n",
       "    .dataframe thead th {\n",
       "        text-align: right;\n",
       "    }\n",
       "</style>\n",
       "<table border=\"1\" class=\"dataframe\">\n",
       "  <thead>\n",
       "    <tr style=\"text-align: right;\">\n",
       "      <th></th>\n",
       "      <th>Year</th>\n",
       "      <th>Team</th>\n",
       "      <th>Record</th>\n",
       "      <th>Winning Percentage</th>\n",
       "    </tr>\n",
       "  </thead>\n",
       "  <tbody>\n",
       "    <tr>\n",
       "      <th>0</th>\n",
       "      <td>2016-17</td>\n",
       "      <td>Celtics</td>\n",
       "      <td>25-15</td>\n",
       "      <td>0.625</td>\n",
       "    </tr>\n",
       "    <tr>\n",
       "      <th>1</th>\n",
       "      <td>2015-16</td>\n",
       "      <td>Celtics</td>\n",
       "      <td>48-34</td>\n",
       "      <td>0.585</td>\n",
       "    </tr>\n",
       "    <tr>\n",
       "      <th>2</th>\n",
       "      <td>2014-15</td>\n",
       "      <td>Celtics</td>\n",
       "      <td>40-42</td>\n",
       "      <td>0.488</td>\n",
       "    </tr>\n",
       "    <tr>\n",
       "      <th>3</th>\n",
       "      <td>2013-14</td>\n",
       "      <td>Celtics</td>\n",
       "      <td>25-57</td>\n",
       "      <td>0.305</td>\n",
       "    </tr>\n",
       "    <tr>\n",
       "      <th>4</th>\n",
       "      <td>2012-13</td>\n",
       "      <td>Celtics</td>\n",
       "      <td>41-40</td>\n",
       "      <td>0.506</td>\n",
       "    </tr>\n",
       "  </tbody>\n",
       "</table>\n",
       "</div>"
      ],
      "text/plain": [
       "      Year     Team Record  Winning Percentage\n",
       "0  2016-17  Celtics  25-15               0.625\n",
       "1  2015-16  Celtics  48-34               0.585\n",
       "2  2014-15  Celtics  40-42               0.488\n",
       "3  2013-14  Celtics  25-57               0.305\n",
       "4  2012-13  Celtics  41-40               0.506"
      ]
     },
     "execution_count": 4,
     "metadata": {},
     "output_type": "execute_result"
    }
   ],
   "source": [
    "performance.head()"
   ]
  },
  {
   "cell_type": "code",
   "execution_count": 5,
   "id": "c9318361",
   "metadata": {},
   "outputs": [
    {
     "data": {
      "text/html": [
       "<div>\n",
       "<style scoped>\n",
       "    .dataframe tbody tr th:only-of-type {\n",
       "        vertical-align: middle;\n",
       "    }\n",
       "\n",
       "    .dataframe tbody tr th {\n",
       "        vertical-align: top;\n",
       "    }\n",
       "\n",
       "    .dataframe thead th {\n",
       "        text-align: right;\n",
       "    }\n",
       "</style>\n",
       "<table border=\"1\" class=\"dataframe\">\n",
       "  <thead>\n",
       "    <tr style=\"text-align: right;\">\n",
       "      <th></th>\n",
       "      <th>Starting Year</th>\n",
       "      <th>Rank</th>\n",
       "      <th>Team</th>\n",
       "      <th>Home: Total Games</th>\n",
       "      <th>Home: Total Attendance</th>\n",
       "      <th>Home: Avg Attendance</th>\n",
       "      <th>Home: % Capactiy</th>\n",
       "      <th>Away: Total Games</th>\n",
       "      <th>Away: Total Attendance</th>\n",
       "      <th>Away: Avg Attendance</th>\n",
       "      <th>Away: % Capactiy</th>\n",
       "    </tr>\n",
       "  </thead>\n",
       "  <tbody>\n",
       "    <tr>\n",
       "      <th>0</th>\n",
       "      <td>2015.0</td>\n",
       "      <td>1.0</td>\n",
       "      <td>Bulls</td>\n",
       "      <td>41.0</td>\n",
       "      <td>894659.0</td>\n",
       "      <td>21820.0</td>\n",
       "      <td>104.3</td>\n",
       "      <td>41.0</td>\n",
       "      <td>18156.0</td>\n",
       "      <td>94.5</td>\n",
       "      <td>82.0</td>\n",
       "    </tr>\n",
       "    <tr>\n",
       "      <th>1</th>\n",
       "      <td>2015.0</td>\n",
       "      <td>2.0</td>\n",
       "      <td>Cavaliers</td>\n",
       "      <td>41.0</td>\n",
       "      <td>843042.0</td>\n",
       "      <td>20562.0</td>\n",
       "      <td>100.0</td>\n",
       "      <td>41.0</td>\n",
       "      <td>18910.0</td>\n",
       "      <td>98.2</td>\n",
       "      <td>82.0</td>\n",
       "    </tr>\n",
       "    <tr>\n",
       "      <th>2</th>\n",
       "      <td>2015.0</td>\n",
       "      <td>3.0</td>\n",
       "      <td>Mavericks</td>\n",
       "      <td>41.0</td>\n",
       "      <td>825901.0</td>\n",
       "      <td>20143.0</td>\n",
       "      <td>104.9</td>\n",
       "      <td>41.0</td>\n",
       "      <td>17727.0</td>\n",
       "      <td>93.4</td>\n",
       "      <td>82.0</td>\n",
       "    </tr>\n",
       "    <tr>\n",
       "      <th>3</th>\n",
       "      <td>2015.0</td>\n",
       "      <td>4.0</td>\n",
       "      <td>Raptors</td>\n",
       "      <td>41.0</td>\n",
       "      <td>812863.0</td>\n",
       "      <td>19825.0</td>\n",
       "      <td>100.1</td>\n",
       "      <td>41.0</td>\n",
       "      <td>17162.0</td>\n",
       "      <td>89.2</td>\n",
       "      <td>82.0</td>\n",
       "    </tr>\n",
       "    <tr>\n",
       "      <th>4</th>\n",
       "      <td>2015.0</td>\n",
       "      <td>5.0</td>\n",
       "      <td>NY Knicks</td>\n",
       "      <td>41.0</td>\n",
       "      <td>812292.0</td>\n",
       "      <td>19812.0</td>\n",
       "      <td>100.0</td>\n",
       "      <td>41.0</td>\n",
       "      <td>18440.0</td>\n",
       "      <td>96.0</td>\n",
       "      <td>82.0</td>\n",
       "    </tr>\n",
       "  </tbody>\n",
       "</table>\n",
       "</div>"
      ],
      "text/plain": [
       "   Starting Year  Rank       Team  Home: Total Games  Home: Total Attendance  \\\n",
       "0         2015.0   1.0      Bulls               41.0                894659.0   \n",
       "1         2015.0   2.0  Cavaliers               41.0                843042.0   \n",
       "2         2015.0   3.0  Mavericks               41.0                825901.0   \n",
       "3         2015.0   4.0    Raptors               41.0                812863.0   \n",
       "4         2015.0   5.0  NY Knicks               41.0                812292.0   \n",
       "\n",
       "   Home: Avg Attendance Home: % Capactiy  Away: Total Games  \\\n",
       "0               21820.0            104.3               41.0   \n",
       "1               20562.0            100.0               41.0   \n",
       "2               20143.0            104.9               41.0   \n",
       "3               19825.0            100.1               41.0   \n",
       "4               19812.0            100.0               41.0   \n",
       "\n",
       "   Away: Total Attendance Away: Avg Attendance  Away: % Capactiy  \n",
       "0                 18156.0                 94.5              82.0  \n",
       "1                 18910.0                 98.2              82.0  \n",
       "2                 17727.0                 93.4              82.0  \n",
       "3                 17162.0                 89.2              82.0  \n",
       "4                 18440.0                 96.0              82.0  "
      ]
     },
     "execution_count": 5,
     "metadata": {},
     "output_type": "execute_result"
    }
   ],
   "source": [
    "attendance.head()"
   ]
  },
  {
   "cell_type": "markdown",
   "id": "65201973",
   "metadata": {},
   "source": [
    "## 3. Build a New Database"
   ]
  },
  {
   "cell_type": "markdown",
   "id": "4899a4d3",
   "metadata": {},
   "source": [
    "Here we connect all of these dataset together and build a new database."
   ]
  },
  {
   "cell_type": "code",
   "execution_count": 6,
   "id": "3fb170cc",
   "metadata": {},
   "outputs": [],
   "source": [
    "db_path = './RawData/basketball.sqlite'\n",
    "new_db_path = './DataBase/nba_data.sqlite'\n",
    "src = sqlite3.connect(db_path)\n",
    "dst = sqlite3.connect(new_db_path)\n",
    "\n",
    "with dst:\n",
    "    src.backup(dst)\n",
    "    \n",
    "src.close()"
   ]
  },
  {
   "cell_type": "code",
   "execution_count": 7,
   "id": "cc5648d0",
   "metadata": {},
   "outputs": [
    {
     "name": "stderr",
     "output_type": "stream",
     "text": [
      "/Users/chenjiawen/opt/anaconda3/lib/python3.8/site-packages/pandas/core/generic.py:2872: UserWarning: The spaces in these column names will not be changed. In pandas versions < 0.14, spaces were converted to underscores.\n",
      "  sql.to_sql(\n"
     ]
    }
   ],
   "source": [
    "performance.to_sql('Performance', dst, if_exists='append', index=False)"
   ]
  },
  {
   "cell_type": "code",
   "execution_count": 8,
   "id": "79ca1778",
   "metadata": {},
   "outputs": [],
   "source": [
    "attendance.to_sql('Attendance', dst, if_exists='append', index=False)"
   ]
  },
  {
   "cell_type": "code",
   "execution_count": 9,
   "id": "1edc1ecb",
   "metadata": {},
   "outputs": [
    {
     "name": "stdout",
     "output_type": "stream",
     "text": [
      "['Player', 'Team', 'Team_Attributes', 'Team_History', 'Player_Attributes', 'Game_Officials', 'Game_Inactive_Players', 'Team_Salary', 'Player_Salary', 'Draft', 'Draft_Combine', 'Player_Photos', 'Player_Bios', 'Game', 'News', 'News_Missing', 'Performance', 'Attendance']\n"
     ]
    }
   ],
   "source": [
    "cursor = dst.cursor()\n",
    "cursor.execute('SELECT name from sqlite_master where type= \"table\"')\n",
    "table_names = [table[0] for table in cursor.fetchall()]\n",
    "print(table_names)"
   ]
  },
  {
   "cell_type": "code",
   "execution_count": 10,
   "id": "1d2a9760",
   "metadata": {},
   "outputs": [
    {
     "data": {
      "text/plain": [
       "476"
      ]
     },
     "execution_count": 10,
     "metadata": {},
     "output_type": "execute_result"
    }
   ],
   "source": [
    "cursor.execute('SELECT * from Attendance')\n",
    "len(cursor.fetchall())"
   ]
  },
  {
   "cell_type": "code",
   "execution_count": 11,
   "id": "e399e4f4",
   "metadata": {},
   "outputs": [
    {
     "data": {
      "text/plain": [
       "1417"
      ]
     },
     "execution_count": 11,
     "metadata": {},
     "output_type": "execute_result"
    }
   ],
   "source": [
    "cursor.execute('SELECT * from Performance')\n",
    "len(cursor.fetchall())"
   ]
  },
  {
   "cell_type": "code",
   "execution_count": 12,
   "id": "8dc2ff35",
   "metadata": {},
   "outputs": [],
   "source": [
    "#dst.close()"
   ]
  },
  {
   "cell_type": "markdown",
   "id": "91640cbb",
   "metadata": {},
   "source": [
    "From the output above, we successfully connect two dataset together. The new database named nba_data is under DataBase directory."
   ]
  },
  {
   "cell_type": "markdown",
   "id": "1890a557",
   "metadata": {},
   "source": [
    "## 4. Player Data Analysis"
   ]
  },
  {
   "cell_type": "markdown",
   "id": "7806c397",
   "metadata": {},
   "source": [
    "Players' data is stored in 5 tables: Player, Player_Attributes, Player_Salary, Player_Photos and Player_Bios. The relationship of these tables is as follows."
   ]
  },
  {
   "cell_type": "markdown",
   "id": "e5deca65",
   "metadata": {},
   "source": [
    "![figure1](./Image/player_diagram.png)"
   ]
  },
  {
   "cell_type": "markdown",
   "id": "8654a677",
   "metadata": {},
   "source": [
    "### 4.1 Player Table"
   ]
  },
  {
   "cell_type": "code",
   "execution_count": 13,
   "id": "3f0778b7",
   "metadata": {},
   "outputs": [
    {
     "data": {
      "text/html": [
       "<div>\n",
       "<style scoped>\n",
       "    .dataframe tbody tr th:only-of-type {\n",
       "        vertical-align: middle;\n",
       "    }\n",
       "\n",
       "    .dataframe tbody tr th {\n",
       "        vertical-align: top;\n",
       "    }\n",
       "\n",
       "    .dataframe thead th {\n",
       "        text-align: right;\n",
       "    }\n",
       "</style>\n",
       "<table border=\"1\" class=\"dataframe\">\n",
       "  <thead>\n",
       "    <tr style=\"text-align: right;\">\n",
       "      <th></th>\n",
       "      <th>id</th>\n",
       "      <th>full_name</th>\n",
       "      <th>first_name</th>\n",
       "      <th>last_name</th>\n",
       "      <th>is_active</th>\n",
       "    </tr>\n",
       "  </thead>\n",
       "  <tbody>\n",
       "    <tr>\n",
       "      <th>0</th>\n",
       "      <td>76001</td>\n",
       "      <td>Alaa Abdelnaby</td>\n",
       "      <td>Alaa</td>\n",
       "      <td>Abdelnaby</td>\n",
       "      <td>0</td>\n",
       "    </tr>\n",
       "    <tr>\n",
       "      <th>1</th>\n",
       "      <td>76002</td>\n",
       "      <td>Zaid Abdul-Aziz</td>\n",
       "      <td>Zaid</td>\n",
       "      <td>Abdul-Aziz</td>\n",
       "      <td>0</td>\n",
       "    </tr>\n",
       "    <tr>\n",
       "      <th>2</th>\n",
       "      <td>76003</td>\n",
       "      <td>Kareem Abdul-Jabbar</td>\n",
       "      <td>Kareem</td>\n",
       "      <td>Abdul-Jabbar</td>\n",
       "      <td>0</td>\n",
       "    </tr>\n",
       "    <tr>\n",
       "      <th>3</th>\n",
       "      <td>51</td>\n",
       "      <td>Mahmoud Abdul-Rauf</td>\n",
       "      <td>Mahmoud</td>\n",
       "      <td>Abdul-Rauf</td>\n",
       "      <td>0</td>\n",
       "    </tr>\n",
       "    <tr>\n",
       "      <th>4</th>\n",
       "      <td>1505</td>\n",
       "      <td>Tariq Abdul-Wahad</td>\n",
       "      <td>Tariq</td>\n",
       "      <td>Abdul-Wahad</td>\n",
       "      <td>0</td>\n",
       "    </tr>\n",
       "  </tbody>\n",
       "</table>\n",
       "</div>"
      ],
      "text/plain": [
       "      id            full_name first_name     last_name  is_active\n",
       "0  76001       Alaa Abdelnaby       Alaa     Abdelnaby          0\n",
       "1  76002      Zaid Abdul-Aziz       Zaid    Abdul-Aziz          0\n",
       "2  76003  Kareem Abdul-Jabbar     Kareem  Abdul-Jabbar          0\n",
       "3     51   Mahmoud Abdul-Rauf    Mahmoud    Abdul-Rauf          0\n",
       "4   1505    Tariq Abdul-Wahad      Tariq   Abdul-Wahad          0"
      ]
     },
     "execution_count": 13,
     "metadata": {},
     "output_type": "execute_result"
    }
   ],
   "source": [
    "query = 'SELECT * from Player'\n",
    "cursor.execute(query)\n",
    "cols = [column[0] for column in cursor.description]\n",
    "player = pd.DataFrame.from_records(data = cursor.fetchall(), columns = cols)\n",
    "player.head()"
   ]
  },
  {
   "cell_type": "code",
   "execution_count": 14,
   "id": "abea9e1f",
   "metadata": {},
   "outputs": [
    {
     "name": "stdout",
     "output_type": "stream",
     "text": [
      "<class 'pandas.core.frame.DataFrame'>\n",
      "RangeIndex: 4501 entries, 0 to 4500\n",
      "Data columns (total 5 columns):\n",
      " #   Column      Non-Null Count  Dtype \n",
      "---  ------      --------------  ----- \n",
      " 0   id          4501 non-null   object\n",
      " 1   full_name   4501 non-null   object\n",
      " 2   first_name  4501 non-null   object\n",
      " 3   last_name   4501 non-null   object\n",
      " 4   is_active   4501 non-null   int64 \n",
      "dtypes: int64(1), object(4)\n",
      "memory usage: 175.9+ KB\n"
     ]
    }
   ],
   "source": [
    "player.info()"
   ]
  },
  {
   "cell_type": "markdown",
   "id": "cfb6e37d",
   "metadata": {},
   "source": [
    "Player Table has 4500 rows and 5 columns. This table contains players' id, full name, first name, last name and the information on whether the player is active. We use the key word \"GROUP BY\" to group all of players by the is_active variable to see how many active and inactive players there are."
   ]
  },
  {
   "cell_type": "code",
   "execution_count": 15,
   "id": "a10a84d9",
   "metadata": {},
   "outputs": [
    {
     "data": {
      "text/html": [
       "<div>\n",
       "<style scoped>\n",
       "    .dataframe tbody tr th:only-of-type {\n",
       "        vertical-align: middle;\n",
       "    }\n",
       "\n",
       "    .dataframe tbody tr th {\n",
       "        vertical-align: top;\n",
       "    }\n",
       "\n",
       "    .dataframe thead th {\n",
       "        text-align: right;\n",
       "    }\n",
       "</style>\n",
       "<table border=\"1\" class=\"dataframe\">\n",
       "  <thead>\n",
       "    <tr style=\"text-align: right;\">\n",
       "      <th></th>\n",
       "      <th>is_active</th>\n",
       "      <th>count</th>\n",
       "    </tr>\n",
       "  </thead>\n",
       "  <tbody>\n",
       "    <tr>\n",
       "      <th>0</th>\n",
       "      <td>0</td>\n",
       "      <td>3982</td>\n",
       "    </tr>\n",
       "    <tr>\n",
       "      <th>1</th>\n",
       "      <td>1</td>\n",
       "      <td>519</td>\n",
       "    </tr>\n",
       "  </tbody>\n",
       "</table>\n",
       "</div>"
      ],
      "text/plain": [
       "   is_active  count\n",
       "0          0   3982\n",
       "1          1    519"
      ]
     },
     "execution_count": 15,
     "metadata": {},
     "output_type": "execute_result"
    }
   ],
   "source": [
    "query = \\\n",
    "    '''\n",
    "    SELECT is_active, count(*) as count FROM Player \n",
    "    GROUP BY is_active;\n",
    "    '''\n",
    "cursor.execute(query)\n",
    "cols = [column[0] for column in cursor.description]\n",
    "active_info = pd.DataFrame.from_records(data = cursor.fetchall(), columns = cols)\n",
    "active_info"
   ]
  },
  {
   "cell_type": "markdown",
   "id": "96b48770",
   "metadata": {},
   "source": [
    "From the output above, we can find there are 3982 inactive players and 519 active players."
   ]
  },
  {
   "cell_type": "markdown",
   "id": "ea2a19eb",
   "metadata": {},
   "source": [
    "### 4.2 Player_Attributes Table"
   ]
  },
  {
   "cell_type": "code",
   "execution_count": 16,
   "id": "9c47f3a5",
   "metadata": {},
   "outputs": [
    {
     "data": {
      "text/html": [
       "<div>\n",
       "<style scoped>\n",
       "    .dataframe tbody tr th:only-of-type {\n",
       "        vertical-align: middle;\n",
       "    }\n",
       "\n",
       "    .dataframe tbody tr th {\n",
       "        vertical-align: top;\n",
       "    }\n",
       "\n",
       "    .dataframe thead th {\n",
       "        text-align: right;\n",
       "    }\n",
       "</style>\n",
       "<table border=\"1\" class=\"dataframe\">\n",
       "  <thead>\n",
       "    <tr style=\"text-align: right;\">\n",
       "      <th></th>\n",
       "      <th>ID</th>\n",
       "      <th>FIRST_NAME</th>\n",
       "      <th>LAST_NAME</th>\n",
       "      <th>DISPLAY_FIRST_LAST</th>\n",
       "      <th>DISPLAY_LAST_COMMA_FIRST</th>\n",
       "      <th>DISPLAY_FI_LAST</th>\n",
       "      <th>PLAYER_SLUG</th>\n",
       "      <th>BIRTHDATE</th>\n",
       "      <th>SCHOOL</th>\n",
       "      <th>COUNTRY</th>\n",
       "      <th>...</th>\n",
       "      <th>NBA_FLAG</th>\n",
       "      <th>GAMES_PLAYED_FLAG</th>\n",
       "      <th>DRAFT_YEAR</th>\n",
       "      <th>DRAFT_ROUND</th>\n",
       "      <th>DRAFT_NUMBER</th>\n",
       "      <th>PTS</th>\n",
       "      <th>AST</th>\n",
       "      <th>REB</th>\n",
       "      <th>ALL_STAR_APPEARANCES</th>\n",
       "      <th>PIE</th>\n",
       "    </tr>\n",
       "  </thead>\n",
       "  <tbody>\n",
       "    <tr>\n",
       "      <th>0</th>\n",
       "      <td>76001</td>\n",
       "      <td>Alaa</td>\n",
       "      <td>Abdelnaby</td>\n",
       "      <td>Alaa Abdelnaby</td>\n",
       "      <td>Abdelnaby, Alaa</td>\n",
       "      <td>A. Abdelnaby</td>\n",
       "      <td>alaa-abdelnaby</td>\n",
       "      <td>1968-06-24T00:00:00</td>\n",
       "      <td>Duke</td>\n",
       "      <td>USA</td>\n",
       "      <td>...</td>\n",
       "      <td>Y</td>\n",
       "      <td>Y</td>\n",
       "      <td>1990</td>\n",
       "      <td>1</td>\n",
       "      <td>25</td>\n",
       "      <td>5.7</td>\n",
       "      <td>0.3</td>\n",
       "      <td>3.3</td>\n",
       "      <td>0.0</td>\n",
       "      <td>NaN</td>\n",
       "    </tr>\n",
       "    <tr>\n",
       "      <th>1</th>\n",
       "      <td>76002</td>\n",
       "      <td>Zaid</td>\n",
       "      <td>Abdul-Aziz</td>\n",
       "      <td>Zaid Abdul-Aziz</td>\n",
       "      <td>Abdul-Aziz, Zaid</td>\n",
       "      <td>Z. Abdul-Aziz</td>\n",
       "      <td>zaid-abdul-aziz</td>\n",
       "      <td>1946-04-07T00:00:00</td>\n",
       "      <td>Iowa State</td>\n",
       "      <td>USA</td>\n",
       "      <td>...</td>\n",
       "      <td>Y</td>\n",
       "      <td>Y</td>\n",
       "      <td>1968</td>\n",
       "      <td>1</td>\n",
       "      <td>5</td>\n",
       "      <td>9.0</td>\n",
       "      <td>1.2</td>\n",
       "      <td>8.0</td>\n",
       "      <td>0.0</td>\n",
       "      <td>NaN</td>\n",
       "    </tr>\n",
       "    <tr>\n",
       "      <th>2</th>\n",
       "      <td>76003</td>\n",
       "      <td>Kareem</td>\n",
       "      <td>Abdul-Jabbar</td>\n",
       "      <td>Kareem Abdul-Jabbar</td>\n",
       "      <td>Abdul-Jabbar, Kareem</td>\n",
       "      <td>K. Abdul-Jabbar</td>\n",
       "      <td>kareem-abdul-jabbar</td>\n",
       "      <td>1947-04-16T00:00:00</td>\n",
       "      <td>UCLA</td>\n",
       "      <td>USA</td>\n",
       "      <td>...</td>\n",
       "      <td>Y</td>\n",
       "      <td>Y</td>\n",
       "      <td>1969</td>\n",
       "      <td>1</td>\n",
       "      <td>1</td>\n",
       "      <td>24.6</td>\n",
       "      <td>3.6</td>\n",
       "      <td>11.2</td>\n",
       "      <td>18.0</td>\n",
       "      <td>NaN</td>\n",
       "    </tr>\n",
       "    <tr>\n",
       "      <th>3</th>\n",
       "      <td>51</td>\n",
       "      <td>Mahmoud</td>\n",
       "      <td>Abdul-Rauf</td>\n",
       "      <td>Mahmoud Abdul-Rauf</td>\n",
       "      <td>Abdul-Rauf, Mahmoud</td>\n",
       "      <td>M. Abdul-Rauf</td>\n",
       "      <td>mahmoud-abdul-rauf</td>\n",
       "      <td>1969-03-09T00:00:00</td>\n",
       "      <td>Louisiana State</td>\n",
       "      <td>USA</td>\n",
       "      <td>...</td>\n",
       "      <td>Y</td>\n",
       "      <td>Y</td>\n",
       "      <td>1990</td>\n",
       "      <td>1</td>\n",
       "      <td>3</td>\n",
       "      <td>14.6</td>\n",
       "      <td>3.5</td>\n",
       "      <td>1.9</td>\n",
       "      <td>0.0</td>\n",
       "      <td>NaN</td>\n",
       "    </tr>\n",
       "    <tr>\n",
       "      <th>4</th>\n",
       "      <td>1505</td>\n",
       "      <td>Tariq</td>\n",
       "      <td>Abdul-Wahad</td>\n",
       "      <td>Tariq Abdul-Wahad</td>\n",
       "      <td>Abdul-Wahad, Tariq</td>\n",
       "      <td>T. Abdul-Wahad</td>\n",
       "      <td>tariq-abdul-wahad</td>\n",
       "      <td>1974-11-03T00:00:00</td>\n",
       "      <td>San Jose State</td>\n",
       "      <td>France</td>\n",
       "      <td>...</td>\n",
       "      <td>Y</td>\n",
       "      <td>Y</td>\n",
       "      <td>1997</td>\n",
       "      <td>1</td>\n",
       "      <td>11</td>\n",
       "      <td>7.8</td>\n",
       "      <td>1.1</td>\n",
       "      <td>3.3</td>\n",
       "      <td>0.0</td>\n",
       "      <td>NaN</td>\n",
       "    </tr>\n",
       "  </tbody>\n",
       "</table>\n",
       "<p>5 rows × 37 columns</p>\n",
       "</div>"
      ],
      "text/plain": [
       "      ID FIRST_NAME     LAST_NAME   DISPLAY_FIRST_LAST  \\\n",
       "0  76001       Alaa     Abdelnaby       Alaa Abdelnaby   \n",
       "1  76002       Zaid    Abdul-Aziz      Zaid Abdul-Aziz   \n",
       "2  76003     Kareem  Abdul-Jabbar  Kareem Abdul-Jabbar   \n",
       "3     51    Mahmoud    Abdul-Rauf   Mahmoud Abdul-Rauf   \n",
       "4   1505      Tariq   Abdul-Wahad    Tariq Abdul-Wahad   \n",
       "\n",
       "  DISPLAY_LAST_COMMA_FIRST  DISPLAY_FI_LAST          PLAYER_SLUG  \\\n",
       "0          Abdelnaby, Alaa     A. Abdelnaby       alaa-abdelnaby   \n",
       "1         Abdul-Aziz, Zaid    Z. Abdul-Aziz      zaid-abdul-aziz   \n",
       "2     Abdul-Jabbar, Kareem  K. Abdul-Jabbar  kareem-abdul-jabbar   \n",
       "3      Abdul-Rauf, Mahmoud    M. Abdul-Rauf   mahmoud-abdul-rauf   \n",
       "4       Abdul-Wahad, Tariq   T. Abdul-Wahad    tariq-abdul-wahad   \n",
       "\n",
       "             BIRTHDATE           SCHOOL COUNTRY  ... NBA_FLAG  \\\n",
       "0  1968-06-24T00:00:00             Duke     USA  ...        Y   \n",
       "1  1946-04-07T00:00:00       Iowa State     USA  ...        Y   \n",
       "2  1947-04-16T00:00:00             UCLA     USA  ...        Y   \n",
       "3  1969-03-09T00:00:00  Louisiana State     USA  ...        Y   \n",
       "4  1974-11-03T00:00:00   San Jose State  France  ...        Y   \n",
       "\n",
       "   GAMES_PLAYED_FLAG  DRAFT_YEAR  DRAFT_ROUND DRAFT_NUMBER   PTS  AST   REB  \\\n",
       "0                  Y        1990            1           25   5.7  0.3   3.3   \n",
       "1                  Y        1968            1            5   9.0  1.2   8.0   \n",
       "2                  Y        1969            1            1  24.6  3.6  11.2   \n",
       "3                  Y        1990            1            3  14.6  3.5   1.9   \n",
       "4                  Y        1997            1           11   7.8  1.1   3.3   \n",
       "\n",
       "  ALL_STAR_APPEARANCES PIE  \n",
       "0                  0.0 NaN  \n",
       "1                  0.0 NaN  \n",
       "2                 18.0 NaN  \n",
       "3                  0.0 NaN  \n",
       "4                  0.0 NaN  \n",
       "\n",
       "[5 rows x 37 columns]"
      ]
     },
     "execution_count": 16,
     "metadata": {},
     "output_type": "execute_result"
    }
   ],
   "source": [
    "query = 'SELECT * from Player_Attributes'\n",
    "cursor.execute(query)\n",
    "cols = [column[0] for column in cursor.description]\n",
    "player_attributes = pd.DataFrame.from_records(data = cursor.fetchall(), columns = cols)\n",
    "player_attributes.head()"
   ]
  },
  {
   "cell_type": "code",
   "execution_count": 17,
   "id": "318e1128",
   "metadata": {},
   "outputs": [
    {
     "name": "stdout",
     "output_type": "stream",
     "text": [
      "<class 'pandas.core.frame.DataFrame'>\n",
      "RangeIndex: 4500 entries, 0 to 4499\n",
      "Data columns (total 37 columns):\n",
      " #   Column                            Non-Null Count  Dtype  \n",
      "---  ------                            --------------  -----  \n",
      " 0   ID                                4500 non-null   object \n",
      " 1   FIRST_NAME                        4500 non-null   object \n",
      " 2   LAST_NAME                         4500 non-null   object \n",
      " 3   DISPLAY_FIRST_LAST                4500 non-null   object \n",
      " 4   DISPLAY_LAST_COMMA_FIRST          4500 non-null   object \n",
      " 5   DISPLAY_FI_LAST                   4500 non-null   object \n",
      " 6   PLAYER_SLUG                       4500 non-null   object \n",
      " 7   BIRTHDATE                         4500 non-null   object \n",
      " 8   SCHOOL                            4497 non-null   object \n",
      " 9   COUNTRY                           4500 non-null   object \n",
      " 10  LAST_AFFILIATION                  4500 non-null   object \n",
      " 11  HEIGHT                            4403 non-null   float64\n",
      " 12  WEIGHT                            4399 non-null   float64\n",
      " 13  SEASON_EXP                        4500 non-null   int64  \n",
      " 14  JERSEY                            4500 non-null   object \n",
      " 15  POSITION                          4500 non-null   object \n",
      " 16  ROSTERSTATUS                      4500 non-null   object \n",
      " 17  GAMES_PLAYED_CURRENT_SEASON_FLAG  4500 non-null   object \n",
      " 18  TEAM_ID                           4500 non-null   object \n",
      " 19  TEAM_NAME                         4500 non-null   object \n",
      " 20  TEAM_ABBREVIATION                 4500 non-null   object \n",
      " 21  TEAM_CODE                         4500 non-null   object \n",
      " 22  TEAM_CITY                         4500 non-null   object \n",
      " 23  PLAYERCODE                        4500 non-null   object \n",
      " 24  FROM_YEAR                         4500 non-null   object \n",
      " 25  TO_YEAR                           4500 non-null   object \n",
      " 26  DLEAGUE_FLAG                      4500 non-null   object \n",
      " 27  NBA_FLAG                          4500 non-null   object \n",
      " 28  GAMES_PLAYED_FLAG                 4500 non-null   object \n",
      " 29  DRAFT_YEAR                        4500 non-null   object \n",
      " 30  DRAFT_ROUND                       4500 non-null   object \n",
      " 31  DRAFT_NUMBER                      4500 non-null   object \n",
      " 32  PTS                               4485 non-null   float64\n",
      " 33  AST                               4485 non-null   float64\n",
      " 34  REB                               4193 non-null   float64\n",
      " 35  ALL_STAR_APPEARANCES              4056 non-null   float64\n",
      " 36  PIE                               429 non-null    float64\n",
      "dtypes: float64(7), int64(1), object(29)\n",
      "memory usage: 1.3+ MB\n"
     ]
    }
   ],
   "source": [
    "player_attributes.info()"
   ]
  },
  {
   "cell_type": "markdown",
   "id": "64995cb1",
   "metadata": {},
   "source": [
    "The Player Attribute table has 4500 rows and 37 columns. Each row is for a distinct player and the columns include the player's id, name, birthdate, school, team, etc."
   ]
  },
  {
   "cell_type": "code",
   "execution_count": 18,
   "id": "71067dc3",
   "metadata": {},
   "outputs": [
    {
     "data": {
      "image/png": "[encoded data removed]",
      "text/plain": [
       "<Figure size 432x288 with 1 Axes>"
      ]
     },
     "metadata": {
      "needs_background": "light"
     },
     "output_type": "display_data"
    }
   ],
   "source": [
    "import matplotlib.pyplot as plt\n",
    "\n",
    "plt.figure()\n",
    "player_attributes.boxplot([\"HEIGHT\"])\n",
    "plt.title(\"Box Plot For Height\")\n",
    "plt.show()"
   ]
  },
  {
   "cell_type": "code",
   "execution_count": 19,
   "id": "f7ca6076",
   "metadata": {},
   "outputs": [
    {
     "data": {
      "image/png": "[encoded data removed]",
      "text/plain": [
       "<Figure size 432x288 with 1 Axes>"
      ]
     },
     "metadata": {
      "needs_background": "light"
     },
     "output_type": "display_data"
    }
   ],
   "source": [
    "plt.figure()\n",
    "player_attributes.boxplot([\"WEIGHT\"])\n",
    "plt.title(\"Box Plot For Weight\")\n",
    "plt.show()"
   ]
  },
  {
   "cell_type": "markdown",
   "id": "04651a04",
   "metadata": {},
   "source": [
    "The players' average height is around 78 inches and average weight is around 210 pounds."
   ]
  },
  {
   "cell_type": "code",
   "execution_count": 20,
   "id": "e02d6478",
   "metadata": {},
   "outputs": [
    {
     "data": {
      "text/html": [
       "<div>\n",
       "<style scoped>\n",
       "    .dataframe tbody tr th:only-of-type {\n",
       "        vertical-align: middle;\n",
       "    }\n",
       "\n",
       "    .dataframe tbody tr th {\n",
       "        vertical-align: top;\n",
       "    }\n",
       "\n",
       "    .dataframe thead th {\n",
       "        text-align: right;\n",
       "    }\n",
       "</style>\n",
       "<table border=\"1\" class=\"dataframe\">\n",
       "  <thead>\n",
       "    <tr style=\"text-align: right;\">\n",
       "      <th></th>\n",
       "      <th>TEAM_ID</th>\n",
       "      <th>TEAM_NAME</th>\n",
       "      <th>Count</th>\n",
       "    </tr>\n",
       "  </thead>\n",
       "  <tbody>\n",
       "    <tr>\n",
       "      <th>0</th>\n",
       "      <td>0</td>\n",
       "      <td></td>\n",
       "      <td>664</td>\n",
       "    </tr>\n",
       "    <tr>\n",
       "      <th>1</th>\n",
       "      <td>1610612744</td>\n",
       "      <td>Warriors</td>\n",
       "      <td>216</td>\n",
       "    </tr>\n",
       "    <tr>\n",
       "      <th>2</th>\n",
       "      <td>1610612752</td>\n",
       "      <td>Knicks</td>\n",
       "      <td>203</td>\n",
       "    </tr>\n",
       "    <tr>\n",
       "      <th>3</th>\n",
       "      <td>1610612765</td>\n",
       "      <td>Pistons</td>\n",
       "      <td>202</td>\n",
       "    </tr>\n",
       "    <tr>\n",
       "      <th>4</th>\n",
       "      <td>1610612737</td>\n",
       "      <td>Hawks</td>\n",
       "      <td>201</td>\n",
       "    </tr>\n",
       "  </tbody>\n",
       "</table>\n",
       "</div>"
      ],
      "text/plain": [
       "      TEAM_ID TEAM_NAME  Count\n",
       "0           0              664\n",
       "1  1610612744  Warriors    216\n",
       "2  1610612752    Knicks    203\n",
       "3  1610612765   Pistons    202\n",
       "4  1610612737     Hawks    201"
      ]
     },
     "execution_count": 20,
     "metadata": {},
     "output_type": "execute_result"
    }
   ],
   "source": [
    "query = \\\n",
    "    '''\n",
    "    SELECT Team_id, Team_name, count(*) as Count from Player_Attributes \n",
    "    GROUP BY Team_name \n",
    "    ORDER BY Count DESC;\n",
    "    '''\n",
    "cursor.execute(query)\n",
    "cols = [column[0] for column in cursor.description]\n",
    "team_info1 = pd.DataFrame.from_records(data = cursor.fetchall(), columns = cols)\n",
    "team_info1.head()"
   ]
  },
  {
   "cell_type": "code",
   "execution_count": 21,
   "id": "8cb5e73e",
   "metadata": {},
   "outputs": [
    {
     "data": {
      "text/html": [
       "<div>\n",
       "<style scoped>\n",
       "    .dataframe tbody tr th:only-of-type {\n",
       "        vertical-align: middle;\n",
       "    }\n",
       "\n",
       "    .dataframe tbody tr th {\n",
       "        vertical-align: top;\n",
       "    }\n",
       "\n",
       "    .dataframe thead th {\n",
       "        text-align: right;\n",
       "    }\n",
       "</style>\n",
       "<table border=\"1\" class=\"dataframe\">\n",
       "  <thead>\n",
       "    <tr style=\"text-align: right;\">\n",
       "      <th></th>\n",
       "      <th>TEAM_ID</th>\n",
       "      <th>TEAM_NAME</th>\n",
       "      <th>Count</th>\n",
       "    </tr>\n",
       "  </thead>\n",
       "  <tbody>\n",
       "    <tr>\n",
       "      <th>0</th>\n",
       "      <td>1610612764</td>\n",
       "      <td>Zephyrs</td>\n",
       "      <td>6</td>\n",
       "    </tr>\n",
       "    <tr>\n",
       "      <th>1</th>\n",
       "      <td>1610612737</td>\n",
       "      <td>Blackhawks</td>\n",
       "      <td>10</td>\n",
       "    </tr>\n",
       "    <tr>\n",
       "      <th>2</th>\n",
       "      <td>1610610026</td>\n",
       "      <td>Rebels</td>\n",
       "      <td>10</td>\n",
       "    </tr>\n",
       "    <tr>\n",
       "      <th>3</th>\n",
       "      <td>1610612764</td>\n",
       "      <td>Packers</td>\n",
       "      <td>11</td>\n",
       "    </tr>\n",
       "    <tr>\n",
       "      <th>4</th>\n",
       "      <td>1610610028</td>\n",
       "      <td>Falcons</td>\n",
       "      <td>12</td>\n",
       "    </tr>\n",
       "  </tbody>\n",
       "</table>\n",
       "</div>"
      ],
      "text/plain": [
       "      TEAM_ID   TEAM_NAME  Count\n",
       "0  1610612764     Zephyrs      6\n",
       "1  1610612737  Blackhawks     10\n",
       "2  1610610026      Rebels     10\n",
       "3  1610612764     Packers     11\n",
       "4  1610610028     Falcons     12"
      ]
     },
     "execution_count": 21,
     "metadata": {},
     "output_type": "execute_result"
    }
   ],
   "source": [
    "query = \\\n",
    "    '''\n",
    "    SELECT Team_id, Team_name, count(*) as Count from Player_Attributes \n",
    "    GROUP BY Team_name \n",
    "    ORDER BY Count ASC;'\n",
    "    '''\n",
    "cursor.execute(query)\n",
    "cols = [column[0] for column in cursor.description]\n",
    "team_info2 = pd.DataFrame.from_records(data = cursor.fetchall(), columns = cols)\n",
    "team_info2.head()"
   ]
  },
  {
   "cell_type": "markdown",
   "id": "e3bef571",
   "metadata": {},
   "source": [
    "There are 664 players who don't belong to any team, or the team information is missing. Apart from this, we order the table by the number of each team's members. We find the team named Warriors has the maximum number of members while Zephyrs has the minimum number."
   ]
  },
  {
   "cell_type": "markdown",
   "id": "01497e49",
   "metadata": {},
   "source": [
    "### 4.3 Player_Salary Table"
   ]
  },
  {
   "cell_type": "code",
   "execution_count": 22,
   "id": "cb6215d5",
   "metadata": {},
   "outputs": [
    {
     "data": {
      "text/html": [
       "<div>\n",
       "<style scoped>\n",
       "    .dataframe tbody tr th:only-of-type {\n",
       "        vertical-align: middle;\n",
       "    }\n",
       "\n",
       "    .dataframe tbody tr th {\n",
       "        vertical-align: top;\n",
       "    }\n",
       "\n",
       "    .dataframe thead th {\n",
       "        text-align: right;\n",
       "    }\n",
       "</style>\n",
       "<table border=\"1\" class=\"dataframe\">\n",
       "  <thead>\n",
       "    <tr style=\"text-align: right;\">\n",
       "      <th></th>\n",
       "      <th>slugSeason</th>\n",
       "      <th>nameTeam</th>\n",
       "      <th>namePlayer</th>\n",
       "      <th>statusPlayer</th>\n",
       "      <th>isFinalSeason</th>\n",
       "      <th>isWaived</th>\n",
       "      <th>isOnRoster</th>\n",
       "      <th>isNonGuaranteed</th>\n",
       "      <th>isTeamOption</th>\n",
       "      <th>isPlayerOption</th>\n",
       "      <th>typeContractDetail</th>\n",
       "      <th>value</th>\n",
       "    </tr>\n",
       "  </thead>\n",
       "  <tbody>\n",
       "    <tr>\n",
       "      <th>0</th>\n",
       "      <td>2020-21</td>\n",
       "      <td>Atlanta Hawks</td>\n",
       "      <td>Bogdan Bogdanovic</td>\n",
       "      <td>current roster</td>\n",
       "      <td>0</td>\n",
       "      <td>0</td>\n",
       "      <td>1</td>\n",
       "      <td>0</td>\n",
       "      <td>0</td>\n",
       "      <td>0</td>\n",
       "      <td>Guaranteed</td>\n",
       "      <td>18000000.0</td>\n",
       "    </tr>\n",
       "    <tr>\n",
       "      <th>1</th>\n",
       "      <td>2021-22</td>\n",
       "      <td>Atlanta Hawks</td>\n",
       "      <td>Bogdan Bogdanovic</td>\n",
       "      <td>current roster</td>\n",
       "      <td>0</td>\n",
       "      <td>0</td>\n",
       "      <td>1</td>\n",
       "      <td>0</td>\n",
       "      <td>0</td>\n",
       "      <td>0</td>\n",
       "      <td>Guaranteed</td>\n",
       "      <td>18000000.0</td>\n",
       "    </tr>\n",
       "    <tr>\n",
       "      <th>2</th>\n",
       "      <td>2022-23</td>\n",
       "      <td>Atlanta Hawks</td>\n",
       "      <td>Bogdan Bogdanovic</td>\n",
       "      <td>current roster</td>\n",
       "      <td>0</td>\n",
       "      <td>0</td>\n",
       "      <td>1</td>\n",
       "      <td>0</td>\n",
       "      <td>0</td>\n",
       "      <td>0</td>\n",
       "      <td>Guaranteed</td>\n",
       "      <td>18000000.0</td>\n",
       "    </tr>\n",
       "    <tr>\n",
       "      <th>3</th>\n",
       "      <td>2023-24</td>\n",
       "      <td>Atlanta Hawks</td>\n",
       "      <td>Bogdan Bogdanovic</td>\n",
       "      <td>current roster</td>\n",
       "      <td>1</td>\n",
       "      <td>0</td>\n",
       "      <td>1</td>\n",
       "      <td>0</td>\n",
       "      <td>0</td>\n",
       "      <td>1</td>\n",
       "      <td>Player Option</td>\n",
       "      <td>18000000.0</td>\n",
       "    </tr>\n",
       "    <tr>\n",
       "      <th>4</th>\n",
       "      <td>2020-21</td>\n",
       "      <td>Atlanta Hawks</td>\n",
       "      <td>Brandon Goodwin</td>\n",
       "      <td>current roster</td>\n",
       "      <td>0</td>\n",
       "      <td>0</td>\n",
       "      <td>1</td>\n",
       "      <td>0</td>\n",
       "      <td>0</td>\n",
       "      <td>0</td>\n",
       "      <td>Guaranteed</td>\n",
       "      <td>1701593.0</td>\n",
       "    </tr>\n",
       "  </tbody>\n",
       "</table>\n",
       "</div>"
      ],
      "text/plain": [
       "  slugSeason       nameTeam         namePlayer    statusPlayer  isFinalSeason  \\\n",
       "0    2020-21  Atlanta Hawks  Bogdan Bogdanovic  current roster              0   \n",
       "1    2021-22  Atlanta Hawks  Bogdan Bogdanovic  current roster              0   \n",
       "2    2022-23  Atlanta Hawks  Bogdan Bogdanovic  current roster              0   \n",
       "3    2023-24  Atlanta Hawks  Bogdan Bogdanovic  current roster              1   \n",
       "4    2020-21  Atlanta Hawks    Brandon Goodwin  current roster              0   \n",
       "\n",
       "   isWaived  isOnRoster  isNonGuaranteed  isTeamOption  isPlayerOption  \\\n",
       "0         0           1                0             0               0   \n",
       "1         0           1                0             0               0   \n",
       "2         0           1                0             0               0   \n",
       "3         0           1                0             0               1   \n",
       "4         0           1                0             0               0   \n",
       "\n",
       "  typeContractDetail       value  \n",
       "0         Guaranteed  18000000.0  \n",
       "1         Guaranteed  18000000.0  \n",
       "2         Guaranteed  18000000.0  \n",
       "3      Player Option  18000000.0  \n",
       "4         Guaranteed   1701593.0  "
      ]
     },
     "execution_count": 22,
     "metadata": {},
     "output_type": "execute_result"
    }
   ],
   "source": [
    "query = 'SELECT * from Player_Salary'\n",
    "cursor.execute(query)\n",
    "cols = [column[0] for column in cursor.description]\n",
    "player_salary = pd.DataFrame.from_records(data = cursor.fetchall(), columns = cols)\n",
    "player_salary.head()"
   ]
  },
  {
   "cell_type": "code",
   "execution_count": 23,
   "id": "0ac7a2eb",
   "metadata": {},
   "outputs": [
    {
     "name": "stdout",
     "output_type": "stream",
     "text": [
      "<class 'pandas.core.frame.DataFrame'>\n",
      "RangeIndex: 1292 entries, 0 to 1291\n",
      "Data columns (total 12 columns):\n",
      " #   Column              Non-Null Count  Dtype  \n",
      "---  ------              --------------  -----  \n",
      " 0   slugSeason          1292 non-null   object \n",
      " 1   nameTeam            1292 non-null   object \n",
      " 2   namePlayer          1292 non-null   object \n",
      " 3   statusPlayer        1292 non-null   object \n",
      " 4   isFinalSeason       1292 non-null   int64  \n",
      " 5   isWaived            1292 non-null   int64  \n",
      " 6   isOnRoster          1292 non-null   int64  \n",
      " 7   isNonGuaranteed     1292 non-null   int64  \n",
      " 8   isTeamOption        1292 non-null   int64  \n",
      " 9   isPlayerOption      1292 non-null   int64  \n",
      " 10  typeContractDetail  1292 non-null   object \n",
      " 11  value               1292 non-null   float64\n",
      "dtypes: float64(1), int64(6), object(5)\n",
      "memory usage: 121.2+ KB\n"
     ]
    }
   ],
   "source": [
    "player_salary.info()"
   ]
  },
  {
   "cell_type": "markdown",
   "id": "4cc2f747",
   "metadata": {},
   "source": [
    "This table has 1292 rows and 12 columns. Then we draw a histogram to find the distribution of player's salary."
   ]
  },
  {
   "cell_type": "code",
   "execution_count": 24,
   "id": "f5064354",
   "metadata": {},
   "outputs": [
    {
     "data": {
      "image/png": "[encoded data removed]",
      "text/plain": [
       "<Figure size 864x576 with 1 Axes>"
      ]
     },
     "metadata": {
      "needs_background": "light"
     },
     "output_type": "display_data"
    }
   ],
   "source": [
    "player_salary.dropna(axis=0)\n",
    "plt.figure(figsize=(12,8))\n",
    "plt.hist(x=player_salary['value'], color=\"lightpink\", density=True)\n",
    "plt.title(\"Histogram for Players' Salary\")\n",
    "plt.show()"
   ]
  },
  {
   "cell_type": "code",
   "execution_count": 25,
   "id": "b88d3770",
   "metadata": {},
   "outputs": [
    {
     "name": "stdout",
     "output_type": "stream",
     "text": [
      "48787676.0 25000.0\n"
     ]
    }
   ],
   "source": [
    "print(max(player_salary['value']), min(player_salary['value']))"
   ]
  },
  {
   "cell_type": "markdown",
   "id": "41f726a4",
   "metadata": {},
   "source": [
    "The distribution of players' salary is highly right skewed. Only a very small number of players can get high salaries. The maximum salary is 48787676 dollars and the minimum salary is 25000 dollars."
   ]
  },
  {
   "cell_type": "markdown",
   "id": "8966331a",
   "metadata": {},
   "source": [
    "### 4.4 Player_Photos Table"
   ]
  },
  {
   "cell_type": "code",
   "execution_count": 26,
   "id": "232da354",
   "metadata": {},
   "outputs": [
    {
     "data": {
      "text/html": [
       "<div>\n",
       "<style scoped>\n",
       "    .dataframe tbody tr th:only-of-type {\n",
       "        vertical-align: middle;\n",
       "    }\n",
       "\n",
       "    .dataframe tbody tr th {\n",
       "        vertical-align: top;\n",
       "    }\n",
       "\n",
       "    .dataframe thead th {\n",
       "        text-align: right;\n",
       "    }\n",
       "</style>\n",
       "<table border=\"1\" class=\"dataframe\">\n",
       "  <thead>\n",
       "    <tr style=\"text-align: right;\">\n",
       "      <th></th>\n",
       "      <th>isActive</th>\n",
       "      <th>isRookie</th>\n",
       "      <th>namePlayer</th>\n",
       "      <th>idPlayer</th>\n",
       "      <th>countSeasons</th>\n",
       "      <th>yearSeasonFirst</th>\n",
       "      <th>yearSeasonLast</th>\n",
       "      <th>idTeam</th>\n",
       "      <th>hasGamesPlayedFlag</th>\n",
       "      <th>urlPlayerStats</th>\n",
       "      <th>urlPlayerThumbnail</th>\n",
       "      <th>urlPlayerHeadshot</th>\n",
       "      <th>urlPlayerActionPhoto</th>\n",
       "      <th>hasHeadShot</th>\n",
       "      <th>hasThumbnail</th>\n",
       "      <th>hasAction</th>\n",
       "      <th>urlPlayerPhoto</th>\n",
       "    </tr>\n",
       "  </thead>\n",
       "  <tbody>\n",
       "    <tr>\n",
       "      <th>0</th>\n",
       "      <td>0</td>\n",
       "      <td>0</td>\n",
       "      <td>Alaa Abdelnaby</td>\n",
       "      <td>76001.0</td>\n",
       "      <td>4.0</td>\n",
       "      <td>1990.0</td>\n",
       "      <td>1994.0</td>\n",
       "      <td>NaN</td>\n",
       "      <td>0</td>\n",
       "      <td>https://stats.nba.com/player/76001</td>\n",
       "      <td>https://stats.nba.com/media/players/230x185/76...</td>\n",
       "      <td>https://ak-static.cms.nba.com/wp-content/uploa...</td>\n",
       "      <td>https://stats.nba.com/media/players/700/76001.png</td>\n",
       "      <td>0.0</td>\n",
       "      <td>1.0</td>\n",
       "      <td>1.0</td>\n",
       "      <td>https://stats.nba.com/media/players/230x185/76...</td>\n",
       "    </tr>\n",
       "    <tr>\n",
       "      <th>1</th>\n",
       "      <td>0</td>\n",
       "      <td>0</td>\n",
       "      <td>Zaid Abdul-Aziz</td>\n",
       "      <td>76002.0</td>\n",
       "      <td>9.0</td>\n",
       "      <td>1968.0</td>\n",
       "      <td>1977.0</td>\n",
       "      <td>NaN</td>\n",
       "      <td>0</td>\n",
       "      <td>https://stats.nba.com/player/76002</td>\n",
       "      <td>https://stats.nba.com/media/players/230x185/76...</td>\n",
       "      <td>https://ak-static.cms.nba.com/wp-content/uploa...</td>\n",
       "      <td>https://stats.nba.com/media/players/700/76002.png</td>\n",
       "      <td>0.0</td>\n",
       "      <td>1.0</td>\n",
       "      <td>1.0</td>\n",
       "      <td>https://stats.nba.com/media/players/230x185/76...</td>\n",
       "    </tr>\n",
       "    <tr>\n",
       "      <th>2</th>\n",
       "      <td>0</td>\n",
       "      <td>0</td>\n",
       "      <td>Kareem Abdul-Jabbar</td>\n",
       "      <td>76003.0</td>\n",
       "      <td>19.0</td>\n",
       "      <td>1969.0</td>\n",
       "      <td>1988.0</td>\n",
       "      <td>NaN</td>\n",
       "      <td>0</td>\n",
       "      <td>https://stats.nba.com/player/76003</td>\n",
       "      <td>https://stats.nba.com/media/players/230x185/76...</td>\n",
       "      <td>https://ak-static.cms.nba.com/wp-content/uploa...</td>\n",
       "      <td>https://stats.nba.com/media/players/700/76003.png</td>\n",
       "      <td>1.0</td>\n",
       "      <td>1.0</td>\n",
       "      <td>1.0</td>\n",
       "      <td>https://ak-static.cms.nba.com/wp-content/uploa...</td>\n",
       "    </tr>\n",
       "    <tr>\n",
       "      <th>3</th>\n",
       "      <td>0</td>\n",
       "      <td>0</td>\n",
       "      <td>Mahmoud Abdul-Rauf</td>\n",
       "      <td>51.0</td>\n",
       "      <td>10.0</td>\n",
       "      <td>1990.0</td>\n",
       "      <td>2000.0</td>\n",
       "      <td>NaN</td>\n",
       "      <td>0</td>\n",
       "      <td>https://stats.nba.com/player/51</td>\n",
       "      <td>https://stats.nba.com/media/players/230x185/51...</td>\n",
       "      <td>https://ak-static.cms.nba.com/wp-content/uploa...</td>\n",
       "      <td>https://stats.nba.com/media/players/700/51.png</td>\n",
       "      <td>0.0</td>\n",
       "      <td>1.0</td>\n",
       "      <td>1.0</td>\n",
       "      <td>https://stats.nba.com/media/players/230x185/51...</td>\n",
       "    </tr>\n",
       "    <tr>\n",
       "      <th>4</th>\n",
       "      <td>0</td>\n",
       "      <td>0</td>\n",
       "      <td>Tariq Abdul-Wahad</td>\n",
       "      <td>1505.0</td>\n",
       "      <td>6.0</td>\n",
       "      <td>1997.0</td>\n",
       "      <td>2003.0</td>\n",
       "      <td>NaN</td>\n",
       "      <td>0</td>\n",
       "      <td>https://stats.nba.com/player/1505</td>\n",
       "      <td>https://stats.nba.com/media/players/230x185/15...</td>\n",
       "      <td>https://ak-static.cms.nba.com/wp-content/uploa...</td>\n",
       "      <td>https://stats.nba.com/media/players/700/1505.png</td>\n",
       "      <td>0.0</td>\n",
       "      <td>1.0</td>\n",
       "      <td>1.0</td>\n",
       "      <td>https://stats.nba.com/media/players/230x185/15...</td>\n",
       "    </tr>\n",
       "  </tbody>\n",
       "</table>\n",
       "</div>"
      ],
      "text/plain": [
       "   isActive  isRookie           namePlayer  idPlayer  countSeasons  \\\n",
       "0         0         0       Alaa Abdelnaby   76001.0           4.0   \n",
       "1         0         0      Zaid Abdul-Aziz   76002.0           9.0   \n",
       "2         0         0  Kareem Abdul-Jabbar   76003.0          19.0   \n",
       "3         0         0   Mahmoud Abdul-Rauf      51.0          10.0   \n",
       "4         0         0    Tariq Abdul-Wahad    1505.0           6.0   \n",
       "\n",
       "   yearSeasonFirst  yearSeasonLast  idTeam  hasGamesPlayedFlag  \\\n",
       "0           1990.0          1994.0     NaN                   0   \n",
       "1           1968.0          1977.0     NaN                   0   \n",
       "2           1969.0          1988.0     NaN                   0   \n",
       "3           1990.0          2000.0     NaN                   0   \n",
       "4           1997.0          2003.0     NaN                   0   \n",
       "\n",
       "                       urlPlayerStats  \\\n",
       "0  https://stats.nba.com/player/76001   \n",
       "1  https://stats.nba.com/player/76002   \n",
       "2  https://stats.nba.com/player/76003   \n",
       "3     https://stats.nba.com/player/51   \n",
       "4   https://stats.nba.com/player/1505   \n",
       "\n",
       "                                  urlPlayerThumbnail  \\\n",
       "0  https://stats.nba.com/media/players/230x185/76...   \n",
       "1  https://stats.nba.com/media/players/230x185/76...   \n",
       "2  https://stats.nba.com/media/players/230x185/76...   \n",
       "3  https://stats.nba.com/media/players/230x185/51...   \n",
       "4  https://stats.nba.com/media/players/230x185/15...   \n",
       "\n",
       "                                   urlPlayerHeadshot  \\\n",
       "0  https://ak-static.cms.nba.com/wp-content/uploa...   \n",
       "1  https://ak-static.cms.nba.com/wp-content/uploa...   \n",
       "2  https://ak-static.cms.nba.com/wp-content/uploa...   \n",
       "3  https://ak-static.cms.nba.com/wp-content/uploa...   \n",
       "4  https://ak-static.cms.nba.com/wp-content/uploa...   \n",
       "\n",
       "                                urlPlayerActionPhoto  hasHeadShot  \\\n",
       "0  https://stats.nba.com/media/players/700/76001.png          0.0   \n",
       "1  https://stats.nba.com/media/players/700/76002.png          0.0   \n",
       "2  https://stats.nba.com/media/players/700/76003.png          1.0   \n",
       "3     https://stats.nba.com/media/players/700/51.png          0.0   \n",
       "4   https://stats.nba.com/media/players/700/1505.png          0.0   \n",
       "\n",
       "   hasThumbnail  hasAction                                     urlPlayerPhoto  \n",
       "0           1.0        1.0  https://stats.nba.com/media/players/230x185/76...  \n",
       "1           1.0        1.0  https://stats.nba.com/media/players/230x185/76...  \n",
       "2           1.0        1.0  https://ak-static.cms.nba.com/wp-content/uploa...  \n",
       "3           1.0        1.0  https://stats.nba.com/media/players/230x185/51...  \n",
       "4           1.0        1.0  https://stats.nba.com/media/players/230x185/15...  "
      ]
     },
     "execution_count": 26,
     "metadata": {},
     "output_type": "execute_result"
    }
   ],
   "source": [
    "query = 'SELECT * from Player_Photos'\n",
    "cursor.execute(query)\n",
    "cols = [column[0] for column in cursor.description]\n",
    "player_photos = pd.DataFrame.from_records(data = cursor.fetchall(), columns = cols)\n",
    "player_photos.head()"
   ]
  },
  {
   "cell_type": "code",
   "execution_count": 27,
   "id": "7240879a",
   "metadata": {},
   "outputs": [
    {
     "name": "stdout",
     "output_type": "stream",
     "text": [
      "<class 'pandas.core.frame.DataFrame'>\n",
      "RangeIndex: 4593 entries, 0 to 4592\n",
      "Data columns (total 17 columns):\n",
      " #   Column                Non-Null Count  Dtype  \n",
      "---  ------                --------------  -----  \n",
      " 0   isActive              4593 non-null   int64  \n",
      " 1   isRookie              4593 non-null   int64  \n",
      " 2   namePlayer            4593 non-null   object \n",
      " 3   idPlayer              4593 non-null   float64\n",
      " 4   countSeasons          4593 non-null   float64\n",
      " 5   yearSeasonFirst       4593 non-null   float64\n",
      " 6   yearSeasonLast        4593 non-null   float64\n",
      " 7   idTeam                491 non-null    float64\n",
      " 8   hasGamesPlayedFlag    4593 non-null   int64  \n",
      " 9   urlPlayerStats        4593 non-null   object \n",
      " 10  urlPlayerThumbnail    4593 non-null   object \n",
      " 11  urlPlayerHeadshot     4593 non-null   object \n",
      " 12  urlPlayerActionPhoto  4593 non-null   object \n",
      " 13  hasHeadShot           4378 non-null   float64\n",
      " 14  hasThumbnail          4378 non-null   float64\n",
      " 15  hasAction             4378 non-null   float64\n",
      " 16  urlPlayerPhoto        4593 non-null   object \n",
      "dtypes: float64(8), int64(3), object(6)\n",
      "memory usage: 610.1+ KB\n"
     ]
    }
   ],
   "source": [
    "player_photos.info()"
   ]
  },
  {
   "cell_type": "markdown",
   "id": "9fe3c805",
   "metadata": {},
   "source": [
    "This table has 4593 rows and 17 columns. Each row contains one player and the public link to his photo."
   ]
  },
  {
   "cell_type": "markdown",
   "id": "ef6d9fb2",
   "metadata": {},
   "source": [
    "### 4.5 Player_Bios Table"
   ]
  },
  {
   "cell_type": "code",
   "execution_count": 28,
   "id": "a918e38d",
   "metadata": {},
   "outputs": [
    {
     "data": {
      "text/html": [
       "<div>\n",
       "<style scoped>\n",
       "    .dataframe tbody tr th:only-of-type {\n",
       "        vertical-align: middle;\n",
       "    }\n",
       "\n",
       "    .dataframe tbody tr th {\n",
       "        vertical-align: top;\n",
       "    }\n",
       "\n",
       "    .dataframe thead th {\n",
       "        text-align: right;\n",
       "    }\n",
       "</style>\n",
       "<table border=\"1\" class=\"dataframe\">\n",
       "  <thead>\n",
       "    <tr style=\"text-align: right;\">\n",
       "      <th></th>\n",
       "      <th>namePlayerBREF</th>\n",
       "      <th>urlPlayerBioBREF</th>\n",
       "      <th>nameTable</th>\n",
       "      <th>urlPlayerImageBREF</th>\n",
       "      <th>slugPlayerBREF</th>\n",
       "      <th>numberTransactionPlayer</th>\n",
       "      <th>dateTransaction</th>\n",
       "      <th>descriptionTransaction</th>\n",
       "      <th>isGLeagueMovement</th>\n",
       "      <th>isDraft</th>\n",
       "      <th>...</th>\n",
       "      <th>yearsExperience</th>\n",
       "      <th>nameTwitter</th>\n",
       "      <th>yearHighSchool</th>\n",
       "      <th>rankHighSchool</th>\n",
       "      <th>dateDeath</th>\n",
       "      <th>high schools</th>\n",
       "      <th>descriptionRelatives</th>\n",
       "      <th>descriptionHOF</th>\n",
       "      <th>playerNicknames</th>\n",
       "      <th>colleges</th>\n",
       "    </tr>\n",
       "  </thead>\n",
       "  <tbody>\n",
       "    <tr>\n",
       "      <th>0</th>\n",
       "      <td>A.C. Green</td>\n",
       "      <td>https://www.basketball-reference.com/players/g...</td>\n",
       "      <td>Transactions</td>\n",
       "      <td>https://www.basketball-reference.com/req/20210...</td>\n",
       "      <td>greenac01</td>\n",
       "      <td>1.0</td>\n",
       "      <td>5647.0</td>\n",
       "      <td>Drafted by the Los Angeles Lakers in the 1st r...</td>\n",
       "      <td>0.0</td>\n",
       "      <td>1.0</td>\n",
       "      <td>...</td>\n",
       "      <td>NaN</td>\n",
       "      <td>None</td>\n",
       "      <td>NaN</td>\n",
       "      <td>NaN</td>\n",
       "      <td>NaN</td>\n",
       "      <td>None</td>\n",
       "      <td>None</td>\n",
       "      <td>None</td>\n",
       "      <td>None</td>\n",
       "      <td>None</td>\n",
       "    </tr>\n",
       "    <tr>\n",
       "      <th>1</th>\n",
       "      <td>A.C. Green</td>\n",
       "      <td>https://www.basketball-reference.com/players/g...</td>\n",
       "      <td>Transactions</td>\n",
       "      <td>https://www.basketball-reference.com/req/20210...</td>\n",
       "      <td>greenac01</td>\n",
       "      <td>2.0</td>\n",
       "      <td>8602.0</td>\n",
       "      <td>Released by the Los Angeles Lakers.</td>\n",
       "      <td>0.0</td>\n",
       "      <td>0.0</td>\n",
       "      <td>...</td>\n",
       "      <td>NaN</td>\n",
       "      <td>None</td>\n",
       "      <td>NaN</td>\n",
       "      <td>NaN</td>\n",
       "      <td>NaN</td>\n",
       "      <td>None</td>\n",
       "      <td>None</td>\n",
       "      <td>None</td>\n",
       "      <td>None</td>\n",
       "      <td>None</td>\n",
       "    </tr>\n",
       "    <tr>\n",
       "      <th>2</th>\n",
       "      <td>A.C. Green</td>\n",
       "      <td>https://www.basketball-reference.com/players/g...</td>\n",
       "      <td>Transactions</td>\n",
       "      <td>https://www.basketball-reference.com/req/20210...</td>\n",
       "      <td>greenac01</td>\n",
       "      <td>3.0</td>\n",
       "      <td>8671.0</td>\n",
       "      <td>Signed as an unrestricted free agent with the ...</td>\n",
       "      <td>0.0</td>\n",
       "      <td>0.0</td>\n",
       "      <td>...</td>\n",
       "      <td>NaN</td>\n",
       "      <td>None</td>\n",
       "      <td>NaN</td>\n",
       "      <td>NaN</td>\n",
       "      <td>NaN</td>\n",
       "      <td>None</td>\n",
       "      <td>None</td>\n",
       "      <td>None</td>\n",
       "      <td>None</td>\n",
       "      <td>None</td>\n",
       "    </tr>\n",
       "    <tr>\n",
       "      <th>3</th>\n",
       "      <td>A.C. Green</td>\n",
       "      <td>https://www.basketball-reference.com/players/g...</td>\n",
       "      <td>Transactions</td>\n",
       "      <td>https://www.basketball-reference.com/req/20210...</td>\n",
       "      <td>greenac01</td>\n",
       "      <td>4.0</td>\n",
       "      <td>9856.0</td>\n",
       "      <td>Traded by the Phoenix Suns with Sam Cassell, M...</td>\n",
       "      <td>0.0</td>\n",
       "      <td>0.0</td>\n",
       "      <td>...</td>\n",
       "      <td>NaN</td>\n",
       "      <td>None</td>\n",
       "      <td>NaN</td>\n",
       "      <td>NaN</td>\n",
       "      <td>NaN</td>\n",
       "      <td>None</td>\n",
       "      <td>None</td>\n",
       "      <td>None</td>\n",
       "      <td>None</td>\n",
       "      <td>None</td>\n",
       "    </tr>\n",
       "    <tr>\n",
       "      <th>4</th>\n",
       "      <td>A.C. Green</td>\n",
       "      <td>https://www.basketball-reference.com/players/g...</td>\n",
       "      <td>Transactions</td>\n",
       "      <td>https://www.basketball-reference.com/req/20210...</td>\n",
       "      <td>greenac01</td>\n",
       "      <td>5.0</td>\n",
       "      <td>10835.0</td>\n",
       "      <td>Traded by the Dallas Mavericks to the Los Ange...</td>\n",
       "      <td>0.0</td>\n",
       "      <td>0.0</td>\n",
       "      <td>...</td>\n",
       "      <td>NaN</td>\n",
       "      <td>None</td>\n",
       "      <td>NaN</td>\n",
       "      <td>NaN</td>\n",
       "      <td>NaN</td>\n",
       "      <td>None</td>\n",
       "      <td>None</td>\n",
       "      <td>None</td>\n",
       "      <td>None</td>\n",
       "      <td>None</td>\n",
       "    </tr>\n",
       "  </tbody>\n",
       "</table>\n",
       "<p>5 rows × 40 columns</p>\n",
       "</div>"
      ],
      "text/plain": [
       "  namePlayerBREF                                   urlPlayerBioBREF  \\\n",
       "0     A.C. Green  https://www.basketball-reference.com/players/g...   \n",
       "1     A.C. Green  https://www.basketball-reference.com/players/g...   \n",
       "2     A.C. Green  https://www.basketball-reference.com/players/g...   \n",
       "3     A.C. Green  https://www.basketball-reference.com/players/g...   \n",
       "4     A.C. Green  https://www.basketball-reference.com/players/g...   \n",
       "\n",
       "      nameTable                                 urlPlayerImageBREF  \\\n",
       "0  Transactions  https://www.basketball-reference.com/req/20210...   \n",
       "1  Transactions  https://www.basketball-reference.com/req/20210...   \n",
       "2  Transactions  https://www.basketball-reference.com/req/20210...   \n",
       "3  Transactions  https://www.basketball-reference.com/req/20210...   \n",
       "4  Transactions  https://www.basketball-reference.com/req/20210...   \n",
       "\n",
       "  slugPlayerBREF  numberTransactionPlayer  dateTransaction  \\\n",
       "0      greenac01                      1.0           5647.0   \n",
       "1      greenac01                      2.0           8602.0   \n",
       "2      greenac01                      3.0           8671.0   \n",
       "3      greenac01                      4.0           9856.0   \n",
       "4      greenac01                      5.0          10835.0   \n",
       "\n",
       "                              descriptionTransaction  isGLeagueMovement  \\\n",
       "0  Drafted by the Los Angeles Lakers in the 1st r...                0.0   \n",
       "1                Released by the Los Angeles Lakers.                0.0   \n",
       "2  Signed as an unrestricted free agent with the ...                0.0   \n",
       "3  Traded by the Phoenix Suns with Sam Cassell, M...                0.0   \n",
       "4  Traded by the Dallas Mavericks to the Los Ange...                0.0   \n",
       "\n",
       "   isDraft  ...  yearsExperience  nameTwitter  yearHighSchool rankHighSchool  \\\n",
       "0      1.0  ...              NaN         None             NaN            NaN   \n",
       "1      0.0  ...              NaN         None             NaN            NaN   \n",
       "2      0.0  ...              NaN         None             NaN            NaN   \n",
       "3      0.0  ...              NaN         None             NaN            NaN   \n",
       "4      0.0  ...              NaN         None             NaN            NaN   \n",
       "\n",
       "  dateDeath high schools  descriptionRelatives descriptionHOF playerNicknames  \\\n",
       "0       NaN         None                  None           None            None   \n",
       "1       NaN         None                  None           None            None   \n",
       "2       NaN         None                  None           None            None   \n",
       "3       NaN         None                  None           None            None   \n",
       "4       NaN         None                  None           None            None   \n",
       "\n",
       "  colleges  \n",
       "0     None  \n",
       "1     None  \n",
       "2     None  \n",
       "3     None  \n",
       "4     None  \n",
       "\n",
       "[5 rows x 40 columns]"
      ]
     },
     "execution_count": 28,
     "metadata": {},
     "output_type": "execute_result"
    }
   ],
   "source": [
    "query = 'SELECT * from Player_Bios'\n",
    "cursor.execute(query)\n",
    "cols = [column[0] for column in cursor.description]\n",
    "player_bios = pd.DataFrame.from_records(data = cursor.fetchall(), columns = cols)\n",
    "player_bios.head()"
   ]
  },
  {
   "cell_type": "code",
   "execution_count": 29,
   "id": "211dd9eb",
   "metadata": {},
   "outputs": [
    {
     "name": "stdout",
     "output_type": "stream",
     "text": [
      "<class 'pandas.core.frame.DataFrame'>\n",
      "RangeIndex: 42749 entries, 0 to 42748\n",
      "Data columns (total 40 columns):\n",
      " #   Column                   Non-Null Count  Dtype  \n",
      "---  ------                   --------------  -----  \n",
      " 0   namePlayerBREF           42749 non-null  object \n",
      " 1   urlPlayerBioBREF         42749 non-null  object \n",
      " 2   nameTable                42749 non-null  object \n",
      " 3   urlPlayerImageBREF       28285 non-null  object \n",
      " 4   slugPlayerBREF           42749 non-null  object \n",
      " 5   numberTransactionPlayer  26970 non-null  float64\n",
      " 6   dateTransaction          26962 non-null  float64\n",
      " 7   descriptionTransaction   26970 non-null  object \n",
      " 8   isGLeagueMovement        26970 non-null  float64\n",
      " 9   isDraft                  26970 non-null  float64\n",
      " 10  isSigned                 26970 non-null  float64\n",
      " 11  isWaived                 26970 non-null  float64\n",
      " 12  isTraded                 26970 non-null  float64\n",
      " 13  slugSeason               15602 non-null  object \n",
      " 14  nameTeam                 15602 non-null  object \n",
      " 15  slugLeague               14614 non-null  object \n",
      " 16  amountSalary             15444 non-null  float64\n",
      " 17  detailsContract          988 non-null    object \n",
      " 18  namePronunciation        101 non-null    object \n",
      " 19  namePosition             177 non-null    object \n",
      " 20  heightInches             177 non-null    float64\n",
      " 21  weightLBS                177 non-null    float64\n",
      " 22  dateBirth                176 non-null    float64\n",
      " 23  locationBirthplace       176 non-null    object \n",
      " 24  cityBirthplace           176 non-null    object \n",
      " 25  stateBirthplace          166 non-null    object \n",
      " 26  nameCollege              110 non-null    object \n",
      " 27  nameHighSchool           56 non-null     object \n",
      " 28  dateNBADebut             176 non-null    float64\n",
      " 29  career length            85 non-null     object \n",
      " 30  yearsExperience          70 non-null     float64\n",
      " 31  nameTwitter              125 non-null    object \n",
      " 32  yearHighSchool           60 non-null     float64\n",
      " 33  rankHighSchool           60 non-null     float64\n",
      " 34  dateDeath                5 non-null      float64\n",
      " 35  high schools             55 non-null     object \n",
      " 36  descriptionRelatives     19 non-null     object \n",
      " 37  descriptionHOF           7 non-null      object \n",
      " 38  playerNicknames          10 non-null     object \n",
      " 39  colleges                 5 non-null      object \n",
      "dtypes: float64(16), object(24)\n",
      "memory usage: 13.0+ MB\n"
     ]
    }
   ],
   "source": [
    "player_bios.info()"
   ]
  },
  {
   "cell_type": "markdown",
   "id": "2a1c886a",
   "metadata": {},
   "source": [
    "The Player_Bios table is similar to Player_Attributes table, but has more detailed information. For example, Player_Attributes table only show the college name for each player, but the Player_Bios table has the college name, high school name, high school year, etc. The Player_Bios table has 42749 rows and 40 columns."
   ]
  },
  {
   "cell_type": "code",
   "execution_count": 30,
   "id": "b48fb82a",
   "metadata": {},
   "outputs": [
    {
     "data": {
      "text/html": [
       "<div>\n",
       "<style scoped>\n",
       "    .dataframe tbody tr th:only-of-type {\n",
       "        vertical-align: middle;\n",
       "    }\n",
       "\n",
       "    .dataframe tbody tr th {\n",
       "        vertical-align: top;\n",
       "    }\n",
       "\n",
       "    .dataframe thead th {\n",
       "        text-align: right;\n",
       "    }\n",
       "</style>\n",
       "<table border=\"1\" class=\"dataframe\">\n",
       "  <thead>\n",
       "    <tr style=\"text-align: right;\">\n",
       "      <th></th>\n",
       "      <th>numberTransactionPlayer</th>\n",
       "      <th>count</th>\n",
       "    </tr>\n",
       "  </thead>\n",
       "  <tbody>\n",
       "    <tr>\n",
       "      <th>0</th>\n",
       "      <td>NaN</td>\n",
       "      <td>15779</td>\n",
       "    </tr>\n",
       "    <tr>\n",
       "      <th>1</th>\n",
       "      <td>1.0</td>\n",
       "      <td>4010</td>\n",
       "    </tr>\n",
       "    <tr>\n",
       "      <th>2</th>\n",
       "      <td>2.0</td>\n",
       "      <td>3541</td>\n",
       "    </tr>\n",
       "    <tr>\n",
       "      <th>3</th>\n",
       "      <td>3.0</td>\n",
       "      <td>3028</td>\n",
       "    </tr>\n",
       "    <tr>\n",
       "      <th>4</th>\n",
       "      <td>4.0</td>\n",
       "      <td>2612</td>\n",
       "    </tr>\n",
       "  </tbody>\n",
       "</table>\n",
       "</div>"
      ],
      "text/plain": [
       "   numberTransactionPlayer  count\n",
       "0                      NaN  15779\n",
       "1                      1.0   4010\n",
       "2                      2.0   3541\n",
       "3                      3.0   3028\n",
       "4                      4.0   2612"
      ]
     },
     "execution_count": 30,
     "metadata": {},
     "output_type": "execute_result"
    }
   ],
   "source": [
    "query = \\\n",
    "    '''\n",
    "    SELECT numberTransactionPlayer, count(*) as count from Player_Bios \n",
    "    GROUP BY numberTransactionPlayer \n",
    "    ORDER BY Count DESC;\n",
    "    '''\n",
    "cursor.execute(query)\n",
    "cols = [column[0] for column in cursor.description]\n",
    "transaction_info = pd.DataFrame.from_records(data = cursor.fetchall(), columns = cols)\n",
    "transaction_info.head()"
   ]
  },
  {
   "cell_type": "markdown",
   "id": "c50caa80",
   "metadata": {},
   "source": [
    "The majority of players does not have a transaction. 67.8% of players have less than 5 transactions."
   ]
  },
  {
   "cell_type": "markdown",
   "id": "b11ae555",
   "metadata": {},
   "source": [
    "## 5. Team Data Analysis"
   ]
  },
  {
   "cell_type": "markdown",
   "id": "6f0ec550",
   "metadata": {},
   "source": [
    "Teams' data is stored in 4 tables: Team, Team_History, Team_Attributes, Team_Salary."
   ]
  },
  {
   "cell_type": "markdown",
   "id": "f14be84a",
   "metadata": {},
   "source": [
    "### 5.1 Team Table"
   ]
  },
  {
   "cell_type": "code",
   "execution_count": 31,
   "id": "eac4630f",
   "metadata": {},
   "outputs": [
    {
     "data": {
      "text/html": [
       "<div>\n",
       "<style scoped>\n",
       "    .dataframe tbody tr th:only-of-type {\n",
       "        vertical-align: middle;\n",
       "    }\n",
       "\n",
       "    .dataframe tbody tr th {\n",
       "        vertical-align: top;\n",
       "    }\n",
       "\n",
       "    .dataframe thead th {\n",
       "        text-align: right;\n",
       "    }\n",
       "</style>\n",
       "<table border=\"1\" class=\"dataframe\">\n",
       "  <thead>\n",
       "    <tr style=\"text-align: right;\">\n",
       "      <th></th>\n",
       "      <th>id</th>\n",
       "      <th>full_name</th>\n",
       "      <th>abbreviation</th>\n",
       "      <th>nickname</th>\n",
       "      <th>city</th>\n",
       "      <th>state</th>\n",
       "      <th>year_founded</th>\n",
       "    </tr>\n",
       "  </thead>\n",
       "  <tbody>\n",
       "    <tr>\n",
       "      <th>0</th>\n",
       "      <td>1610612737</td>\n",
       "      <td>Atlanta Hawks</td>\n",
       "      <td>ATL</td>\n",
       "      <td>Hawks</td>\n",
       "      <td>Atlanta</td>\n",
       "      <td>Atlanta</td>\n",
       "      <td>1949</td>\n",
       "    </tr>\n",
       "    <tr>\n",
       "      <th>1</th>\n",
       "      <td>1610612738</td>\n",
       "      <td>Boston Celtics</td>\n",
       "      <td>BOS</td>\n",
       "      <td>Celtics</td>\n",
       "      <td>Boston</td>\n",
       "      <td>Massachusetts</td>\n",
       "      <td>1946</td>\n",
       "    </tr>\n",
       "    <tr>\n",
       "      <th>2</th>\n",
       "      <td>1610612739</td>\n",
       "      <td>Cleveland Cavaliers</td>\n",
       "      <td>CLE</td>\n",
       "      <td>Cavaliers</td>\n",
       "      <td>Cleveland</td>\n",
       "      <td>Ohio</td>\n",
       "      <td>1970</td>\n",
       "    </tr>\n",
       "    <tr>\n",
       "      <th>3</th>\n",
       "      <td>1610612740</td>\n",
       "      <td>New Orleans Pelicans</td>\n",
       "      <td>NOP</td>\n",
       "      <td>Pelicans</td>\n",
       "      <td>New Orleans</td>\n",
       "      <td>Louisiana</td>\n",
       "      <td>2002</td>\n",
       "    </tr>\n",
       "    <tr>\n",
       "      <th>4</th>\n",
       "      <td>1610612741</td>\n",
       "      <td>Chicago Bulls</td>\n",
       "      <td>CHI</td>\n",
       "      <td>Bulls</td>\n",
       "      <td>Chicago</td>\n",
       "      <td>Illinois</td>\n",
       "      <td>1966</td>\n",
       "    </tr>\n",
       "  </tbody>\n",
       "</table>\n",
       "</div>"
      ],
      "text/plain": [
       "           id             full_name abbreviation   nickname         city  \\\n",
       "0  1610612737         Atlanta Hawks          ATL      Hawks      Atlanta   \n",
       "1  1610612738        Boston Celtics          BOS    Celtics       Boston   \n",
       "2  1610612739   Cleveland Cavaliers          CLE  Cavaliers    Cleveland   \n",
       "3  1610612740  New Orleans Pelicans          NOP   Pelicans  New Orleans   \n",
       "4  1610612741         Chicago Bulls          CHI      Bulls      Chicago   \n",
       "\n",
       "           state  year_founded  \n",
       "0        Atlanta          1949  \n",
       "1  Massachusetts          1946  \n",
       "2           Ohio          1970  \n",
       "3      Louisiana          2002  \n",
       "4       Illinois          1966  "
      ]
     },
     "execution_count": 31,
     "metadata": {},
     "output_type": "execute_result"
    }
   ],
   "source": [
    "query = 'SELECT * from Team'\n",
    "cursor.execute(query)\n",
    "cols = [column[0] for column in cursor.description]\n",
    "team = pd.DataFrame.from_records(data = cursor.fetchall(), columns = cols)\n",
    "team.head()"
   ]
  },
  {
   "cell_type": "code",
   "execution_count": 32,
   "id": "9f419202",
   "metadata": {},
   "outputs": [
    {
     "name": "stdout",
     "output_type": "stream",
     "text": [
      "<class 'pandas.core.frame.DataFrame'>\n",
      "RangeIndex: 30 entries, 0 to 29\n",
      "Data columns (total 7 columns):\n",
      " #   Column        Non-Null Count  Dtype \n",
      "---  ------        --------------  ----- \n",
      " 0   id            30 non-null     object\n",
      " 1   full_name     30 non-null     object\n",
      " 2   abbreviation  30 non-null     object\n",
      " 3   nickname      30 non-null     object\n",
      " 4   city          30 non-null     object\n",
      " 5   state         30 non-null     object\n",
      " 6   year_founded  30 non-null     int64 \n",
      "dtypes: int64(1), object(6)\n",
      "memory usage: 1.8+ KB\n"
     ]
    }
   ],
   "source": [
    "team.info()"
   ]
  },
  {
   "cell_type": "markdown",
   "id": "5e90beb1",
   "metadata": {},
   "source": [
    "There are 30 distinct teams in this table. Each row of this table contains the id, full name, abbreviation, nickname, city, state, founded year for the team."
   ]
  },
  {
   "cell_type": "code",
   "execution_count": 33,
   "id": "6cae1b1e",
   "metadata": {},
   "outputs": [
    {
     "data": {
      "text/html": [
       "<div>\n",
       "<style scoped>\n",
       "    .dataframe tbody tr th:only-of-type {\n",
       "        vertical-align: middle;\n",
       "    }\n",
       "\n",
       "    .dataframe tbody tr th {\n",
       "        vertical-align: top;\n",
       "    }\n",
       "\n",
       "    .dataframe thead th {\n",
       "        text-align: right;\n",
       "    }\n",
       "</style>\n",
       "<table border=\"1\" class=\"dataframe\">\n",
       "  <thead>\n",
       "    <tr style=\"text-align: right;\">\n",
       "      <th></th>\n",
       "      <th>id</th>\n",
       "      <th>full_name</th>\n",
       "      <th>abbreviation</th>\n",
       "      <th>year_founded</th>\n",
       "      <th>age</th>\n",
       "    </tr>\n",
       "  </thead>\n",
       "  <tbody>\n",
       "    <tr>\n",
       "      <th>0</th>\n",
       "      <td>1610612738</td>\n",
       "      <td>Boston Celtics</td>\n",
       "      <td>BOS</td>\n",
       "      <td>1946</td>\n",
       "      <td>76</td>\n",
       "    </tr>\n",
       "    <tr>\n",
       "      <th>1</th>\n",
       "      <td>1610612744</td>\n",
       "      <td>Golden State Warriors</td>\n",
       "      <td>GSW</td>\n",
       "      <td>1946</td>\n",
       "      <td>76</td>\n",
       "    </tr>\n",
       "    <tr>\n",
       "      <th>2</th>\n",
       "      <td>1610612752</td>\n",
       "      <td>New York Knicks</td>\n",
       "      <td>NYK</td>\n",
       "      <td>1946</td>\n",
       "      <td>76</td>\n",
       "    </tr>\n",
       "    <tr>\n",
       "      <th>3</th>\n",
       "      <td>1610612747</td>\n",
       "      <td>Los Angeles Lakers</td>\n",
       "      <td>LAL</td>\n",
       "      <td>1948</td>\n",
       "      <td>74</td>\n",
       "    </tr>\n",
       "    <tr>\n",
       "      <th>4</th>\n",
       "      <td>1610612758</td>\n",
       "      <td>Sacramento Kings</td>\n",
       "      <td>SAC</td>\n",
       "      <td>1948</td>\n",
       "      <td>74</td>\n",
       "    </tr>\n",
       "  </tbody>\n",
       "</table>\n",
       "</div>"
      ],
      "text/plain": [
       "           id              full_name abbreviation  year_founded  age\n",
       "0  1610612738         Boston Celtics          BOS          1946   76\n",
       "1  1610612744  Golden State Warriors          GSW          1946   76\n",
       "2  1610612752        New York Knicks          NYK          1946   76\n",
       "3  1610612747     Los Angeles Lakers          LAL          1948   74\n",
       "4  1610612758       Sacramento Kings          SAC          1948   74"
      ]
     },
     "execution_count": 33,
     "metadata": {},
     "output_type": "execute_result"
    }
   ],
   "source": [
    "query = \\\n",
    "    \"\"\"\n",
    "    SELECT id, full_name, abbreviation, year_founded, (2022 - year_founded) as age\n",
    "    FROM Team\n",
    "    ORDER BY age DESC\n",
    "    \"\"\"\n",
    "cursor.execute(query)\n",
    "cols = [column[0] for column in cursor.description]\n",
    "team_age = pd.DataFrame.from_records(data = cursor.fetchall(), columns = cols)\n",
    "team_age.head()"
   ]
  },
  {
   "cell_type": "code",
   "execution_count": 34,
   "id": "8650e004",
   "metadata": {},
   "outputs": [
    {
     "data": {
      "text/html": [
       "<div>\n",
       "<style scoped>\n",
       "    .dataframe tbody tr th:only-of-type {\n",
       "        vertical-align: middle;\n",
       "    }\n",
       "\n",
       "    .dataframe tbody tr th {\n",
       "        vertical-align: top;\n",
       "    }\n",
       "\n",
       "    .dataframe thead th {\n",
       "        text-align: right;\n",
       "    }\n",
       "</style>\n",
       "<table border=\"1\" class=\"dataframe\">\n",
       "  <thead>\n",
       "    <tr style=\"text-align: right;\">\n",
       "      <th></th>\n",
       "      <th>id</th>\n",
       "      <th>full_name</th>\n",
       "      <th>abbreviation</th>\n",
       "      <th>year_founded</th>\n",
       "      <th>age</th>\n",
       "    </tr>\n",
       "  </thead>\n",
       "  <tbody>\n",
       "    <tr>\n",
       "      <th>0</th>\n",
       "      <td>1610612740</td>\n",
       "      <td>New Orleans Pelicans</td>\n",
       "      <td>NOP</td>\n",
       "      <td>2002</td>\n",
       "      <td>20</td>\n",
       "    </tr>\n",
       "    <tr>\n",
       "      <th>1</th>\n",
       "      <td>1610612761</td>\n",
       "      <td>Toronto Raptors</td>\n",
       "      <td>TOR</td>\n",
       "      <td>1995</td>\n",
       "      <td>27</td>\n",
       "    </tr>\n",
       "    <tr>\n",
       "      <th>2</th>\n",
       "      <td>1610612763</td>\n",
       "      <td>Memphis Grizzlies</td>\n",
       "      <td>MEM</td>\n",
       "      <td>1995</td>\n",
       "      <td>27</td>\n",
       "    </tr>\n",
       "    <tr>\n",
       "      <th>3</th>\n",
       "      <td>1610612750</td>\n",
       "      <td>Minnesota Timberwolves</td>\n",
       "      <td>MIN</td>\n",
       "      <td>1989</td>\n",
       "      <td>33</td>\n",
       "    </tr>\n",
       "    <tr>\n",
       "      <th>4</th>\n",
       "      <td>1610612753</td>\n",
       "      <td>Orlando Magic</td>\n",
       "      <td>ORL</td>\n",
       "      <td>1989</td>\n",
       "      <td>33</td>\n",
       "    </tr>\n",
       "  </tbody>\n",
       "</table>\n",
       "</div>"
      ],
      "text/plain": [
       "           id               full_name abbreviation  year_founded  age\n",
       "0  1610612740    New Orleans Pelicans          NOP          2002   20\n",
       "1  1610612761         Toronto Raptors          TOR          1995   27\n",
       "2  1610612763       Memphis Grizzlies          MEM          1995   27\n",
       "3  1610612750  Minnesota Timberwolves          MIN          1989   33\n",
       "4  1610612753           Orlando Magic          ORL          1989   33"
      ]
     },
     "execution_count": 34,
     "metadata": {},
     "output_type": "execute_result"
    }
   ],
   "source": [
    "query = \\\n",
    "    \"\"\"\n",
    "    SELECT id, full_name, abbreviation, year_founded, (2022 - year_founded) as age\n",
    "    FROM Team\n",
    "    ORDER BY age ASC\n",
    "    \"\"\"\n",
    "cursor.execute(query)\n",
    "cols = [column[0] for column in cursor.description]\n",
    "team_age = pd.DataFrame.from_records(data = cursor.fetchall(), columns = cols)\n",
    "team_age.head()"
   ]
  },
  {
   "cell_type": "markdown",
   "id": "ed7dacb3",
   "metadata": {},
   "source": [
    "Boston Celtics, Golden State Warriors and New York Knicks are the three oldest NBA teams. New Orleans Pelicans is the youngest team, which is founded in 2022."
   ]
  },
  {
   "cell_type": "code",
   "execution_count": 35,
   "id": "6f8f882b",
   "metadata": {},
   "outputs": [
    {
     "data": {
      "image/png": "[encoded data removed]",
      "text/plain": [
       "<Figure size 1008x504 with 1 Axes>"
      ]
     },
     "metadata": {
      "needs_background": "light"
     },
     "output_type": "display_data"
    }
   ],
   "source": [
    "plt.figure(figsize= (14,7))\n",
    "plt.bar(x=team_age[\"abbreviation\"], height=team_age[\"age\"], color=\"lightblue\")\n",
    "plt.xlabel(\"Team Abbreviation\")\n",
    "plt.ylabel(\"Age (years)\")\n",
    "plt.title(\"Bar Plot for Team's Age\")\n",
    "plt.show()"
   ]
  },
  {
   "cell_type": "markdown",
   "id": "5b2faae4",
   "metadata": {},
   "source": [
    "### 5.2 Team History Table"
   ]
  },
  {
   "cell_type": "code",
   "execution_count": 36,
   "id": "7e77a787",
   "metadata": {},
   "outputs": [
    {
     "data": {
      "text/html": [
       "<div>\n",
       "<style scoped>\n",
       "    .dataframe tbody tr th:only-of-type {\n",
       "        vertical-align: middle;\n",
       "    }\n",
       "\n",
       "    .dataframe tbody tr th {\n",
       "        vertical-align: top;\n",
       "    }\n",
       "\n",
       "    .dataframe thead th {\n",
       "        text-align: right;\n",
       "    }\n",
       "</style>\n",
       "<table border=\"1\" class=\"dataframe\">\n",
       "  <thead>\n",
       "    <tr style=\"text-align: right;\">\n",
       "      <th></th>\n",
       "      <th>ID</th>\n",
       "      <th>CITY</th>\n",
       "      <th>NICKNAME</th>\n",
       "      <th>YEARFOUNDED</th>\n",
       "      <th>YEARACTIVETILL</th>\n",
       "    </tr>\n",
       "  </thead>\n",
       "  <tbody>\n",
       "    <tr>\n",
       "      <th>0</th>\n",
       "      <td>1610612737</td>\n",
       "      <td>Atlanta</td>\n",
       "      <td>Hawks</td>\n",
       "      <td>1968</td>\n",
       "      <td>2019</td>\n",
       "    </tr>\n",
       "    <tr>\n",
       "      <th>1</th>\n",
       "      <td>1610612737</td>\n",
       "      <td>St. Louis</td>\n",
       "      <td>Hawks</td>\n",
       "      <td>1955</td>\n",
       "      <td>1967</td>\n",
       "    </tr>\n",
       "    <tr>\n",
       "      <th>2</th>\n",
       "      <td>1610612737</td>\n",
       "      <td>Milwaukee</td>\n",
       "      <td>Hawks</td>\n",
       "      <td>1951</td>\n",
       "      <td>1954</td>\n",
       "    </tr>\n",
       "    <tr>\n",
       "      <th>3</th>\n",
       "      <td>1610612737</td>\n",
       "      <td>Tri-Cities</td>\n",
       "      <td>Blackhawks</td>\n",
       "      <td>1949</td>\n",
       "      <td>1950</td>\n",
       "    </tr>\n",
       "    <tr>\n",
       "      <th>4</th>\n",
       "      <td>1610612738</td>\n",
       "      <td>Boston</td>\n",
       "      <td>Celtics</td>\n",
       "      <td>1946</td>\n",
       "      <td>2019</td>\n",
       "    </tr>\n",
       "  </tbody>\n",
       "</table>\n",
       "</div>"
      ],
      "text/plain": [
       "           ID        CITY    NICKNAME YEARFOUNDED YEARACTIVETILL\n",
       "0  1610612737     Atlanta       Hawks        1968           2019\n",
       "1  1610612737   St. Louis       Hawks        1955           1967\n",
       "2  1610612737   Milwaukee       Hawks        1951           1954\n",
       "3  1610612737  Tri-Cities  Blackhawks        1949           1950\n",
       "4  1610612738      Boston     Celtics        1946           2019"
      ]
     },
     "execution_count": 36,
     "metadata": {},
     "output_type": "execute_result"
    }
   ],
   "source": [
    "query = 'SELECT * from Team_History'\n",
    "cursor.execute(query)\n",
    "cols = [column[0] for column in cursor.description]\n",
    "team_history = pd.DataFrame.from_records(data = cursor.fetchall(), columns = cols)\n",
    "team_history.head()"
   ]
  },
  {
   "cell_type": "code",
   "execution_count": 37,
   "id": "d3317545",
   "metadata": {},
   "outputs": [
    {
     "name": "stdout",
     "output_type": "stream",
     "text": [
      "<class 'pandas.core.frame.DataFrame'>\n",
      "RangeIndex: 60 entries, 0 to 59\n",
      "Data columns (total 5 columns):\n",
      " #   Column          Non-Null Count  Dtype \n",
      "---  ------          --------------  ----- \n",
      " 0   ID              60 non-null     object\n",
      " 1   CITY            60 non-null     object\n",
      " 2   NICKNAME        60 non-null     object\n",
      " 3   YEARFOUNDED     60 non-null     object\n",
      " 4   YEARACTIVETILL  60 non-null     object\n",
      "dtypes: object(5)\n",
      "memory usage: 2.5+ KB\n"
     ]
    }
   ],
   "source": [
    "team_history.info()"
   ]
  },
  {
   "cell_type": "markdown",
   "id": "66e7bbb0",
   "metadata": {},
   "source": [
    "This table has 60 rows and 5 columns, showing each team's id, city, nickname, founded year and the active year."
   ]
  },
  {
   "cell_type": "code",
   "execution_count": 38,
   "id": "e0c4a2c8",
   "metadata": {},
   "outputs": [
    {
     "name": "stdout",
     "output_type": "stream",
     "text": [
      "<class 'pandas.core.frame.DataFrame'>\n",
      "RangeIndex: 60 entries, 0 to 59\n",
      "Data columns (total 5 columns):\n",
      " #   Column          Non-Null Count  Dtype \n",
      "---  ------          --------------  ----- \n",
      " 0   ID              60 non-null     object\n",
      " 1   CITY            60 non-null     object\n",
      " 2   NICKNAME        60 non-null     object\n",
      " 3   YEARFOUNDED     60 non-null     object\n",
      " 4   YEARACTIVETILL  60 non-null     object\n",
      "dtypes: object(5)\n",
      "memory usage: 2.5+ KB\n"
     ]
    }
   ],
   "source": [
    "query = 'SELECT distinct(city) from Team_History'\n",
    "cursor.execute(query)\n",
    "cols = [column[0] for column in cursor.description]\n",
    "team_city = pd.DataFrame.from_records(data = cursor.fetchall(), columns = cols)\n",
    "team_history.info()"
   ]
  },
  {
   "cell_type": "markdown",
   "id": "981065b5",
   "metadata": {},
   "source": [
    "We use \"distinct\" key word to check whether there are two teams founded in the same city. The result shows that we have 60 distinct cities, which means each team is founded in a different city."
   ]
  },
  {
   "cell_type": "markdown",
   "id": "6d49b916",
   "metadata": {},
   "source": [
    "### 5.3 Team Attributes Table"
   ]
  },
  {
   "cell_type": "code",
   "execution_count": 39,
   "id": "9993047e",
   "metadata": {},
   "outputs": [
    {
     "data": {
      "text/html": [
       "<div>\n",
       "<style scoped>\n",
       "    .dataframe tbody tr th:only-of-type {\n",
       "        vertical-align: middle;\n",
       "    }\n",
       "\n",
       "    .dataframe tbody tr th {\n",
       "        vertical-align: top;\n",
       "    }\n",
       "\n",
       "    .dataframe thead th {\n",
       "        text-align: right;\n",
       "    }\n",
       "</style>\n",
       "<table border=\"1\" class=\"dataframe\">\n",
       "  <thead>\n",
       "    <tr style=\"text-align: right;\">\n",
       "      <th></th>\n",
       "      <th>ID</th>\n",
       "      <th>ABBREVIATION</th>\n",
       "      <th>NICKNAME</th>\n",
       "      <th>YEARFOUNDED</th>\n",
       "      <th>CITY</th>\n",
       "      <th>ARENA</th>\n",
       "      <th>ARENACAPACITY</th>\n",
       "      <th>OWNER</th>\n",
       "      <th>GENERALMANAGER</th>\n",
       "      <th>HEADCOACH</th>\n",
       "      <th>DLEAGUEAFFILIATION</th>\n",
       "      <th>FACEBOOK_WEBSITE_LINK</th>\n",
       "      <th>INSTAGRAM_WEBSITE_LINK</th>\n",
       "      <th>TWITTER_WEBSITE_LINK</th>\n",
       "    </tr>\n",
       "  </thead>\n",
       "  <tbody>\n",
       "    <tr>\n",
       "      <th>0</th>\n",
       "      <td>1610612737</td>\n",
       "      <td>ATL</td>\n",
       "      <td>Hawks</td>\n",
       "      <td>1949</td>\n",
       "      <td>Atlanta</td>\n",
       "      <td>State Farm Arena</td>\n",
       "      <td>18729.0</td>\n",
       "      <td>Tony Ressler</td>\n",
       "      <td>Travis Schlenk</td>\n",
       "      <td>Nate McMillan</td>\n",
       "      <td>Erie Bayhawks</td>\n",
       "      <td>https://www.facebook.com/hawks</td>\n",
       "      <td>https://instagram.com/atlhawks</td>\n",
       "      <td>https://twitter.com/ATLHawks</td>\n",
       "    </tr>\n",
       "    <tr>\n",
       "      <th>1</th>\n",
       "      <td>1610612738</td>\n",
       "      <td>BOS</td>\n",
       "      <td>Celtics</td>\n",
       "      <td>1946</td>\n",
       "      <td>Boston</td>\n",
       "      <td>TD Garden</td>\n",
       "      <td>18624.0</td>\n",
       "      <td>Wyc Grousbeck</td>\n",
       "      <td>Danny Ainge</td>\n",
       "      <td>Brad Stevens</td>\n",
       "      <td>Maine Red Claws</td>\n",
       "      <td>https://www.facebook.com/bostonceltics</td>\n",
       "      <td>https://instagram.com/celtics</td>\n",
       "      <td>https://twitter.com/celtics</td>\n",
       "    </tr>\n",
       "    <tr>\n",
       "      <th>2</th>\n",
       "      <td>1610612739</td>\n",
       "      <td>CLE</td>\n",
       "      <td>Cavaliers</td>\n",
       "      <td>1970</td>\n",
       "      <td>Cleveland</td>\n",
       "      <td>Rocket Mortgage FieldHouse</td>\n",
       "      <td>20562.0</td>\n",
       "      <td>Dan Gilbert</td>\n",
       "      <td>Koby Altman</td>\n",
       "      <td>JB Bickerstaff</td>\n",
       "      <td>Canton Charge</td>\n",
       "      <td>https://www.facebook.com/Cavs</td>\n",
       "      <td>https://instagram.com/cavs</td>\n",
       "      <td>https://twitter.com/cavs</td>\n",
       "    </tr>\n",
       "    <tr>\n",
       "      <th>3</th>\n",
       "      <td>1610612740</td>\n",
       "      <td>NOP</td>\n",
       "      <td>Pelicans</td>\n",
       "      <td>2002</td>\n",
       "      <td>New Orleans</td>\n",
       "      <td>Smoothie King Center</td>\n",
       "      <td>NaN</td>\n",
       "      <td>Tom Benson</td>\n",
       "      <td>Trajan Langdon</td>\n",
       "      <td>Stan Van Gundy</td>\n",
       "      <td>No Affiliate</td>\n",
       "      <td>https://www.facebook.com/PelicansNBA</td>\n",
       "      <td>https://instagram.com/pelicansnba</td>\n",
       "      <td>https://twitter.com/PelicansNBA</td>\n",
       "    </tr>\n",
       "    <tr>\n",
       "      <th>4</th>\n",
       "      <td>1610612741</td>\n",
       "      <td>CHI</td>\n",
       "      <td>Bulls</td>\n",
       "      <td>1966</td>\n",
       "      <td>Chicago</td>\n",
       "      <td>United Center</td>\n",
       "      <td>21711.0</td>\n",
       "      <td>Jerry Reinsdorf</td>\n",
       "      <td>Arturas Karnisovas</td>\n",
       "      <td>Billy Donovan</td>\n",
       "      <td>Windy City Bulls</td>\n",
       "      <td>https://www.facebook.com/chicagobulls</td>\n",
       "      <td>https://instagram.com/chicagobulls</td>\n",
       "      <td>https://twitter.com/chicagobulls</td>\n",
       "    </tr>\n",
       "  </tbody>\n",
       "</table>\n",
       "</div>"
      ],
      "text/plain": [
       "           ID ABBREVIATION   NICKNAME YEARFOUNDED         CITY  \\\n",
       "0  1610612737          ATL      Hawks        1949      Atlanta   \n",
       "1  1610612738          BOS    Celtics        1946       Boston   \n",
       "2  1610612739          CLE  Cavaliers        1970    Cleveland   \n",
       "3  1610612740          NOP   Pelicans        2002  New Orleans   \n",
       "4  1610612741          CHI      Bulls        1966      Chicago   \n",
       "\n",
       "                        ARENA  ARENACAPACITY            OWNER  \\\n",
       "0            State Farm Arena        18729.0     Tony Ressler   \n",
       "1                   TD Garden        18624.0    Wyc Grousbeck   \n",
       "2  Rocket Mortgage FieldHouse        20562.0      Dan Gilbert   \n",
       "3        Smoothie King Center            NaN       Tom Benson   \n",
       "4               United Center        21711.0  Jerry Reinsdorf   \n",
       "\n",
       "       GENERALMANAGER       HEADCOACH DLEAGUEAFFILIATION  \\\n",
       "0      Travis Schlenk   Nate McMillan      Erie Bayhawks   \n",
       "1         Danny Ainge    Brad Stevens    Maine Red Claws   \n",
       "2         Koby Altman  JB Bickerstaff      Canton Charge   \n",
       "3      Trajan Langdon  Stan Van Gundy       No Affiliate   \n",
       "4  Arturas Karnisovas   Billy Donovan   Windy City Bulls   \n",
       "\n",
       "                    FACEBOOK_WEBSITE_LINK              INSTAGRAM_WEBSITE_LINK  \\\n",
       "0          https://www.facebook.com/hawks      https://instagram.com/atlhawks   \n",
       "1  https://www.facebook.com/bostonceltics       https://instagram.com/celtics   \n",
       "2           https://www.facebook.com/Cavs          https://instagram.com/cavs   \n",
       "3    https://www.facebook.com/PelicansNBA   https://instagram.com/pelicansnba   \n",
       "4   https://www.facebook.com/chicagobulls  https://instagram.com/chicagobulls   \n",
       "\n",
       "               TWITTER_WEBSITE_LINK  \n",
       "0      https://twitter.com/ATLHawks  \n",
       "1       https://twitter.com/celtics  \n",
       "2          https://twitter.com/cavs  \n",
       "3   https://twitter.com/PelicansNBA  \n",
       "4  https://twitter.com/chicagobulls  "
      ]
     },
     "execution_count": 39,
     "metadata": {},
     "output_type": "execute_result"
    }
   ],
   "source": [
    "query = 'SELECT * from Team_Attributes'\n",
    "cursor.execute(query)\n",
    "cols = [column[0] for column in cursor.description]\n",
    "team_attributes = pd.DataFrame.from_records(data = cursor.fetchall(), columns = cols)\n",
    "team_attributes.head()"
   ]
  },
  {
   "cell_type": "code",
   "execution_count": 40,
   "id": "5dcbe3f4",
   "metadata": {},
   "outputs": [
    {
     "name": "stdout",
     "output_type": "stream",
     "text": [
      "<class 'pandas.core.frame.DataFrame'>\n",
      "RangeIndex: 30 entries, 0 to 29\n",
      "Data columns (total 14 columns):\n",
      " #   Column                  Non-Null Count  Dtype  \n",
      "---  ------                  --------------  -----  \n",
      " 0   ID                      30 non-null     object \n",
      " 1   ABBREVIATION            30 non-null     object \n",
      " 2   NICKNAME                30 non-null     object \n",
      " 3   YEARFOUNDED             30 non-null     object \n",
      " 4   CITY                    30 non-null     object \n",
      " 5   ARENA                   30 non-null     object \n",
      " 6   ARENACAPACITY           20 non-null     float64\n",
      " 7   OWNER                   30 non-null     object \n",
      " 8   GENERALMANAGER          30 non-null     object \n",
      " 9   HEADCOACH               30 non-null     object \n",
      " 10  DLEAGUEAFFILIATION      30 non-null     object \n",
      " 11  FACEBOOK_WEBSITE_LINK   30 non-null     object \n",
      " 12  INSTAGRAM_WEBSITE_LINK  30 non-null     object \n",
      " 13  TWITTER_WEBSITE_LINK    30 non-null     object \n",
      "dtypes: float64(1), object(13)\n",
      "memory usage: 3.4+ KB\n"
     ]
    }
   ],
   "source": [
    "team_attributes.info()"
   ]
  },
  {
   "cell_type": "markdown",
   "id": "5f301d52",
   "metadata": {},
   "source": [
    "This table has 30 rows and 14 columns. The column contains information including the name, city, arena, owner, and some public website links."
   ]
  },
  {
   "cell_type": "code",
   "execution_count": 41,
   "id": "65badea9",
   "metadata": {},
   "outputs": [
    {
     "name": "stdout",
     "output_type": "stream",
     "text": [
      "Minimum arena capacity: 17500.0 \n",
      "Maximum arena capacity: 21711.0\n"
     ]
    }
   ],
   "source": [
    "query = \\\n",
    "    '''\n",
    "    SELECT ARENACAPACITY from Team_Attributes \n",
    "    WHERE \"ARENACAPACITY\" != 0;\n",
    "    '''\n",
    "cursor.execute(query)\n",
    "cols = [column[0] for column in cursor.description]\n",
    "capacity = [i[0] for i in cursor.fetchall()]\n",
    "print(\"Minimum arena capacity:\", min(capacity), \"\\nMaximum arena capacity:\", max(capacity))"
   ]
  },
  {
   "cell_type": "code",
   "execution_count": 42,
   "id": "d9d91650",
   "metadata": {},
   "outputs": [
    {
     "data": {
      "image/png": "[encoded data removed]",
      "text/plain": [
       "<Figure size 432x432 with 1 Axes>"
      ]
     },
     "metadata": {},
     "output_type": "display_data"
    }
   ],
   "source": [
    "capacity_labels = [\"17000-18000\", \"18000-19000\", \"19000-20000\", \"20000-21000\", \"21000-22000\"]\n",
    "capacity_counts = [0]*5\n",
    "for cp in capacity:\n",
    "    if cp < 18000:\n",
    "        capacity_counts[0] += 1\n",
    "    elif cp < 19000:\n",
    "        capacity_counts[1] += 1\n",
    "    elif cp < 20000:\n",
    "        capacity_counts[2] += 1\n",
    "    elif cp < 21000:\n",
    "        capacity_counts[3] += 1\n",
    "    else:\n",
    "        capacity_counts[4] += 1\n",
    "plt.figure(figsize=(6,6))\n",
    "plt.pie(x=capacity_counts, labels=capacity_labels, autopct='%1.1f%%')\n",
    "plt.title(\"Pie Plot for Arena Capacity\")\n",
    "plt.show()"
   ]
  },
  {
   "cell_type": "markdown",
   "id": "c93082f3",
   "metadata": {},
   "source": [
    "We draw a pie plot for arena's capacity. The maximum capacity is 21711 while the minimum is 17500. Around 42.1% of arenas have a capacity between 19000 and 20000."
   ]
  },
  {
   "cell_type": "markdown",
   "id": "16d51f51",
   "metadata": {},
   "source": [
    "### 5.4 Team Salary Table"
   ]
  },
  {
   "cell_type": "code",
   "execution_count": 43,
   "id": "99131245",
   "metadata": {},
   "outputs": [
    {
     "data": {
      "text/html": [
       "<div>\n",
       "<style scoped>\n",
       "    .dataframe tbody tr th:only-of-type {\n",
       "        vertical-align: middle;\n",
       "    }\n",
       "\n",
       "    .dataframe tbody tr th {\n",
       "        vertical-align: top;\n",
       "    }\n",
       "\n",
       "    .dataframe thead th {\n",
       "        text-align: right;\n",
       "    }\n",
       "</style>\n",
       "<table border=\"1\" class=\"dataframe\">\n",
       "  <thead>\n",
       "    <tr style=\"text-align: right;\">\n",
       "      <th></th>\n",
       "      <th>nameTeam</th>\n",
       "      <th>slugTeam</th>\n",
       "      <th>urlTeamSalaryHoopsHype</th>\n",
       "      <th>X2020-21</th>\n",
       "      <th>X2021-22</th>\n",
       "      <th>X2022-23</th>\n",
       "      <th>X2023-24</th>\n",
       "      <th>X2024-25</th>\n",
       "      <th>X2025-26</th>\n",
       "    </tr>\n",
       "  </thead>\n",
       "  <tbody>\n",
       "    <tr>\n",
       "      <th>0</th>\n",
       "      <td>Atlanta Hawks</td>\n",
       "      <td>ATL</td>\n",
       "      <td>http://hoopshype.com/salaries/atlanta_hawks/</td>\n",
       "      <td>118647039.0</td>\n",
       "      <td>95496087.0</td>\n",
       "      <td>59656896.0</td>\n",
       "      <td>18000000.0</td>\n",
       "      <td>0.0</td>\n",
       "      <td>0.0</td>\n",
       "    </tr>\n",
       "    <tr>\n",
       "      <th>1</th>\n",
       "      <td>Boston Celtics</td>\n",
       "      <td>BOS</td>\n",
       "      <td>http://hoopshype.com/salaries/boston_celtics/</td>\n",
       "      <td>132032864.0</td>\n",
       "      <td>132077647.0</td>\n",
       "      <td>95626895.0</td>\n",
       "      <td>62027548.0</td>\n",
       "      <td>34844000.0</td>\n",
       "      <td>37092000.0</td>\n",
       "    </tr>\n",
       "    <tr>\n",
       "      <th>2</th>\n",
       "      <td>Brooklyn Nets</td>\n",
       "      <td>BKN</td>\n",
       "      <td>http://hoopshype.com/salaries/brooklyn_nets/</td>\n",
       "      <td>168854452.0</td>\n",
       "      <td>165982367.0</td>\n",
       "      <td>157168219.0</td>\n",
       "      <td>19928571.0</td>\n",
       "      <td>0.0</td>\n",
       "      <td>0.0</td>\n",
       "    </tr>\n",
       "    <tr>\n",
       "      <th>3</th>\n",
       "      <td>Charlotte Hornets</td>\n",
       "      <td>CHA</td>\n",
       "      <td>http://hoopshype.com/salaries/charlotte_hornets/</td>\n",
       "      <td>108218809.0</td>\n",
       "      <td>83125939.0</td>\n",
       "      <td>44614401.0</td>\n",
       "      <td>31500000.0</td>\n",
       "      <td>0.0</td>\n",
       "      <td>0.0</td>\n",
       "    </tr>\n",
       "    <tr>\n",
       "      <th>4</th>\n",
       "      <td>Chicago Bulls</td>\n",
       "      <td>CHI</td>\n",
       "      <td>http://hoopshype.com/salaries/chicago_bulls/</td>\n",
       "      <td>128963580.0</td>\n",
       "      <td>96304124.0</td>\n",
       "      <td>22000000.0</td>\n",
       "      <td>0.0</td>\n",
       "      <td>0.0</td>\n",
       "      <td>0.0</td>\n",
       "    </tr>\n",
       "  </tbody>\n",
       "</table>\n",
       "</div>"
      ],
      "text/plain": [
       "            nameTeam slugTeam  \\\n",
       "0      Atlanta Hawks      ATL   \n",
       "1     Boston Celtics      BOS   \n",
       "2      Brooklyn Nets      BKN   \n",
       "3  Charlotte Hornets      CHA   \n",
       "4      Chicago Bulls      CHI   \n",
       "\n",
       "                             urlTeamSalaryHoopsHype     X2020-21     X2021-22  \\\n",
       "0      http://hoopshype.com/salaries/atlanta_hawks/  118647039.0   95496087.0   \n",
       "1     http://hoopshype.com/salaries/boston_celtics/  132032864.0  132077647.0   \n",
       "2      http://hoopshype.com/salaries/brooklyn_nets/  168854452.0  165982367.0   \n",
       "3  http://hoopshype.com/salaries/charlotte_hornets/  108218809.0   83125939.0   \n",
       "4      http://hoopshype.com/salaries/chicago_bulls/  128963580.0   96304124.0   \n",
       "\n",
       "      X2022-23    X2023-24    X2024-25    X2025-26  \n",
       "0   59656896.0  18000000.0         0.0         0.0  \n",
       "1   95626895.0  62027548.0  34844000.0  37092000.0  \n",
       "2  157168219.0  19928571.0         0.0         0.0  \n",
       "3   44614401.0  31500000.0         0.0         0.0  \n",
       "4   22000000.0         0.0         0.0         0.0  "
      ]
     },
     "execution_count": 43,
     "metadata": {},
     "output_type": "execute_result"
    }
   ],
   "source": [
    "query = 'SELECT * from Team_Salary'\n",
    "cursor.execute(query)\n",
    "cols = [column[0] for column in cursor.description]\n",
    "team_salary = pd.DataFrame.from_records(data = cursor.fetchall(), columns = cols)\n",
    "team_salary.head()"
   ]
  },
  {
   "cell_type": "code",
   "execution_count": 44,
   "id": "4f2b1396",
   "metadata": {},
   "outputs": [
    {
     "name": "stdout",
     "output_type": "stream",
     "text": [
      "<class 'pandas.core.frame.DataFrame'>\n",
      "RangeIndex: 30 entries, 0 to 29\n",
      "Data columns (total 9 columns):\n",
      " #   Column                  Non-Null Count  Dtype  \n",
      "---  ------                  --------------  -----  \n",
      " 0   nameTeam                30 non-null     object \n",
      " 1   slugTeam                30 non-null     object \n",
      " 2   urlTeamSalaryHoopsHype  30 non-null     object \n",
      " 3   X2020-21                30 non-null     float64\n",
      " 4   X2021-22                30 non-null     float64\n",
      " 5   X2022-23                30 non-null     float64\n",
      " 6   X2023-24                30 non-null     float64\n",
      " 7   X2024-25                30 non-null     float64\n",
      " 8   X2025-26                30 non-null     float64\n",
      "dtypes: float64(6), object(3)\n",
      "memory usage: 2.2+ KB\n"
     ]
    }
   ],
   "source": [
    "team_salary.info()"
   ]
  },
  {
   "cell_type": "markdown",
   "id": "e45012a6",
   "metadata": {},
   "source": [
    "This table has 30 rows and 9 columns. The columns show annual salary from 2020 to 2025 (expected). "
   ]
  },
  {
   "cell_type": "code",
   "execution_count": null,
   "id": "38104f6d",
   "metadata": {},
   "outputs": [],
   "source": []
  },
  {
   "cell_type": "code",
   "execution_count": null,
   "id": "b717b312",
   "metadata": {},
   "outputs": [],
   "source": []
  },
  {
   "cell_type": "code",
   "execution_count": null,
   "id": "b3604d96",
   "metadata": {},
   "outputs": [],
   "source": []
  },
  {
   "cell_type": "code",
   "execution_count": null,
   "id": "cca46d6d",
   "metadata": {},
   "outputs": [],
   "source": []
  }
 ],
 "metadata": {
  "kernelspec": {
   "display_name": "Python 3 (ipykernel)",
   "language": "python",
   "name": "python3"
  },
  "language_info": {
   "codemirror_mode": {
    "name": "ipython",
    "version": 3
   },
   "file_extension": ".py",
   "mimetype": "text/x-python",
   "name": "python",
   "nbconvert_exporter": "python",
   "pygments_lexer": "ipython3",
   "version": "3.8.12"
  },
  "vscode": {
   "interpreter": {
    "hash": "7e1998ff7f8aa20ada591c520b972326324e5ea05489af9e422744c7c09f6dad"
   }
  }
 },
 "nbformat": 4,
 "nbformat_minor": 5
}
