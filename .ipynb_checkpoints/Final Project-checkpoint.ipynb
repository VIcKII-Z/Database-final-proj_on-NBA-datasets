{
 "cells": [
  {
   "cell_type": "markdown",
   "id": "a444e432",
   "metadata": {},
   "source": [
    "# CPSC 537 Final Project"
   ]
  },
  {
   "cell_type": "markdown",
   "id": "77240493",
   "metadata": {},
   "source": [
    "## 1. Fetch Players, Teams, Games and Drafts Data"
   ]
  },
  {
   "cell_type": "markdown",
   "id": "05b34871",
   "metadata": {},
   "source": [
    "The basketball dataset is fetched through nba_api, which is an API Client for https://www.nba.com. We saved it as basketball.sqlite under Data directory. Here is the link to this API: https://github.com/swar/nba_api."
   ]
  },
  {
   "cell_type": "code",
   "execution_count": 22,
   "id": "393885a3",
   "metadata": {},
   "outputs": [],
   "source": [
    "import pandas as pd\n",
    "import numpy as np\n",
    "import sqlite3"
   ]
  },
  {
   "cell_type": "code",
   "execution_count": 23,
   "id": "7df172f3",
   "metadata": {},
   "outputs": [
    {
     "name": "stdout",
     "output_type": "stream",
     "text": [
      "['Player', 'Team', 'Team_Attributes', 'Player_Attributes', 'Team_Salary', 'Player_Salary', 'Draft', 'Draft_Combine', 'Game']\n"
     ]
    }
   ],
   "source": [
    "db_path = './RawData/basketball.sqlite'\n",
    "connection = sqlite3.connect(db_path)\n",
    "cursor = connection.cursor()\n",
    "cursor.execute('SELECT name from sqlite_master where type= \"table\"')\n",
    "table_names = [table[0] for table in cursor.fetchall()]\n",
    "print(table_names)\n",
    "#connection.close()"
   ]
  },
  {
   "cell_type": "markdown",
   "id": "621574fe",
   "metadata": {},
   "source": [
    "Here are 9 tables in this dataset. The names are: Player, Player_Attributes, Player_Salary， Team, Team_Attributes, Team_Salary, Game, Draft, Draft_Combine."
   ]
  },
  {
   "cell_type": "markdown",
   "id": "e6bab590",
   "metadata": {},
   "source": [
    "## 2. Download NBA Team Annual Attendance, Historical NBA Performance Dataset\n"
   ]
  },
  {
   "cell_type": "markdown",
   "id": "dd3288bb",
   "metadata": {},
   "source": [
    "We download NBA team annual attendance data and historical NBA performance data from https://data.world/datasets/nba. Each dataset is a separate table, which contains the statistics of team's participation and performance in each year. The original data is in .xlsx format under Data directory."
   ]
  },
  {
   "cell_type": "code",
   "execution_count": 24,
   "id": "a75b4080",
   "metadata": {},
   "outputs": [],
   "source": [
    "performance = pd.read_excel(\n",
    "    './RawData/Historical NBA Performance.xlsx', \n",
    "    header=0)\n",
    "attendance = pd.read_excel(\n",
    "    './RawData/NBA Team Annual Attendance.xlsx', \n",
    "    header=0)"
   ]
  },
  {
   "cell_type": "code",
   "execution_count": 25,
   "id": "648df07d",
   "metadata": {},
   "outputs": [
    {
     "data": {
      "text/html": [
       "<div>\n",
       "<style scoped>\n",
       "    .dataframe tbody tr th:only-of-type {\n",
       "        vertical-align: middle;\n",
       "    }\n",
       "\n",
       "    .dataframe tbody tr th {\n",
       "        vertical-align: top;\n",
       "    }\n",
       "\n",
       "    .dataframe thead th {\n",
       "        text-align: right;\n",
       "    }\n",
       "</style>\n",
       "<table border=\"1\" class=\"dataframe\">\n",
       "  <thead>\n",
       "    <tr style=\"text-align: right;\">\n",
       "      <th></th>\n",
       "      <th>Year</th>\n",
       "      <th>Team</th>\n",
       "      <th>Record</th>\n",
       "      <th>Winning Percentage</th>\n",
       "    </tr>\n",
       "  </thead>\n",
       "  <tbody>\n",
       "    <tr>\n",
       "      <th>0</th>\n",
       "      <td>2016-17</td>\n",
       "      <td>Celtics</td>\n",
       "      <td>25-15</td>\n",
       "      <td>0.625</td>\n",
       "    </tr>\n",
       "    <tr>\n",
       "      <th>1</th>\n",
       "      <td>2015-16</td>\n",
       "      <td>Celtics</td>\n",
       "      <td>48-34</td>\n",
       "      <td>0.585</td>\n",
       "    </tr>\n",
       "    <tr>\n",
       "      <th>2</th>\n",
       "      <td>2014-15</td>\n",
       "      <td>Celtics</td>\n",
       "      <td>40-42</td>\n",
       "      <td>0.488</td>\n",
       "    </tr>\n",
       "    <tr>\n",
       "      <th>3</th>\n",
       "      <td>2013-14</td>\n",
       "      <td>Celtics</td>\n",
       "      <td>25-57</td>\n",
       "      <td>0.305</td>\n",
       "    </tr>\n",
       "    <tr>\n",
       "      <th>4</th>\n",
       "      <td>2012-13</td>\n",
       "      <td>Celtics</td>\n",
       "      <td>41-40</td>\n",
       "      <td>0.506</td>\n",
       "    </tr>\n",
       "  </tbody>\n",
       "</table>\n",
       "</div>"
      ],
      "text/plain": [
       "      Year     Team Record  Winning Percentage\n",
       "0  2016-17  Celtics  25-15               0.625\n",
       "1  2015-16  Celtics  48-34               0.585\n",
       "2  2014-15  Celtics  40-42               0.488\n",
       "3  2013-14  Celtics  25-57               0.305\n",
       "4  2012-13  Celtics  41-40               0.506"
      ]
     },
     "execution_count": 25,
     "metadata": {},
     "output_type": "execute_result"
    }
   ],
   "source": [
    "performance.head()"
   ]
  },
  {
   "cell_type": "code",
   "execution_count": 26,
   "id": "c9318361",
   "metadata": {},
   "outputs": [
    {
     "data": {
      "text/html": [
       "<div>\n",
       "<style scoped>\n",
       "    .dataframe tbody tr th:only-of-type {\n",
       "        vertical-align: middle;\n",
       "    }\n",
       "\n",
       "    .dataframe tbody tr th {\n",
       "        vertical-align: top;\n",
       "    }\n",
       "\n",
       "    .dataframe thead th {\n",
       "        text-align: right;\n",
       "    }\n",
       "</style>\n",
       "<table border=\"1\" class=\"dataframe\">\n",
       "  <thead>\n",
       "    <tr style=\"text-align: right;\">\n",
       "      <th></th>\n",
       "      <th>Starting Year</th>\n",
       "      <th>Rank</th>\n",
       "      <th>Team</th>\n",
       "      <th>Home: Total Games</th>\n",
       "      <th>Home: Total Attendance</th>\n",
       "      <th>Home: Avg Attendance</th>\n",
       "      <th>Home: % Capactiy</th>\n",
       "      <th>Away: Total Games</th>\n",
       "      <th>Away: Total Attendance</th>\n",
       "      <th>Away: Avg Attendance</th>\n",
       "      <th>Away: % Capactiy</th>\n",
       "    </tr>\n",
       "  </thead>\n",
       "  <tbody>\n",
       "    <tr>\n",
       "      <th>0</th>\n",
       "      <td>2015.0</td>\n",
       "      <td>1.0</td>\n",
       "      <td>Bulls</td>\n",
       "      <td>41.0</td>\n",
       "      <td>894659.0</td>\n",
       "      <td>21820.0</td>\n",
       "      <td>104.3</td>\n",
       "      <td>41.0</td>\n",
       "      <td>18156.0</td>\n",
       "      <td>94.5</td>\n",
       "      <td>82.0</td>\n",
       "    </tr>\n",
       "    <tr>\n",
       "      <th>1</th>\n",
       "      <td>2015.0</td>\n",
       "      <td>2.0</td>\n",
       "      <td>Cavaliers</td>\n",
       "      <td>41.0</td>\n",
       "      <td>843042.0</td>\n",
       "      <td>20562.0</td>\n",
       "      <td>100.0</td>\n",
       "      <td>41.0</td>\n",
       "      <td>18910.0</td>\n",
       "      <td>98.2</td>\n",
       "      <td>82.0</td>\n",
       "    </tr>\n",
       "    <tr>\n",
       "      <th>2</th>\n",
       "      <td>2015.0</td>\n",
       "      <td>3.0</td>\n",
       "      <td>Mavericks</td>\n",
       "      <td>41.0</td>\n",
       "      <td>825901.0</td>\n",
       "      <td>20143.0</td>\n",
       "      <td>104.9</td>\n",
       "      <td>41.0</td>\n",
       "      <td>17727.0</td>\n",
       "      <td>93.4</td>\n",
       "      <td>82.0</td>\n",
       "    </tr>\n",
       "    <tr>\n",
       "      <th>3</th>\n",
       "      <td>2015.0</td>\n",
       "      <td>4.0</td>\n",
       "      <td>Raptors</td>\n",
       "      <td>41.0</td>\n",
       "      <td>812863.0</td>\n",
       "      <td>19825.0</td>\n",
       "      <td>100.1</td>\n",
       "      <td>41.0</td>\n",
       "      <td>17162.0</td>\n",
       "      <td>89.2</td>\n",
       "      <td>82.0</td>\n",
       "    </tr>\n",
       "    <tr>\n",
       "      <th>4</th>\n",
       "      <td>2015.0</td>\n",
       "      <td>5.0</td>\n",
       "      <td>NY Knicks</td>\n",
       "      <td>41.0</td>\n",
       "      <td>812292.0</td>\n",
       "      <td>19812.0</td>\n",
       "      <td>100.0</td>\n",
       "      <td>41.0</td>\n",
       "      <td>18440.0</td>\n",
       "      <td>96.0</td>\n",
       "      <td>82.0</td>\n",
       "    </tr>\n",
       "  </tbody>\n",
       "</table>\n",
       "</div>"
      ],
      "text/plain": [
       "   Starting Year  Rank       Team  Home: Total Games  Home: Total Attendance  \\\n",
       "0         2015.0   1.0      Bulls               41.0                894659.0   \n",
       "1         2015.0   2.0  Cavaliers               41.0                843042.0   \n",
       "2         2015.0   3.0  Mavericks               41.0                825901.0   \n",
       "3         2015.0   4.0    Raptors               41.0                812863.0   \n",
       "4         2015.0   5.0  NY Knicks               41.0                812292.0   \n",
       "\n",
       "   Home: Avg Attendance Home: % Capactiy  Away: Total Games  \\\n",
       "0               21820.0            104.3               41.0   \n",
       "1               20562.0            100.0               41.0   \n",
       "2               20143.0            104.9               41.0   \n",
       "3               19825.0            100.1               41.0   \n",
       "4               19812.0            100.0               41.0   \n",
       "\n",
       "   Away: Total Attendance Away: Avg Attendance  Away: % Capactiy  \n",
       "0                 18156.0                 94.5              82.0  \n",
       "1                 18910.0                 98.2              82.0  \n",
       "2                 17727.0                 93.4              82.0  \n",
       "3                 17162.0                 89.2              82.0  \n",
       "4                 18440.0                 96.0              82.0  "
      ]
     },
     "execution_count": 26,
     "metadata": {},
     "output_type": "execute_result"
    }
   ],
   "source": [
    "attendance.head()"
   ]
  },
  {
   "cell_type": "markdown",
   "id": "65201973",
   "metadata": {},
   "source": [
    "## 3. Build a New Database"
   ]
  },
  {
   "cell_type": "markdown",
   "id": "4899a4d3",
   "metadata": {},
   "source": [
    "Here we connect all of these dataset together and build a new database."
   ]
  },
  {
   "cell_type": "code",
   "execution_count": 27,
   "id": "3fb170cc",
   "metadata": {},
   "outputs": [],
   "source": [
    "db_path = './RawData/basketball.sqlite'\n",
    "new_db_path = './DataBase/nba_data.sqlite'\n",
    "src = sqlite3.connect(db_path)\n",
    "dst = sqlite3.connect(new_db_path)\n",
    "\n",
    "with dst:\n",
    "    src.backup(dst)\n",
    "    \n",
    "src.close()"
   ]
  },
  {
   "cell_type": "code",
   "execution_count": 28,
   "id": "cc5648d0",
   "metadata": {},
   "outputs": [
    {
     "name": "stderr",
     "output_type": "stream",
     "text": [
      "/Users/chenjiawen/opt/anaconda3/lib/python3.8/site-packages/pandas/core/generic.py:2872: UserWarning: The spaces in these column names will not be changed. In pandas versions < 0.14, spaces were converted to underscores.\n",
      "  sql.to_sql(\n"
     ]
    }
   ],
   "source": [
    "performance.to_sql('Performance', dst, if_exists='append', index=False)"
   ]
  },
  {
   "cell_type": "code",
   "execution_count": 29,
   "id": "79ca1778",
   "metadata": {},
   "outputs": [],
   "source": [
    "attendance.to_sql('Attendance', dst, if_exists='append', index=False)"
   ]
  },
  {
   "cell_type": "code",
   "execution_count": 30,
   "id": "1edc1ecb",
   "metadata": {},
   "outputs": [
    {
     "name": "stdout",
     "output_type": "stream",
     "text": [
      "['Player', 'Team', 'Team_Attributes', 'Player_Attributes', 'Team_Salary', 'Player_Salary', 'Draft', 'Draft_Combine', 'Game', 'Performance', 'Attendance']\n"
     ]
    }
   ],
   "source": [
    "cursor = dst.cursor()\n",
    "cursor.execute('SELECT name from sqlite_master where type= \"table\"')\n",
    "table_names = [table[0] for table in cursor.fetchall()]\n",
    "print(table_names)"
   ]
  },
  {
   "cell_type": "code",
   "execution_count": 31,
   "id": "1d2a9760",
   "metadata": {},
   "outputs": [
    {
     "data": {
      "text/plain": [
       "476"
      ]
     },
     "execution_count": 31,
     "metadata": {},
     "output_type": "execute_result"
    }
   ],
   "source": [
    "cursor.execute('SELECT * from Attendance')\n",
    "len(cursor.fetchall())"
   ]
  },
  {
   "cell_type": "code",
   "execution_count": 32,
   "id": "e399e4f4",
   "metadata": {},
   "outputs": [
    {
     "data": {
      "text/plain": [
       "1417"
      ]
     },
     "execution_count": 32,
     "metadata": {},
     "output_type": "execute_result"
    }
   ],
   "source": [
    "cursor.execute('SELECT * from Performance')\n",
    "len(cursor.fetchall())"
   ]
  },
  {
   "cell_type": "code",
   "execution_count": 33,
   "id": "8dc2ff35",
   "metadata": {},
   "outputs": [],
   "source": [
    "dst.close()"
   ]
  },
  {
   "cell_type": "markdown",
   "id": "91640cbb",
   "metadata": {},
   "source": [
    "From the output above, we successfully connect two dataset together. The new database named nba_data is under DataBase directory."
   ]
  }
 ],
 "metadata": {
  "kernelspec": {
   "display_name": "Python 3 (ipykernel)",
   "language": "python",
   "name": "python3"
  },
  "language_info": {
   "codemirror_mode": {
    "name": "ipython",
    "version": 3
   },
   "file_extension": ".py",
   "mimetype": "text/x-python",
   "name": "python",
   "nbconvert_exporter": "python",
   "pygments_lexer": "ipython3",
   "version": "3.8.12"
  }
 },
 "nbformat": 4,
 "nbformat_minor": 5
}
