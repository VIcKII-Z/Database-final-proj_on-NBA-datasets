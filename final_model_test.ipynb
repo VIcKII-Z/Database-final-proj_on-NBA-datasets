{
 "cells": [
  {
   "cell_type": "code",
   "execution_count": 1,
   "id": "b9fb9e22",
   "metadata": {
    "execution": {
     "iopub.execute_input": "2022-09-27T05:52:55.867153Z",
     "iopub.status.busy": "2022-09-27T05:52:55.866649Z",
     "iopub.status.idle": "2022-09-27T05:52:57.648688Z",
     "shell.execute_reply": "2022-09-27T05:52:57.647141Z"
    },
    "papermill": {
     "duration": 1.805208,
     "end_time": "2022-09-27T05:52:57.652138",
     "exception": false,
     "start_time": "2022-09-27T05:52:55.846930",
     "status": "completed"
    },
    "tags": []
   },
   "outputs": [],
   "source": [
    "####### LIBRARIES ######\n",
    "\n",
    "import pandas as pd\n",
    "import numpy as np\n",
    "import matplotlib.pyplot as plt\n",
    "import seaborn as sns\n",
    "\n",
    "from sklearn.impute import SimpleImputer\n",
    "from sklearn.pipeline import Pipeline\n",
    "from sklearn.compose import ColumnTransformer\n",
    "from sklearn.preprocessing import OneHotEncoder\n",
    "\n",
    "from sklearn.model_selection import train_test_split, cross_val_predict\n",
    "from sklearn.model_selection import StratifiedKFold\n",
    "from sklearn.model_selection import RandomizedSearchCV\n",
    "from sklearn.feature_selection import RFECV\n",
    "\n",
    "from sklearn.metrics import ConfusionMatrixDisplay, confusion_matrix\n",
    "from sklearn.metrics import precision_recall_curve, PrecisionRecallDisplay\n",
    "from sklearn.metrics import RocCurveDisplay, roc_curve, auc\n",
    "from sklearn.metrics import precision_score, recall_score, classification_report\n",
    "\n",
    "\n",
    "from sklearn.base import BaseEstimator, TransformerMixin\n",
    "from sklearn.base import clone\n",
    "\n",
    "from scipy.stats import expon, uniform, randint\n",
    "\n",
    "from xgboost import XGBClassifier\n",
    "\n",
    "import joblib\n",
    "import os"
   ]
  },
  {
   "cell_type": "markdown",
   "id": "9b28b7b3",
   "metadata": {},
   "source": [
    "\n",
    "First, use our combined data `filtered.csv` with preliminary treatment above. Do the train-test split. Note that the data here is quite small, only about 1400 rows. After splitting, we want to make sure that both the train and test sets are representative of the whole dataset. For that, we are using <i>stratified sampling</i>."
   ]
  },
  {
   "cell_type": "code",
   "execution_count": 15,
   "id": "ca09a65c",
   "metadata": {},
   "outputs": [],
   "source": [
    "# split the data into train and test set\n",
    "from sklearn.model_selection import StratifiedShuffleSplit\n",
    "dataset  = pd.read_csv('filetered.csv', index_col=0)\n",
    "split = StratifiedShuffleSplit(n_splits=1, test_size=0.2, random_state=42)\n",
    "for train_index, test_index in split.split(dataset, dataset['yearCombine']):\n",
    "    train = dataset.loc[train_index]\n",
    "    test = dataset.loc[test_index]"
   ]
  },
  {
   "cell_type": "code",
   "execution_count": 16,
   "id": "5140d946",
   "metadata": {},
   "outputs": [
    {
     "data": {
      "text/html": [
       "<div>\n",
       "<style scoped>\n",
       "    .dataframe tbody tr th:only-of-type {\n",
       "        vertical-align: middle;\n",
       "    }\n",
       "\n",
       "    .dataframe tbody tr th {\n",
       "        vertical-align: top;\n",
       "    }\n",
       "\n",
       "    .dataframe thead th {\n",
       "        text-align: right;\n",
       "    }\n",
       "</style>\n",
       "<table border=\"1\" class=\"dataframe\">\n",
       "  <thead>\n",
       "    <tr style=\"text-align: right;\">\n",
       "      <th></th>\n",
       "      <th>player_id</th>\n",
       "      <th>player_name</th>\n",
       "      <th>yearDraft</th>\n",
       "      <th>yearCombine</th>\n",
       "      <th>numberPickOverall</th>\n",
       "      <th>position</th>\n",
       "      <th>height</th>\n",
       "      <th>weight</th>\n",
       "      <th>wingspan</th>\n",
       "      <th>reach_standing</th>\n",
       "      <th>standing_vertical</th>\n",
       "      <th>max_vertical</th>\n",
       "      <th>bench_reps</th>\n",
       "      <th>timeLaneAgility</th>\n",
       "      <th>timeThreeQuarterCourtSprint</th>\n",
       "      <th>timeModifiedLaneAgility</th>\n",
       "      <th>lengthHandInches</th>\n",
       "      <th>widthHandInches</th>\n",
       "      <th>body_fat_pct</th>\n",
       "      <th>drafted</th>\n",
       "    </tr>\n",
       "  </thead>\n",
       "  <tbody>\n",
       "    <tr>\n",
       "      <th>0</th>\n",
       "      <td>2124.0</td>\n",
       "      <td>Malik Allen</td>\n",
       "      <td>NaN</td>\n",
       "      <td>2000</td>\n",
       "      <td>NaN</td>\n",
       "      <td>PF-C</td>\n",
       "      <td>80.25</td>\n",
       "      <td>271.0</td>\n",
       "      <td>86.50</td>\n",
       "      <td>109.0</td>\n",
       "      <td>25.5</td>\n",
       "      <td>29.0</td>\n",
       "      <td>13.0</td>\n",
       "      <td>11.83</td>\n",
       "      <td>3.38</td>\n",
       "      <td>NaN</td>\n",
       "      <td>NaN</td>\n",
       "      <td>NaN</td>\n",
       "      <td>NaN</td>\n",
       "      <td>False</td>\n",
       "    </tr>\n",
       "    <tr>\n",
       "      <th>1</th>\n",
       "      <td>12019.0</td>\n",
       "      <td>Harold Arceneaux</td>\n",
       "      <td>NaN</td>\n",
       "      <td>2000</td>\n",
       "      <td>NaN</td>\n",
       "      <td>SG-SF</td>\n",
       "      <td>76.50</td>\n",
       "      <td>219.0</td>\n",
       "      <td>80.50</td>\n",
       "      <td>103.0</td>\n",
       "      <td>NaN</td>\n",
       "      <td>29.0</td>\n",
       "      <td>0.0</td>\n",
       "      <td>13.80</td>\n",
       "      <td>NaN</td>\n",
       "      <td>NaN</td>\n",
       "      <td>NaN</td>\n",
       "      <td>NaN</td>\n",
       "      <td>NaN</td>\n",
       "      <td>False</td>\n",
       "    </tr>\n",
       "    <tr>\n",
       "      <th>2</th>\n",
       "      <td>12020.0</td>\n",
       "      <td>Lamont Barnes</td>\n",
       "      <td>NaN</td>\n",
       "      <td>2000</td>\n",
       "      <td>NaN</td>\n",
       "      <td>PF-C</td>\n",
       "      <td>80.50</td>\n",
       "      <td>235.5</td>\n",
       "      <td>87.50</td>\n",
       "      <td>108.0</td>\n",
       "      <td>28.0</td>\n",
       "      <td>29.5</td>\n",
       "      <td>10.0</td>\n",
       "      <td>12.30</td>\n",
       "      <td>3.40</td>\n",
       "      <td>NaN</td>\n",
       "      <td>NaN</td>\n",
       "      <td>NaN</td>\n",
       "      <td>NaN</td>\n",
       "      <td>False</td>\n",
       "    </tr>\n",
       "    <tr>\n",
       "      <th>3</th>\n",
       "      <td>12131.0</td>\n",
       "      <td>Mario Bland</td>\n",
       "      <td>NaN</td>\n",
       "      <td>2000</td>\n",
       "      <td>NaN</td>\n",
       "      <td>PF</td>\n",
       "      <td>77.50</td>\n",
       "      <td>287.0</td>\n",
       "      <td>84.00</td>\n",
       "      <td>103.0</td>\n",
       "      <td>27.0</td>\n",
       "      <td>31.0</td>\n",
       "      <td>15.0</td>\n",
       "      <td>13.04</td>\n",
       "      <td>3.47</td>\n",
       "      <td>NaN</td>\n",
       "      <td>NaN</td>\n",
       "      <td>NaN</td>\n",
       "      <td>NaN</td>\n",
       "      <td>False</td>\n",
       "    </tr>\n",
       "    <tr>\n",
       "      <th>4</th>\n",
       "      <td>2056.0</td>\n",
       "      <td>Primoz Brezec</td>\n",
       "      <td>2000.0</td>\n",
       "      <td>2000</td>\n",
       "      <td>27.0</td>\n",
       "      <td>C</td>\n",
       "      <td>84.75</td>\n",
       "      <td>243.0</td>\n",
       "      <td>86.00</td>\n",
       "      <td>110.0</td>\n",
       "      <td>26.0</td>\n",
       "      <td>29.5</td>\n",
       "      <td>NaN</td>\n",
       "      <td>11.53</td>\n",
       "      <td>3.55</td>\n",
       "      <td>NaN</td>\n",
       "      <td>NaN</td>\n",
       "      <td>NaN</td>\n",
       "      <td>NaN</td>\n",
       "      <td>True</td>\n",
       "    </tr>\n",
       "    <tr>\n",
       "      <th>...</th>\n",
       "      <td>...</td>\n",
       "      <td>...</td>\n",
       "      <td>...</td>\n",
       "      <td>...</td>\n",
       "      <td>...</td>\n",
       "      <td>...</td>\n",
       "      <td>...</td>\n",
       "      <td>...</td>\n",
       "      <td>...</td>\n",
       "      <td>...</td>\n",
       "      <td>...</td>\n",
       "      <td>...</td>\n",
       "      <td>...</td>\n",
       "      <td>...</td>\n",
       "      <td>...</td>\n",
       "      <td>...</td>\n",
       "      <td>...</td>\n",
       "      <td>...</td>\n",
       "      <td>...</td>\n",
       "      <td>...</td>\n",
       "    </tr>\n",
       "    <tr>\n",
       "      <th>1390</th>\n",
       "      <td>1630214.0</td>\n",
       "      <td>Xavier Tillman Sr.</td>\n",
       "      <td>2020.0</td>\n",
       "      <td>2020</td>\n",
       "      <td>35.0</td>\n",
       "      <td>PF-C</td>\n",
       "      <td>79.50</td>\n",
       "      <td>266.5</td>\n",
       "      <td>86.00</td>\n",
       "      <td>106.0</td>\n",
       "      <td>26.0</td>\n",
       "      <td>32.5</td>\n",
       "      <td>NaN</td>\n",
       "      <td>11.80</td>\n",
       "      <td>3.49</td>\n",
       "      <td>3.01</td>\n",
       "      <td>10.25</td>\n",
       "      <td>11.00</td>\n",
       "      <td>8.5</td>\n",
       "      <td>True</td>\n",
       "    </tr>\n",
       "    <tr>\n",
       "      <th>1391</th>\n",
       "      <td>1629700.0</td>\n",
       "      <td>Kaleb Wesson</td>\n",
       "      <td>NaN</td>\n",
       "      <td>2020</td>\n",
       "      <td>NaN</td>\n",
       "      <td>C</td>\n",
       "      <td>81.25</td>\n",
       "      <td>252.6</td>\n",
       "      <td>87.50</td>\n",
       "      <td>111.5</td>\n",
       "      <td>21.5</td>\n",
       "      <td>27.0</td>\n",
       "      <td>NaN</td>\n",
       "      <td>11.73</td>\n",
       "      <td>3.60</td>\n",
       "      <td>2.64</td>\n",
       "      <td>9.00</td>\n",
       "      <td>10.75</td>\n",
       "      <td>12.5</td>\n",
       "      <td>False</td>\n",
       "    </tr>\n",
       "    <tr>\n",
       "      <th>1392</th>\n",
       "      <td>1630232.0</td>\n",
       "      <td>Kahlil Whitney</td>\n",
       "      <td>NaN</td>\n",
       "      <td>2020</td>\n",
       "      <td>NaN</td>\n",
       "      <td>SF</td>\n",
       "      <td>77.50</td>\n",
       "      <td>205.0</td>\n",
       "      <td>84.25</td>\n",
       "      <td>105.5</td>\n",
       "      <td>29.0</td>\n",
       "      <td>39.0</td>\n",
       "      <td>NaN</td>\n",
       "      <td>11.17</td>\n",
       "      <td>3.28</td>\n",
       "      <td>2.61</td>\n",
       "      <td>9.25</td>\n",
       "      <td>10.25</td>\n",
       "      <td>5.3</td>\n",
       "      <td>False</td>\n",
       "    </tr>\n",
       "    <tr>\n",
       "      <th>1393</th>\n",
       "      <td>1630216.0</td>\n",
       "      <td>Cassius Winston</td>\n",
       "      <td>2020.0</td>\n",
       "      <td>2020</td>\n",
       "      <td>53.0</td>\n",
       "      <td>PG</td>\n",
       "      <td>72.50</td>\n",
       "      <td>196.0</td>\n",
       "      <td>78.00</td>\n",
       "      <td>97.0</td>\n",
       "      <td>24.0</td>\n",
       "      <td>28.0</td>\n",
       "      <td>NaN</td>\n",
       "      <td>11.15</td>\n",
       "      <td>3.61</td>\n",
       "      <td>2.74</td>\n",
       "      <td>8.75</td>\n",
       "      <td>8.25</td>\n",
       "      <td>9.0</td>\n",
       "      <td>True</td>\n",
       "    </tr>\n",
       "    <tr>\n",
       "      <th>1394</th>\n",
       "      <td>1630218.0</td>\n",
       "      <td>Robert Woodard II</td>\n",
       "      <td>2020.0</td>\n",
       "      <td>2020</td>\n",
       "      <td>40.0</td>\n",
       "      <td>SF</td>\n",
       "      <td>77.50</td>\n",
       "      <td>230.2</td>\n",
       "      <td>86.00</td>\n",
       "      <td>105.5</td>\n",
       "      <td>32.0</td>\n",
       "      <td>38.0</td>\n",
       "      <td>NaN</td>\n",
       "      <td>11.10</td>\n",
       "      <td>3.18</td>\n",
       "      <td>2.49</td>\n",
       "      <td>9.00</td>\n",
       "      <td>10.75</td>\n",
       "      <td>4.5</td>\n",
       "      <td>True</td>\n",
       "    </tr>\n",
       "  </tbody>\n",
       "</table>\n",
       "<p>1395 rows × 20 columns</p>\n",
       "</div>"
      ],
      "text/plain": [
       "      player_id         player_name  yearDraft  yearCombine  \\\n",
       "0        2124.0         Malik Allen        NaN         2000   \n",
       "1       12019.0    Harold Arceneaux        NaN         2000   \n",
       "2       12020.0       Lamont Barnes        NaN         2000   \n",
       "3       12131.0         Mario Bland        NaN         2000   \n",
       "4        2056.0       Primoz Brezec     2000.0         2000   \n",
       "...         ...                 ...        ...          ...   \n",
       "1390  1630214.0  Xavier Tillman Sr.     2020.0         2020   \n",
       "1391  1629700.0        Kaleb Wesson        NaN         2020   \n",
       "1392  1630232.0      Kahlil Whitney        NaN         2020   \n",
       "1393  1630216.0     Cassius Winston     2020.0         2020   \n",
       "1394  1630218.0   Robert Woodard II     2020.0         2020   \n",
       "\n",
       "      numberPickOverall position  height  weight  wingspan  reach_standing  \\\n",
       "0                   NaN     PF-C   80.25   271.0     86.50           109.0   \n",
       "1                   NaN    SG-SF   76.50   219.0     80.50           103.0   \n",
       "2                   NaN     PF-C   80.50   235.5     87.50           108.0   \n",
       "3                   NaN       PF   77.50   287.0     84.00           103.0   \n",
       "4                  27.0        C   84.75   243.0     86.00           110.0   \n",
       "...                 ...      ...     ...     ...       ...             ...   \n",
       "1390               35.0     PF-C   79.50   266.5     86.00           106.0   \n",
       "1391                NaN        C   81.25   252.6     87.50           111.5   \n",
       "1392                NaN       SF   77.50   205.0     84.25           105.5   \n",
       "1393               53.0       PG   72.50   196.0     78.00            97.0   \n",
       "1394               40.0       SF   77.50   230.2     86.00           105.5   \n",
       "\n",
       "      standing_vertical  max_vertical  bench_reps  timeLaneAgility  \\\n",
       "0                  25.5          29.0        13.0            11.83   \n",
       "1                   NaN          29.0         0.0            13.80   \n",
       "2                  28.0          29.5        10.0            12.30   \n",
       "3                  27.0          31.0        15.0            13.04   \n",
       "4                  26.0          29.5         NaN            11.53   \n",
       "...                 ...           ...         ...              ...   \n",
       "1390               26.0          32.5         NaN            11.80   \n",
       "1391               21.5          27.0         NaN            11.73   \n",
       "1392               29.0          39.0         NaN            11.17   \n",
       "1393               24.0          28.0         NaN            11.15   \n",
       "1394               32.0          38.0         NaN            11.10   \n",
       "\n",
       "      timeThreeQuarterCourtSprint  timeModifiedLaneAgility  lengthHandInches  \\\n",
       "0                            3.38                      NaN               NaN   \n",
       "1                             NaN                      NaN               NaN   \n",
       "2                            3.40                      NaN               NaN   \n",
       "3                            3.47                      NaN               NaN   \n",
       "4                            3.55                      NaN               NaN   \n",
       "...                           ...                      ...               ...   \n",
       "1390                         3.49                     3.01             10.25   \n",
       "1391                         3.60                     2.64              9.00   \n",
       "1392                         3.28                     2.61              9.25   \n",
       "1393                         3.61                     2.74              8.75   \n",
       "1394                         3.18                     2.49              9.00   \n",
       "\n",
       "      widthHandInches  body_fat_pct  drafted  \n",
       "0                 NaN           NaN    False  \n",
       "1                 NaN           NaN    False  \n",
       "2                 NaN           NaN    False  \n",
       "3                 NaN           NaN    False  \n",
       "4                 NaN           NaN     True  \n",
       "...               ...           ...      ...  \n",
       "1390            11.00           8.5     True  \n",
       "1391            10.75          12.5    False  \n",
       "1392            10.25           5.3    False  \n",
       "1393             8.25           9.0     True  \n",
       "1394            10.75           4.5     True  \n",
       "\n",
       "[1395 rows x 20 columns]"
      ]
     },
     "execution_count": 16,
     "metadata": {},
     "output_type": "execute_result"
    }
   ],
   "source": [
    "dataset"
   ]
  },
  {
   "cell_type": "markdown",
   "id": "3e38fd27",
   "metadata": {
    "papermill": {
     "duration": 0.018674,
     "end_time": "2022-09-27T05:52:57.832729",
     "exception": false,
     "start_time": "2022-09-27T05:52:57.814055",
     "status": "completed"
    },
    "tags": []
   },
   "source": [
    "The columns *player_id, player_name, yearDraft*, and *numberPickOverall* are to be dropped as the existence of yearDraft means the player was drafted. We would get 100% accuracy by including this column.\n"
   ]
  },
  {
   "cell_type": "code",
   "execution_count": 17,
   "id": "ebce11c6",
   "metadata": {
    "execution": {
     "iopub.execute_input": "2022-09-27T05:52:57.872664Z",
     "iopub.status.busy": "2022-09-27T05:52:57.872108Z",
     "iopub.status.idle": "2022-09-27T05:52:57.935889Z",
     "shell.execute_reply": "2022-09-27T05:52:57.934767Z"
    },
    "papermill": {
     "duration": 0.087876,
     "end_time": "2022-09-27T05:52:57.938928",
     "exception": false,
     "start_time": "2022-09-27T05:52:57.851052",
     "status": "completed"
    },
    "tags": []
   },
   "outputs": [],
   "source": [
    "train_label = train['drafted']\n",
    "\n",
    "# drop columns\n",
    "train = train.drop(['player_id', 'player_name', 'yearDraft', 'numberPickOverall', 'drafted'], axis=1)\n",
    "\n",
    "\n",
    "num_other_cols = ['yearCombine', 'standing_vertical', 'max_vertical', 'bench_reps', 'timeLaneAgility', 'timeThreeQuarterCourtSprint', 'timeModifiedLaneAgility', 'lengthHandInches', 'widthHandInches', 'body_fat_pct']\n",
    "cat_cols = train.select_dtypes(exclude=['float64', 'int64']).columns\n",
    "num_impute_cols = ['height', 'weight', 'wingspan', 'reach_standing']"
   ]
  },
  {
   "cell_type": "code",
   "execution_count": 18,
   "id": "6e01f9b6",
   "metadata": {},
   "outputs": [
    {
     "data": {
      "text/html": [
       "<div>\n",
       "<style scoped>\n",
       "    .dataframe tbody tr th:only-of-type {\n",
       "        vertical-align: middle;\n",
       "    }\n",
       "\n",
       "    .dataframe tbody tr th {\n",
       "        vertical-align: top;\n",
       "    }\n",
       "\n",
       "    .dataframe thead th {\n",
       "        text-align: right;\n",
       "    }\n",
       "</style>\n",
       "<table border=\"1\" class=\"dataframe\">\n",
       "  <thead>\n",
       "    <tr style=\"text-align: right;\">\n",
       "      <th></th>\n",
       "      <th>yearCombine</th>\n",
       "      <th>position</th>\n",
       "      <th>height</th>\n",
       "      <th>weight</th>\n",
       "      <th>wingspan</th>\n",
       "      <th>reach_standing</th>\n",
       "      <th>standing_vertical</th>\n",
       "      <th>max_vertical</th>\n",
       "      <th>bench_reps</th>\n",
       "      <th>timeLaneAgility</th>\n",
       "      <th>timeThreeQuarterCourtSprint</th>\n",
       "      <th>timeModifiedLaneAgility</th>\n",
       "      <th>lengthHandInches</th>\n",
       "      <th>widthHandInches</th>\n",
       "      <th>body_fat_pct</th>\n",
       "    </tr>\n",
       "  </thead>\n",
       "  <tbody>\n",
       "    <tr>\n",
       "      <th>835</th>\n",
       "      <td>2011</td>\n",
       "      <td>PG</td>\n",
       "      <td>73.50</td>\n",
       "      <td>187.6</td>\n",
       "      <td>77.50</td>\n",
       "      <td>99.0</td>\n",
       "      <td>28.5</td>\n",
       "      <td>34.0</td>\n",
       "      <td>9.0</td>\n",
       "      <td>11.05</td>\n",
       "      <td>3.17</td>\n",
       "      <td>NaN</td>\n",
       "      <td>8.50</td>\n",
       "      <td>9.25</td>\n",
       "      <td>5.6</td>\n",
       "    </tr>\n",
       "    <tr>\n",
       "      <th>849</th>\n",
       "      <td>2012</td>\n",
       "      <td>SG</td>\n",
       "      <td>75.25</td>\n",
       "      <td>201.8</td>\n",
       "      <td>80.00</td>\n",
       "      <td>100.0</td>\n",
       "      <td>33.0</td>\n",
       "      <td>39.0</td>\n",
       "      <td>8.0</td>\n",
       "      <td>10.95</td>\n",
       "      <td>3.28</td>\n",
       "      <td>NaN</td>\n",
       "      <td>8.50</td>\n",
       "      <td>9.00</td>\n",
       "      <td>6.0</td>\n",
       "    </tr>\n",
       "    <tr>\n",
       "      <th>6</th>\n",
       "      <td>2000</td>\n",
       "      <td>PG</td>\n",
       "      <td>70.50</td>\n",
       "      <td>166.0</td>\n",
       "      <td>72.00</td>\n",
       "      <td>94.5</td>\n",
       "      <td>36.0</td>\n",
       "      <td>42.5</td>\n",
       "      <td>6.0</td>\n",
       "      <td>10.48</td>\n",
       "      <td>3.06</td>\n",
       "      <td>NaN</td>\n",
       "      <td>NaN</td>\n",
       "      <td>NaN</td>\n",
       "      <td>NaN</td>\n",
       "    </tr>\n",
       "    <tr>\n",
       "      <th>827</th>\n",
       "      <td>2011</td>\n",
       "      <td>SF</td>\n",
       "      <td>80.75</td>\n",
       "      <td>221.2</td>\n",
       "      <td>81.50</td>\n",
       "      <td>104.5</td>\n",
       "      <td>25.5</td>\n",
       "      <td>31.5</td>\n",
       "      <td>4.0</td>\n",
       "      <td>11.05</td>\n",
       "      <td>3.29</td>\n",
       "      <td>NaN</td>\n",
       "      <td>8.25</td>\n",
       "      <td>10.00</td>\n",
       "      <td>7.0</td>\n",
       "    </tr>\n",
       "    <tr>\n",
       "      <th>687</th>\n",
       "      <td>2008</td>\n",
       "      <td>SG-PG</td>\n",
       "      <td>72.75</td>\n",
       "      <td>166.2</td>\n",
       "      <td>79.25</td>\n",
       "      <td>98.0</td>\n",
       "      <td>31.0</td>\n",
       "      <td>39.0</td>\n",
       "      <td>2.0</td>\n",
       "      <td>10.98</td>\n",
       "      <td>3.08</td>\n",
       "      <td>NaN</td>\n",
       "      <td>NaN</td>\n",
       "      <td>NaN</td>\n",
       "      <td>3.8</td>\n",
       "    </tr>\n",
       "    <tr>\n",
       "      <th>...</th>\n",
       "      <td>...</td>\n",
       "      <td>...</td>\n",
       "      <td>...</td>\n",
       "      <td>...</td>\n",
       "      <td>...</td>\n",
       "      <td>...</td>\n",
       "      <td>...</td>\n",
       "      <td>...</td>\n",
       "      <td>...</td>\n",
       "      <td>...</td>\n",
       "      <td>...</td>\n",
       "      <td>...</td>\n",
       "      <td>...</td>\n",
       "      <td>...</td>\n",
       "      <td>...</td>\n",
       "    </tr>\n",
       "    <tr>\n",
       "      <th>1331</th>\n",
       "      <td>2019</td>\n",
       "      <td>SF</td>\n",
       "      <td>79.25</td>\n",
       "      <td>209.6</td>\n",
       "      <td>85.75</td>\n",
       "      <td>106.5</td>\n",
       "      <td>30.5</td>\n",
       "      <td>37.0</td>\n",
       "      <td>9.0</td>\n",
       "      <td>10.88</td>\n",
       "      <td>3.38</td>\n",
       "      <td>3.13</td>\n",
       "      <td>9.25</td>\n",
       "      <td>9.25</td>\n",
       "      <td>4.6</td>\n",
       "    </tr>\n",
       "    <tr>\n",
       "      <th>7</th>\n",
       "      <td>2000</td>\n",
       "      <td>SG-SF</td>\n",
       "      <td>76.00</td>\n",
       "      <td>205.0</td>\n",
       "      <td>83.00</td>\n",
       "      <td>102.0</td>\n",
       "      <td>35.0</td>\n",
       "      <td>38.0</td>\n",
       "      <td>10.0</td>\n",
       "      <td>11.40</td>\n",
       "      <td>3.15</td>\n",
       "      <td>NaN</td>\n",
       "      <td>NaN</td>\n",
       "      <td>NaN</td>\n",
       "      <td>NaN</td>\n",
       "    </tr>\n",
       "    <tr>\n",
       "      <th>36</th>\n",
       "      <td>2000</td>\n",
       "      <td>PG-SG</td>\n",
       "      <td>73.50</td>\n",
       "      <td>205.5</td>\n",
       "      <td>76.50</td>\n",
       "      <td>97.5</td>\n",
       "      <td>31.0</td>\n",
       "      <td>38.5</td>\n",
       "      <td>24.0</td>\n",
       "      <td>10.99</td>\n",
       "      <td>3.31</td>\n",
       "      <td>NaN</td>\n",
       "      <td>NaN</td>\n",
       "      <td>NaN</td>\n",
       "      <td>NaN</td>\n",
       "    </tr>\n",
       "    <tr>\n",
       "      <th>1160</th>\n",
       "      <td>2017</td>\n",
       "      <td>SG-SF</td>\n",
       "      <td>77.00</td>\n",
       "      <td>220.2</td>\n",
       "      <td>78.00</td>\n",
       "      <td>100.5</td>\n",
       "      <td>31.0</td>\n",
       "      <td>37.5</td>\n",
       "      <td>16.0</td>\n",
       "      <td>11.14</td>\n",
       "      <td>3.21</td>\n",
       "      <td>3.24</td>\n",
       "      <td>8.25</td>\n",
       "      <td>9.25</td>\n",
       "      <td>7.5</td>\n",
       "    </tr>\n",
       "    <tr>\n",
       "      <th>105</th>\n",
       "      <td>2001</td>\n",
       "      <td>PF-SF</td>\n",
       "      <td>80.00</td>\n",
       "      <td>242.0</td>\n",
       "      <td>84.25</td>\n",
       "      <td>106.0</td>\n",
       "      <td>27.0</td>\n",
       "      <td>31.5</td>\n",
       "      <td>11.0</td>\n",
       "      <td>12.25</td>\n",
       "      <td>3.35</td>\n",
       "      <td>NaN</td>\n",
       "      <td>NaN</td>\n",
       "      <td>NaN</td>\n",
       "      <td>10.5</td>\n",
       "    </tr>\n",
       "  </tbody>\n",
       "</table>\n",
       "<p>1116 rows × 15 columns</p>\n",
       "</div>"
      ],
      "text/plain": [
       "      yearCombine position  height  weight  wingspan  reach_standing  \\\n",
       "835          2011       PG   73.50   187.6     77.50            99.0   \n",
       "849          2012       SG   75.25   201.8     80.00           100.0   \n",
       "6            2000       PG   70.50   166.0     72.00            94.5   \n",
       "827          2011       SF   80.75   221.2     81.50           104.5   \n",
       "687          2008    SG-PG   72.75   166.2     79.25            98.0   \n",
       "...           ...      ...     ...     ...       ...             ...   \n",
       "1331         2019       SF   79.25   209.6     85.75           106.5   \n",
       "7            2000    SG-SF   76.00   205.0     83.00           102.0   \n",
       "36           2000    PG-SG   73.50   205.5     76.50            97.5   \n",
       "1160         2017    SG-SF   77.00   220.2     78.00           100.5   \n",
       "105          2001    PF-SF   80.00   242.0     84.25           106.0   \n",
       "\n",
       "      standing_vertical  max_vertical  bench_reps  timeLaneAgility  \\\n",
       "835                28.5          34.0         9.0            11.05   \n",
       "849                33.0          39.0         8.0            10.95   \n",
       "6                  36.0          42.5         6.0            10.48   \n",
       "827                25.5          31.5         4.0            11.05   \n",
       "687                31.0          39.0         2.0            10.98   \n",
       "...                 ...           ...         ...              ...   \n",
       "1331               30.5          37.0         9.0            10.88   \n",
       "7                  35.0          38.0        10.0            11.40   \n",
       "36                 31.0          38.5        24.0            10.99   \n",
       "1160               31.0          37.5        16.0            11.14   \n",
       "105                27.0          31.5        11.0            12.25   \n",
       "\n",
       "      timeThreeQuarterCourtSprint  timeModifiedLaneAgility  lengthHandInches  \\\n",
       "835                          3.17                      NaN              8.50   \n",
       "849                          3.28                      NaN              8.50   \n",
       "6                            3.06                      NaN               NaN   \n",
       "827                          3.29                      NaN              8.25   \n",
       "687                          3.08                      NaN               NaN   \n",
       "...                           ...                      ...               ...   \n",
       "1331                         3.38                     3.13              9.25   \n",
       "7                            3.15                      NaN               NaN   \n",
       "36                           3.31                      NaN               NaN   \n",
       "1160                         3.21                     3.24              8.25   \n",
       "105                          3.35                      NaN               NaN   \n",
       "\n",
       "      widthHandInches  body_fat_pct  \n",
       "835              9.25           5.6  \n",
       "849              9.00           6.0  \n",
       "6                 NaN           NaN  \n",
       "827             10.00           7.0  \n",
       "687               NaN           3.8  \n",
       "...               ...           ...  \n",
       "1331             9.25           4.6  \n",
       "7                 NaN           NaN  \n",
       "36                NaN           NaN  \n",
       "1160             9.25           7.5  \n",
       "105               NaN          10.5  \n",
       "\n",
       "[1116 rows x 15 columns]"
      ]
     },
     "execution_count": 18,
     "metadata": {},
     "output_type": "execute_result"
    }
   ],
   "source": [
    "train"
   ]
  },
  {
   "cell_type": "markdown",
   "id": "fadb8c5c",
   "metadata": {
    "papermill": {
     "duration": 0.018221,
     "end_time": "2022-09-27T05:52:58.108174",
     "exception": false,
     "start_time": "2022-09-27T05:52:58.089953",
     "status": "completed"
    },
    "tags": []
   },
   "source": [
    "**After splitting, we noticed that there are more preprocessing to go with the missing data, categorial variables, and etc. So we create a preprocessing pipiline beblow.**"
   ]
  },
  {
   "cell_type": "markdown",
   "id": "c00a802b",
   "metadata": {
    "papermill": {
     "duration": 0.017879,
     "end_time": "2022-09-27T05:52:58.144393",
     "exception": false,
     "start_time": "2022-09-27T05:52:58.126514",
     "status": "completed"
    },
    "tags": []
   },
   "source": [
    "# Preprocessing Pipeline\n",
    "\n",
    "We are creating a pipeline here to:\n",
    "\n",
    "* Impute columns in num_impute_cols\n",
    "* Create dummy variables of positions with OneHotEncoder after it has been split to primary and secondary positions\n",
    "* Leave the rest of the columns be\n",
    "\n",
    "This approach works because XGBoost is a tree-based method, it requires no scaling."
   ]
  },
  {
   "cell_type": "code",
   "execution_count": 2,
   "id": "d8c25c5a",
   "metadata": {
    "_kg_hide-input": true,
    "execution": {
     "iopub.execute_input": "2022-09-27T05:52:57.779014Z",
     "iopub.status.busy": "2022-09-27T05:52:57.778465Z",
     "iopub.status.idle": "2022-09-27T05:52:57.791552Z",
     "shell.execute_reply": "2022-09-27T05:52:57.790186Z"
    },
    "jupyter": {
     "source_hidden": true
    },
    "papermill": {
     "duration": 0.037185,
     "end_time": "2022-09-27T05:52:57.794617",
     "exception": false,
     "start_time": "2022-09-27T05:52:57.757432",
     "status": "completed"
    },
    "tags": []
   },
   "outputs": [],
   "source": [
    "######################## CUSTOM TRANSFORMER FOR PREPROCESSING ##################\n",
    "class CustomTransformer(BaseEstimator, TransformerMixin):\n",
    "    \"\"\"Custom Transformer to add positions features\"\"\"\n",
    "    \n",
    "    def __init__(self):\n",
    "        ...\n",
    "\n",
    "\n",
    "    def fit(self, X, y=None):\n",
    "        return self      \n",
    "    \n",
    "\n",
    "    def transform(self, X):\n",
    "        X = X.copy()\n",
    "        temp_cols = X.columns.to_list()\n",
    "        X = add_positions(X)\n",
    "        \n",
    "        return X  \n",
    "\n",
    "\n",
    "def add_positions(data):\n",
    "    data[['primary_position', 'secondary_position']] = data['position'].str.split('-', expand=True)\n",
    "\n",
    "    data = data.drop('position', axis=1)\n",
    "    return data\n",
    "\n",
    "\n",
    "######################## FEATURE SELECTOR #####################################\n",
    "def indices_of_top_k(arr, k):\n",
    "    return np.sort(np.argpartition(np.array(arr), -k)[-k:])\n",
    "\n",
    "\n",
    "class TopFeatureSelector(BaseEstimator, TransformerMixin):\n",
    "    \"\"\"Create a TopFeatureSelector object to select features automatically in an Sklearn Pipeline\n",
    "    provided that user has decided on the optimal number of features\"\"\"\n",
    "\n",
    "    def __init__(self, feature_importances, k):\n",
    "        self.feature_importances = feature_importances\n",
    "        self.k = k\n",
    "\n",
    "\n",
    "    def fit(self, X, y=None):\n",
    "        self.feature_indices_ = indices_of_top_k(self.feature_importances, self.k)\n",
    "        return self\n",
    "\n",
    "        \n",
    "    def transform(self, X):\n",
    "        return X[:, self.feature_indices_]"
   ]
  },
  {
   "cell_type": "code",
   "execution_count": 20,
   "id": "3a261f58",
   "metadata": {
    "execution": {
     "iopub.execute_input": "2022-09-27T05:52:58.183213Z",
     "iopub.status.busy": "2022-09-27T05:52:58.182562Z",
     "iopub.status.idle": "2022-09-27T05:52:58.188425Z",
     "shell.execute_reply": "2022-09-27T05:52:58.187510Z"
    },
    "papermill": {
     "duration": 0.028126,
     "end_time": "2022-09-27T05:52:58.190803",
     "exception": false,
     "start_time": "2022-09-27T05:52:58.162677",
     "status": "completed"
    },
    "tags": []
   },
   "outputs": [],
   "source": [
    "num_impute_pipe = Pipeline([\n",
    "        ('imputer', SimpleImputer(strategy='median'))\n",
    "])\n",
    "\n",
    "cat_pipe = Pipeline([\n",
    "        ('custom_transform', CustomTransformer()),\n",
    "        ('encoder', OneHotEncoder()),\n",
    "])  \n",
    "\n"
   ]
  },
  {
   "cell_type": "code",
   "execution_count": 21,
   "id": "4c240e4b",
   "metadata": {
    "execution": {
     "iopub.execute_input": "2022-09-27T05:52:58.230392Z",
     "iopub.status.busy": "2022-09-27T05:52:58.229218Z",
     "iopub.status.idle": "2022-09-27T05:52:58.251019Z",
     "shell.execute_reply": "2022-09-27T05:52:58.249837Z"
    },
    "papermill": {
     "duration": 0.044684,
     "end_time": "2022-09-27T05:52:58.253854",
     "exception": false,
     "start_time": "2022-09-27T05:52:58.209170",
     "status": "completed"
    },
    "tags": []
   },
   "outputs": [],
   "source": [
    "preprocess_pipeline = ColumnTransformer([\n",
    "        ('num_impute', num_impute_pipe, num_impute_cols),\n",
    "        ('custom_transformer', cat_pipe, cat_cols),\n",
    "        ], remainder='passthrough')\n",
    "\n",
    "train_prepared = preprocess_pipeline.fit_transform(train)\n"
   ]
  },
  {
   "cell_type": "code",
   "execution_count": 22,
   "id": "08925b1b",
   "metadata": {
    "execution": {
     "iopub.execute_input": "2022-09-27T05:52:58.292366Z",
     "iopub.status.busy": "2022-09-27T05:52:58.291937Z",
     "iopub.status.idle": "2022-09-27T05:52:58.298948Z",
     "shell.execute_reply": "2022-09-27T05:52:58.297828Z"
    },
    "papermill": {
     "duration": 0.029057,
     "end_time": "2022-09-27T05:52:58.301320",
     "exception": false,
     "start_time": "2022-09-27T05:52:58.272263",
     "status": "completed"
    },
    "tags": []
   },
   "outputs": [
    {
     "data": {
      "text/plain": [
       "(1116, 27)"
      ]
     },
     "execution_count": 22,
     "metadata": {},
     "output_type": "execute_result"
    }
   ],
   "source": [
    "train_prepared.shape"
   ]
  },
  {
   "cell_type": "code",
   "execution_count": 23,
   "id": "854620f9",
   "metadata": {
    "execution": {
     "iopub.execute_input": "2022-09-27T05:52:58.340632Z",
     "iopub.status.busy": "2022-09-27T05:52:58.340210Z",
     "iopub.status.idle": "2022-09-27T05:52:58.347785Z",
     "shell.execute_reply": "2022-09-27T05:52:58.346449Z"
    },
    "papermill": {
     "duration": 0.029911,
     "end_time": "2022-09-27T05:52:58.350067",
     "exception": false,
     "start_time": "2022-09-27T05:52:58.320156",
     "status": "completed"
    },
    "tags": []
   },
   "outputs": [
    {
     "data": {
      "text/plain": [
       "array([7.575e+01, 2.026e+02, 8.100e+01, 1.010e+02, 0.000e+00, 0.000e+00,\n",
       "       0.000e+00, 0.000e+00, 1.000e+00, 0.000e+00, 0.000e+00, 0.000e+00,\n",
       "       1.000e+00, 0.000e+00, 0.000e+00, 0.000e+00, 0.000e+00, 2.010e+03,\n",
       "       3.100e+01, 4.000e+01, 1.000e+01, 1.138e+01, 3.150e+00,       nan,\n",
       "       9.000e+00, 1.050e+01, 3.700e+00])"
      ]
     },
     "execution_count": 23,
     "metadata": {},
     "output_type": "execute_result"
    }
   ],
   "source": [
    "train_prepared[333]"
   ]
  },
  {
   "cell_type": "markdown",
   "id": "56e59196",
   "metadata": {
    "papermill": {
     "duration": 0.018345,
     "end_time": "2022-09-27T05:52:58.387084",
     "exception": false,
     "start_time": "2022-09-27T05:52:58.368739",
     "status": "completed"
    },
    "tags": []
   },
   "source": [
    "Note that OneHotEncoder created 13 new columns based on positions. "
   ]
  },
  {
   "cell_type": "markdown",
   "id": "001d83cf",
   "metadata": {
    "papermill": {
     "duration": 0.018485,
     "end_time": "2022-09-27T05:52:58.424774",
     "exception": false,
     "start_time": "2022-09-27T05:52:58.406289",
     "status": "completed"
    },
    "tags": []
   },
   "source": [
    "# Pipeline with Model"
   ]
  },
  {
   "cell_type": "markdown",
   "id": "56c78cc5",
   "metadata": {
    "papermill": {
     "duration": 0.018142,
     "end_time": "2022-09-27T05:52:58.461646",
     "exception": false,
     "start_time": "2022-09-27T05:52:58.443504",
     "status": "completed"
    },
    "tags": []
   },
   "source": [
    "Now we begine with the predicting model "
   ]
  },
  {
   "cell_type": "code",
   "execution_count": null,
   "id": "226b6eea",
   "metadata": {
    "execution": {
     "iopub.execute_input": "2022-09-27T05:52:58.501190Z",
     "iopub.status.busy": "2022-09-27T05:52:58.500448Z",
     "iopub.status.idle": "2022-09-27T05:53:01.228339Z",
     "shell.execute_reply": "2022-09-27T05:53:01.227478Z"
    },
    "papermill": {
     "duration": 2.750901,
     "end_time": "2022-09-27T05:53:01.231041",
     "exception": false,
     "start_time": "2022-09-27T05:52:58.480140",
     "status": "completed"
    },
    "tags": []
   },
   "outputs": [],
   "source": [
    "full_pipeline_with_predictor = Pipeline([\n",
    "        ('preparation', preprocess_pipeline),\n",
    "        ('xgboost', XGBClassifier())\n",
    "])\n",
    "\n",
    "predictions = cross_val_predict(full_pipeline_with_predictor, train, train_label)"
   ]
  },
  {
   "cell_type": "code",
   "execution_count": 25,
   "id": "fbd6fc1b",
   "metadata": {
    "execution": {
     "iopub.execute_input": "2022-09-27T05:53:01.277500Z",
     "iopub.status.busy": "2022-09-27T05:53:01.277084Z",
     "iopub.status.idle": "2022-09-27T05:53:01.284561Z",
     "shell.execute_reply": "2022-09-27T05:53:01.283351Z"
    },
    "papermill": {
     "duration": 0.030797,
     "end_time": "2022-09-27T05:53:01.286897",
     "exception": false,
     "start_time": "2022-09-27T05:53:01.256100",
     "status": "completed"
    },
    "tags": []
   },
   "outputs": [
    {
     "data": {
      "text/plain": [
       "array([ True,  True, False, ..., False,  True, False])"
      ]
     },
     "execution_count": 25,
     "metadata": {},
     "output_type": "execute_result"
    }
   ],
   "source": [
    "predictions"
   ]
  },
  {
   "cell_type": "code",
   "execution_count": 26,
   "id": "e7f67e37",
   "metadata": {
    "execution": {
     "iopub.execute_input": "2022-09-27T05:53:01.326225Z",
     "iopub.status.busy": "2022-09-27T05:53:01.325843Z",
     "iopub.status.idle": "2022-09-27T05:53:01.335699Z",
     "shell.execute_reply": "2022-09-27T05:53:01.334531Z"
    },
    "papermill": {
     "duration": 0.032357,
     "end_time": "2022-09-27T05:53:01.338082",
     "exception": false,
     "start_time": "2022-09-27T05:53:01.305725",
     "status": "completed"
    },
    "tags": []
   },
   "outputs": [
    {
     "data": {
      "text/plain": [
       "array([[237, 222],\n",
       "       [167, 490]])"
      ]
     },
     "execution_count": 26,
     "metadata": {},
     "output_type": "execute_result"
    }
   ],
   "source": [
    "confusion_matrix(train_label, predictions)"
   ]
  },
  {
   "cell_type": "code",
   "execution_count": 27,
   "id": "ca8b3b79",
   "metadata": {
    "execution": {
     "iopub.execute_input": "2022-09-27T05:53:01.379021Z",
     "iopub.status.busy": "2022-09-27T05:53:01.378604Z",
     "iopub.status.idle": "2022-09-27T05:53:01.389846Z",
     "shell.execute_reply": "2022-09-27T05:53:01.388946Z"
    },
    "papermill": {
     "duration": 0.034622,
     "end_time": "2022-09-27T05:53:01.392340",
     "exception": false,
     "start_time": "2022-09-27T05:53:01.357718",
     "status": "completed"
    },
    "tags": []
   },
   "outputs": [
    {
     "name": "stdout",
     "output_type": "stream",
     "text": [
      "              precision    recall  f1-score   support\n",
      "\n",
      "       False       0.59      0.52      0.55       459\n",
      "        True       0.69      0.75      0.72       657\n",
      "\n",
      "    accuracy                           0.65      1116\n",
      "   macro avg       0.64      0.63      0.63      1116\n",
      "weighted avg       0.65      0.65      0.65      1116\n",
      "\n"
     ]
    }
   ],
   "source": [
    "print(classification_report(train_label, predictions))"
   ]
  },
  {
   "cell_type": "markdown",
   "id": "2e638c4e",
   "metadata": {
    "papermill": {
     "duration": 0.019236,
     "end_time": "2022-09-27T05:53:01.431045",
     "exception": false,
     "start_time": "2022-09-27T05:53:01.411809",
     "status": "completed"
    },
    "tags": []
   },
   "source": [
    "Given a default model, the outcomes are decent enough. The quality of the data isn't particularly excellent. Aiming to increase its perfromance, we conduct a random search with `RandomizedSearchCV` based on f1 score"
   ]
  },
  {
   "cell_type": "markdown",
   "id": "d3d22d26",
   "metadata": {
    "papermill": {
     "duration": 0.018696,
     "end_time": "2022-09-27T05:53:01.468694",
     "exception": false,
     "start_time": "2022-09-27T05:53:01.449998",
     "status": "completed"
    },
    "tags": []
   },
   "source": [
    "# Hyperparameter Tuning with RandomizedSearch"
   ]
  },
  {
   "cell_type": "code",
   "execution_count": null,
   "id": "4efdea04",
   "metadata": {
    "execution": {
     "iopub.execute_input": "2022-09-27T05:53:01.508937Z",
     "iopub.status.busy": "2022-09-27T05:53:01.508524Z",
     "iopub.status.idle": "2022-09-27T06:53:50.628756Z",
     "shell.execute_reply": "2022-09-27T06:53:50.627931Z"
    },
    "papermill": {
     "duration": 3649.162485,
     "end_time": "2022-09-27T06:53:50.650554",
     "exception": false,
     "start_time": "2022-09-27T05:53:01.488069",
     "status": "completed"
    },
    "tags": []
   },
   "outputs": [],
   "source": [
    "param_distribs = {\n",
    "    'xgboost__n_estimators': randint(50, 250),\n",
    "    'xgboost__gamma': expon(scale=1.0),\n",
    "    'xgboost__max_depth': [3,4,5,6],\n",
    "    'xgboost__learning_rate': uniform(0, 1),\n",
    "    'xgboost__scale_pos_weight': uniform(0, 1)\n",
    "}\n",
    "\n",
    "rnd_search = RandomizedSearchCV(\n",
    "    estimator=full_pipeline_with_predictor,\n",
    "    param_distributions=param_distribs,\n",
    "    n_iter=1000, cv=5,\n",
    "    scoring='f1',\n",
    "    verbose=1, random_state=42\n",
    ")\n",
    "\n",
    "rnd_search.fit(train,train_label)"
   ]
  },
  {
   "cell_type": "code",
   "execution_count": 29,
   "id": "47054a57",
   "metadata": {},
   "outputs": [
    {
     "data": {
      "text/plain": [
       "{'xgboost__gamma': 1.0377256120492335,\n",
       " 'xgboost__learning_rate': 0.04477845050466822,\n",
       " 'xgboost__max_depth': 3,\n",
       " 'xgboost__n_estimators': 242,\n",
       " 'xgboost__scale_pos_weight': 0.9466444339935463}"
      ]
     },
     "execution_count": 29,
     "metadata": {},
     "output_type": "execute_result"
    }
   ],
   "source": [
    "rnd_search.best_params_"
   ]
  },
  {
   "cell_type": "code",
   "execution_count": 31,
   "id": "3e8e71f6",
   "metadata": {
    "execution": {
     "iopub.execute_input": "2022-09-27T06:53:50.740015Z",
     "iopub.status.busy": "2022-09-27T06:53:50.739625Z",
     "iopub.status.idle": "2022-09-27T06:53:50.744455Z",
     "shell.execute_reply": "2022-09-27T06:53:50.743611Z"
    },
    "papermill": {
     "duration": 0.028746,
     "end_time": "2022-09-27T06:53:50.746714",
     "exception": false,
     "start_time": "2022-09-27T06:53:50.717968",
     "status": "completed"
    },
    "tags": []
   },
   "outputs": [],
   "source": [
    "best_params = {'gamma': 1.0377256120492335,\n",
    " 'learning_rate': 0.04477845050466822,\n",
    " 'max_depth': 3,\n",
    " 'n_estimators': 242,\n",
    " 'scale_pos_weight': 0.9466444339935463}"
   ]
  },
  {
   "cell_type": "code",
   "execution_count": 32,
   "id": "f99fe412",
   "metadata": {
    "execution": {
     "iopub.execute_input": "2022-09-27T06:53:50.863088Z",
     "iopub.status.busy": "2022-09-27T06:53:50.862309Z",
     "iopub.status.idle": "2022-09-27T06:53:50.867078Z",
     "shell.execute_reply": "2022-09-27T06:53:50.866210Z"
    },
    "papermill": {
     "duration": 0.103156,
     "end_time": "2022-09-27T06:53:50.869205",
     "exception": false,
     "start_time": "2022-09-27T06:53:50.766049",
     "status": "completed"
    },
    "tags": []
   },
   "outputs": [],
   "source": [
    "model_all_features = Pipeline([\n",
    "        ('preparation', preprocess_pipeline),\n",
    "        ('xgboost', XGBClassifier(**best_params))\n",
    "])"
   ]
  },
  {
   "cell_type": "code",
   "execution_count": 80,
   "id": "401592ab",
   "metadata": {
    "execution": {
     "iopub.execute_input": "2022-09-27T06:53:50.909679Z",
     "iopub.status.busy": "2022-09-27T06:53:50.908970Z",
     "iopub.status.idle": "2022-09-27T06:53:50.919492Z",
     "shell.execute_reply": "2022-09-27T06:53:50.918241Z"
    },
    "papermill": {
     "duration": 0.033338,
     "end_time": "2022-09-27T06:53:50.921925",
     "exception": false,
     "start_time": "2022-09-27T06:53:50.888587",
     "status": "completed"
    },
    "tags": []
   },
   "outputs": [
    {
     "data": {
      "text/plain": [
       "['model_1.pkl']"
      ]
     },
     "execution_count": 80,
     "metadata": {},
     "output_type": "execute_result"
    }
   ],
   "source": [
    "### save the model to local\n",
    "joblib.dump(model_all_features, 'model_1.pkl')"
   ]
  },
  {
   "cell_type": "markdown",
   "id": "ad5f902f",
   "metadata": {
    "papermill": {
     "duration": 0.020073,
     "end_time": "2022-09-27T06:53:50.961803",
     "exception": false,
     "start_time": "2022-09-27T06:53:50.941730",
     "status": "completed"
    },
    "tags": []
   },
   "source": [
    "# Feature Importances"
   ]
  },
  {
   "cell_type": "code",
   "execution_count": 34,
   "id": "84b1ff9d",
   "metadata": {
    "execution": {
     "iopub.execute_input": "2022-09-27T06:53:51.002995Z",
     "iopub.status.busy": "2022-09-27T06:53:51.002580Z",
     "iopub.status.idle": "2022-09-27T06:53:51.007908Z",
     "shell.execute_reply": "2022-09-27T06:53:51.006504Z"
    },
    "papermill": {
     "duration": 0.028691,
     "end_time": "2022-09-27T06:53:51.010293",
     "exception": false,
     "start_time": "2022-09-27T06:53:50.981602",
     "status": "completed"
    },
    "tags": []
   },
   "outputs": [],
   "source": [
    "my_model = XGBClassifier(**best_params)"
   ]
  },
  {
   "cell_type": "code",
   "execution_count": 35,
   "id": "a8d57544",
   "metadata": {
    "execution": {
     "iopub.execute_input": "2022-09-27T06:53:51.051159Z",
     "iopub.status.busy": "2022-09-27T06:53:51.050714Z",
     "iopub.status.idle": "2022-09-27T06:53:51.386488Z",
     "shell.execute_reply": "2022-09-27T06:53:51.385501Z"
    },
    "papermill": {
     "duration": 0.359203,
     "end_time": "2022-09-27T06:53:51.389024",
     "exception": false,
     "start_time": "2022-09-27T06:53:51.029821",
     "status": "completed"
    },
    "tags": []
   },
   "outputs": [
    {
     "name": "stdout",
     "output_type": "stream",
     "text": [
      "[17:08:30] WARNING: /opt/concourse/worker/volumes/live/7a2b9f41-3287-451b-6691-43e9a6c0910f/volume/xgboost-split_1619728204606/work/src/learner.cc:1061: Starting in XGBoost 1.3.0, the default evaluation metric used with the objective 'binary:logistic' was changed from 'error' to 'logloss'. Explicitly set eval_metric if you'd like to restore the old behavior.\n"
     ]
    },
    {
     "data": {
      "text/plain": [
       "XGBClassifier(base_score=0.5, booster='gbtree', colsample_bylevel=1,\n",
       "              colsample_bynode=1, colsample_bytree=1, gamma=1.0377256120492335,\n",
       "              gpu_id=-1, importance_type='gain', interaction_constraints='',\n",
       "              learning_rate=0.04477845050466822, max_delta_step=0, max_depth=3,\n",
       "              min_child_weight=1, missing=nan, monotone_constraints='()',\n",
       "              n_estimators=242, n_jobs=4, num_parallel_tree=1, random_state=0,\n",
       "              reg_alpha=0, reg_lambda=1, scale_pos_weight=0.9466444339935463,\n",
       "              subsample=1, tree_method='exact', validate_parameters=1,\n",
       "              verbosity=None)"
      ]
     },
     "execution_count": 35,
     "metadata": {},
     "output_type": "execute_result"
    }
   ],
   "source": [
    "my_model.fit(train_prepared, train_label)"
   ]
  },
  {
   "cell_type": "code",
   "execution_count": 36,
   "id": "2097a235",
   "metadata": {
    "execution": {
     "iopub.execute_input": "2022-09-27T06:53:51.430853Z",
     "iopub.status.busy": "2022-09-27T06:53:51.430438Z",
     "iopub.status.idle": "2022-09-27T06:53:51.436489Z",
     "shell.execute_reply": "2022-09-27T06:53:51.435553Z"
    },
    "papermill": {
     "duration": 0.029609,
     "end_time": "2022-09-27T06:53:51.438798",
     "exception": false,
     "start_time": "2022-09-27T06:53:51.409189",
     "status": "completed"
    },
    "tags": []
   },
   "outputs": [],
   "source": [
    "feature_importances = my_model.feature_importances_"
   ]
  },
  {
   "cell_type": "code",
   "execution_count": 37,
   "id": "fbd8d733",
   "metadata": {
    "execution": {
     "iopub.execute_input": "2022-09-27T06:53:51.480019Z",
     "iopub.status.busy": "2022-09-27T06:53:51.479389Z",
     "iopub.status.idle": "2022-09-27T06:53:51.487173Z",
     "shell.execute_reply": "2022-09-27T06:53:51.486017Z"
    },
    "papermill": {
     "duration": 0.031672,
     "end_time": "2022-09-27T06:53:51.489953",
     "exception": false,
     "start_time": "2022-09-27T06:53:51.458281",
     "status": "completed"
    },
    "tags": []
   },
   "outputs": [
    {
     "data": {
      "text/plain": [
       "array([0.03999785, 0.02956992, 0.04681499, 0.03853495, 0.03565304,\n",
       "       0.03153887, 0.03448423, 0.02846371, 0.        , 0.        ,\n",
       "       0.01701788, 0.03098894, 0.        , 0.03183281, 0.02612257,\n",
       "       0.0503971 , 0.        , 0.20724289, 0.04270481, 0.02866271,\n",
       "       0.0294596 , 0.04154231, 0.03288832, 0.04741919, 0.03803423,\n",
       "       0.04754926, 0.0430798 ], dtype=float32)"
      ]
     },
     "execution_count": 37,
     "metadata": {},
     "output_type": "execute_result"
    }
   ],
   "source": [
    "feature_importances"
   ]
  },
  {
   "cell_type": "code",
   "execution_count": 38,
   "id": "d15d1ba3",
   "metadata": {
    "execution": {
     "iopub.execute_input": "2022-09-27T06:53:51.531832Z",
     "iopub.status.busy": "2022-09-27T06:53:51.531248Z",
     "iopub.status.idle": "2022-09-27T06:53:51.536475Z",
     "shell.execute_reply": "2022-09-27T06:53:51.535624Z"
    },
    "papermill": {
     "duration": 0.028722,
     "end_time": "2022-09-27T06:53:51.538657",
     "exception": false,
     "start_time": "2022-09-27T06:53:51.509935",
     "status": "completed"
    },
    "tags": []
   },
   "outputs": [],
   "source": [
    "cat_encoder = preprocess_pipeline.named_transformers_.custom_transformer.named_steps['encoder']\n",
    "cat_one_hot_attribs = list(np.concatenate(cat_encoder.categories_[:]))"
   ]
  },
  {
   "cell_type": "code",
   "execution_count": 39,
   "id": "266e9023",
   "metadata": {
    "execution": {
     "iopub.execute_input": "2022-09-27T06:53:51.580861Z",
     "iopub.status.busy": "2022-09-27T06:53:51.579888Z",
     "iopub.status.idle": "2022-09-27T06:53:51.584960Z",
     "shell.execute_reply": "2022-09-27T06:53:51.583909Z"
    },
    "papermill": {
     "duration": 0.028564,
     "end_time": "2022-09-27T06:53:51.587302",
     "exception": false,
     "start_time": "2022-09-27T06:53:51.558738",
     "status": "completed"
    },
    "tags": []
   },
   "outputs": [],
   "source": [
    "cat_one_hot_attribs = [str(i) for i in cat_one_hot_attribs]"
   ]
  },
  {
   "cell_type": "code",
   "execution_count": 40,
   "id": "404cf745",
   "metadata": {
    "execution": {
     "iopub.execute_input": "2022-09-27T06:53:51.629486Z",
     "iopub.status.busy": "2022-09-27T06:53:51.629045Z",
     "iopub.status.idle": "2022-09-27T06:53:51.633411Z",
     "shell.execute_reply": "2022-09-27T06:53:51.632520Z"
    },
    "papermill": {
     "duration": 0.028461,
     "end_time": "2022-09-27T06:53:51.635663",
     "exception": false,
     "start_time": "2022-09-27T06:53:51.607202",
     "status": "completed"
    },
    "tags": []
   },
   "outputs": [],
   "source": [
    "attributes = num_impute_cols  + cat_one_hot_attribs + num_other_cols"
   ]
  },
  {
   "cell_type": "code",
   "execution_count": 42,
   "id": "f072e81a",
   "metadata": {
    "execution": {
     "iopub.execute_input": "2022-09-27T06:53:51.729550Z",
     "iopub.status.busy": "2022-09-27T06:53:51.729091Z",
     "iopub.status.idle": "2022-09-27T06:53:51.737512Z",
     "shell.execute_reply": "2022-09-27T06:53:51.736441Z"
    },
    "papermill": {
     "duration": 0.032454,
     "end_time": "2022-09-27T06:53:51.740071",
     "exception": false,
     "start_time": "2022-09-27T06:53:51.707617",
     "status": "completed"
    },
    "tags": []
   },
   "outputs": [
    {
     "data": {
      "text/plain": [
       "[(0.20724289, 'yearCombine'),\n",
       " (0.0503971, 'None'),\n",
       " (0.047549255, 'widthHandInches'),\n",
       " (0.047419187, 'timeModifiedLaneAgility'),\n",
       " (0.046814993, 'wingspan'),\n",
       " (0.0430798, 'body_fat_pct'),\n",
       " (0.04270481, 'standing_vertical'),\n",
       " (0.041542314, 'timeLaneAgility'),\n",
       " (0.039997846, 'height'),\n",
       " (0.038534954, 'reach_standing'),\n",
       " (0.038034227, 'lengthHandInches'),\n",
       " (0.03565304, 'C'),\n",
       " (0.03448423, 'PG'),\n",
       " (0.032888316, 'timeThreeQuarterCourtSprint'),\n",
       " (0.03183281, 'SF'),\n",
       " (0.03153887, 'PF'),\n",
       " (0.030988941, 'PF'),\n",
       " (0.029569918, 'weight'),\n",
       " (0.029459601, 'bench_reps'),\n",
       " (0.028662713, 'max_vertical'),\n",
       " (0.02846371, 'SF'),\n",
       " (0.026122568, 'SG'),\n",
       " (0.017017882, 'C'),\n",
       " (0.0, 'nan'),\n",
       " (0.0, 'nan'),\n",
       " (0.0, 'SG'),\n",
       " (0.0, 'PG')]"
      ]
     },
     "execution_count": 42,
     "metadata": {},
     "output_type": "execute_result"
    }
   ],
   "source": [
    "\n",
    "sorted(zip(feature_importances, attributes), reverse=True)"
   ]
  },
  {
   "cell_type": "markdown",
   "id": "24f37eb7",
   "metadata": {
    "papermill": {
     "duration": 0.019862,
     "end_time": "2022-09-27T06:53:51.780817",
     "exception": false,
     "start_time": "2022-09-27T06:53:51.760955",
     "status": "completed"
    },
    "tags": []
   },
   "source": [
    "Looks like secondary position in general isn't really important for NBA scouts. Strong physical attributes like standing vertical and reach standing are the more important features here.\n",
    "And the most important feature is *yearCombine*, which also makes some sense since the year of the combine should mean that drafting criteria also changes as the NBA undergo changes in style."
   ]
  },
  {
   "cell_type": "markdown",
   "id": "9cdc1c14",
   "metadata": {
    "papermill": {
     "duration": 0.019909,
     "end_time": "2022-09-27T06:53:51.821344",
     "exception": false,
     "start_time": "2022-09-27T06:53:51.801435",
     "status": "completed"
    },
    "tags": []
   },
   "source": [
    "# Feature Selection"
   ]
  },
  {
   "cell_type": "markdown",
   "id": "3770bf06",
   "metadata": {
    "papermill": {
     "duration": 0.019629,
     "end_time": "2022-09-27T06:53:51.861071",
     "exception": false,
     "start_time": "2022-09-27T06:53:51.841442",
     "status": "completed"
    },
    "tags": []
   },
   "source": [
    "We've seen that some features got zero importances, so perhaps trimming down on the number of features could make our model more robust. "
   ]
  },
  {
   "cell_type": "code",
   "execution_count": null,
   "id": "df0dde33",
   "metadata": {
    "execution": {
     "iopub.execute_input": "2022-09-27T06:53:51.903067Z",
     "iopub.status.busy": "2022-09-27T06:53:51.902643Z",
     "iopub.status.idle": "2022-09-27T06:54:34.784846Z",
     "shell.execute_reply": "2022-09-27T06:54:34.783953Z"
    },
    "papermill": {
     "duration": 42.906075,
     "end_time": "2022-09-27T06:54:34.787094",
     "exception": false,
     "start_time": "2022-09-27T06:53:51.881019",
     "status": "completed"
    },
    "tags": []
   },
   "outputs": [],
   "source": [
    "min_features_to_select = 5  # Minimum number of features to consider\n",
    "rfecv = RFECV(\n",
    "    estimator=clone(my_model), # make a clone of model that is unfitted\n",
    "    step=1,\n",
    "    cv=StratifiedKFold(5),\n",
    "    scoring=\"f1\",\n",
    "    min_features_to_select=min_features_to_select,\n",
    ")\n",
    "rfecv.fit(train_prepared,train_label)\n"
   ]
  },
  {
   "cell_type": "code",
   "execution_count": 44,
   "id": "4520871a",
   "metadata": {},
   "outputs": [
    {
     "name": "stdout",
     "output_type": "stream",
     "text": [
      "Optimal number of features : 21\n"
     ]
    }
   ],
   "source": [
    "\n",
    "print(\"Optimal number of features : %d\" % rfecv.n_features_)\n"
   ]
  },
  {
   "cell_type": "code",
   "execution_count": null,
   "id": "718560e2",
   "metadata": {},
   "outputs": [],
   "source": [
    "\n",
    "# Plot number of features VS. cross-validation scores\n",
    "plt.figure()\n",
    "plt.xlabel(\"Number of features selected\")\n",
    "plt.ylabel(\"Cross validation score (F1-Score)\")\n",
    "plt.plot(\n",
    "    range(min_features_to_select, len(rfecv.cv_results_['mean_test_score']) + min_features_to_select),\n",
    "    rfecv.cv_results_['mean_test_score'],\n",
    ")\n",
    "plt.show()"
   ]
  },
  {
   "cell_type": "code",
   "execution_count": 85,
   "id": "327dab33",
   "metadata": {},
   "outputs": [
    {
     "data": {
      "text/plain": [
       "array([0.70594587, 0.71638759, 0.71598183, 0.71780536, 0.71231847,\n",
       "       0.71774891, 0.72635687, 0.71377855, 0.7174683 , 0.71503503,\n",
       "       0.71581784, 0.72500058, 0.72293584, 0.72755756, 0.73139405,\n",
       "       0.72908146, 0.73232457, 0.7264029 , 0.72786276, 0.73125753,\n",
       "       0.73125753, 0.73125753, 0.73125753])"
      ]
     },
     "execution_count": 85,
     "metadata": {},
     "output_type": "execute_result"
    }
   ],
   "source": [
    "rfecv.grid_scores_"
   ]
  },
  {
   "cell_type": "code",
   "execution_count": 58,
   "id": "d5f6dc10",
   "metadata": {
    "execution": {
     "iopub.execute_input": "2022-09-27T06:54:34.831311Z",
     "iopub.status.busy": "2022-09-27T06:54:34.830664Z",
     "iopub.status.idle": "2022-09-27T06:54:34.837440Z",
     "shell.execute_reply": "2022-09-27T06:54:34.836277Z"
    },
    "papermill": {
     "duration": 0.032037,
     "end_time": "2022-09-27T06:54:34.839877",
     "exception": false,
     "start_time": "2022-09-27T06:54:34.807840",
     "status": "completed"
    },
    "tags": []
   },
   "outputs": [
    {
     "data": {
      "text/plain": [
       "array(['height', 'wingspan', 'reach_standing', 'C', 'PG', 'SF', 'None',\n",
       "       'yearCombine', 'standing_vertical', 'timeLaneAgility',\n",
       "       'timeThreeQuarterCourtSprint', 'timeModifiedLaneAgility',\n",
       "       'lengthHandInches', 'widthHandInches', 'body_fat_pct'],\n",
       "      dtype='<U27')"
      ]
     },
     "execution_count": 58,
     "metadata": {},
     "output_type": "execute_result"
    }
   ],
   "source": [
    "# use a predefined function to get the indices of 15 most important features\n",
    "top_15_indices = indices_of_top_k(feature_importances, 15)\n",
    "np.array(attributes)[top_15_indices]"
   ]
  },
  {
   "cell_type": "code",
   "execution_count": 59,
   "id": "fe808dc8",
   "metadata": {
    "execution": {
     "iopub.execute_input": "2022-09-27T06:54:34.883480Z",
     "iopub.status.busy": "2022-09-27T06:54:34.882814Z",
     "iopub.status.idle": "2022-09-27T06:54:34.890794Z",
     "shell.execute_reply": "2022-09-27T06:54:34.889883Z"
    },
    "papermill": {
     "duration": 0.032656,
     "end_time": "2022-09-27T06:54:34.893117",
     "exception": false,
     "start_time": "2022-09-27T06:54:34.860461",
     "status": "completed"
    },
    "tags": []
   },
   "outputs": [
    {
     "data": {
      "text/plain": [
       "[(0.20724289, 'yearCombine'),\n",
       " (0.0503971, 'None'),\n",
       " (0.047549255, 'widthHandInches'),\n",
       " (0.047419187, 'timeModifiedLaneAgility'),\n",
       " (0.046814993, 'wingspan'),\n",
       " (0.0430798, 'body_fat_pct'),\n",
       " (0.04270481, 'standing_vertical'),\n",
       " (0.041542314, 'timeLaneAgility'),\n",
       " (0.039997846, 'height'),\n",
       " (0.038534954, 'reach_standing'),\n",
       " (0.038034227, 'lengthHandInches'),\n",
       " (0.03565304, 'C'),\n",
       " (0.03448423, 'PG'),\n",
       " (0.032888316, 'timeThreeQuarterCourtSprint'),\n",
       " (0.03183281, 'SF')]"
      ]
     },
     "execution_count": 59,
     "metadata": {},
     "output_type": "execute_result"
    }
   ],
   "source": [
    "# check if function return correct attributes\n",
    "sorted(zip(feature_importances, attributes), reverse=True)[:15]"
   ]
  },
  {
   "cell_type": "markdown",
   "id": "795bbbc6",
   "metadata": {
    "papermill": {
     "duration": 0.020392,
     "end_time": "2022-09-27T06:54:34.934332",
     "exception": false,
     "start_time": "2022-09-27T06:54:34.913940",
     "status": "completed"
    },
    "tags": []
   },
   "source": [
    "## Preprocessing and Feature Selection Pipeline"
   ]
  },
  {
   "cell_type": "markdown",
   "id": "18374c97",
   "metadata": {
    "papermill": {
     "duration": 0.0215,
     "end_time": "2022-09-27T06:54:34.977676",
     "exception": false,
     "start_time": "2022-09-27T06:54:34.956176",
     "status": "completed"
    },
    "tags": []
   },
   "source": [
    "Quick test of adding feature selection to a pipeline before integrating it to a complete end-to-end pipeline."
   ]
  },
  {
   "cell_type": "code",
   "execution_count": 60,
   "id": "7a875fed",
   "metadata": {
    "execution": {
     "iopub.execute_input": "2022-09-27T06:54:35.022239Z",
     "iopub.status.busy": "2022-09-27T06:54:35.021610Z",
     "iopub.status.idle": "2022-09-27T06:54:35.026158Z",
     "shell.execute_reply": "2022-09-27T06:54:35.025310Z"
    },
    "papermill": {
     "duration": 0.029797,
     "end_time": "2022-09-27T06:54:35.028458",
     "exception": false,
     "start_time": "2022-09-27T06:54:34.998661",
     "status": "completed"
    },
    "tags": []
   },
   "outputs": [],
   "source": [
    "preprocess_and_feature_selection_pipeline = Pipeline([\n",
    "    ('preprocessing', preprocess_pipeline),\n",
    "    ('feature_selection', TopFeatureSelector(feature_importances, 15))\n",
    "])"
   ]
  },
  {
   "cell_type": "code",
   "execution_count": 61,
   "id": "1c3c4e83",
   "metadata": {
    "execution": {
     "iopub.execute_input": "2022-09-27T06:54:35.072894Z",
     "iopub.status.busy": "2022-09-27T06:54:35.072453Z",
     "iopub.status.idle": "2022-09-27T06:54:35.094729Z",
     "shell.execute_reply": "2022-09-27T06:54:35.093520Z"
    },
    "papermill": {
     "duration": 0.048166,
     "end_time": "2022-09-27T06:54:35.097503",
     "exception": false,
     "start_time": "2022-09-27T06:54:35.049337",
     "status": "completed"
    },
    "tags": []
   },
   "outputs": [],
   "source": [
    "players_prepared_top15_features = preprocess_and_feature_selection_pipeline.fit_transform(train)"
   ]
  },
  {
   "cell_type": "code",
   "execution_count": 62,
   "id": "c2cb2187",
   "metadata": {
    "execution": {
     "iopub.execute_input": "2022-09-27T06:54:35.141763Z",
     "iopub.status.busy": "2022-09-27T06:54:35.141268Z",
     "iopub.status.idle": "2022-09-27T06:54:35.149898Z",
     "shell.execute_reply": "2022-09-27T06:54:35.148505Z"
    },
    "papermill": {
     "duration": 0.033961,
     "end_time": "2022-09-27T06:54:35.152192",
     "exception": false,
     "start_time": "2022-09-27T06:54:35.118231",
     "status": "completed"
    },
    "tags": []
   },
   "outputs": [
    {
     "data": {
      "text/plain": [
       "array([[7.350e+01, 7.750e+01, 9.900e+01, 0.000e+00, 1.000e+00, 0.000e+00,\n",
       "        1.000e+00, 2.011e+03, 2.850e+01, 1.105e+01, 3.170e+00,       nan,\n",
       "        8.500e+00, 9.250e+00, 5.600e+00],\n",
       "       [7.525e+01, 8.000e+01, 1.000e+02, 0.000e+00, 0.000e+00, 0.000e+00,\n",
       "        1.000e+00, 2.012e+03, 3.300e+01, 1.095e+01, 3.280e+00,       nan,\n",
       "        8.500e+00, 9.000e+00, 6.000e+00],\n",
       "       [7.050e+01, 7.200e+01, 9.450e+01, 0.000e+00, 1.000e+00, 0.000e+00,\n",
       "        1.000e+00, 2.000e+03, 3.600e+01, 1.048e+01, 3.060e+00,       nan,\n",
       "              nan,       nan,       nan]])"
      ]
     },
     "execution_count": 62,
     "metadata": {},
     "output_type": "execute_result"
    }
   ],
   "source": [
    "players_prepared_top15_features[0:3]"
   ]
  },
  {
   "cell_type": "code",
   "execution_count": 63,
   "id": "6c363eea",
   "metadata": {
    "execution": {
     "iopub.execute_input": "2022-09-27T06:54:35.196347Z",
     "iopub.status.busy": "2022-09-27T06:54:35.195936Z",
     "iopub.status.idle": "2022-09-27T06:54:35.204704Z",
     "shell.execute_reply": "2022-09-27T06:54:35.203448Z"
    },
    "papermill": {
     "duration": 0.033803,
     "end_time": "2022-09-27T06:54:35.206935",
     "exception": false,
     "start_time": "2022-09-27T06:54:35.173132",
     "status": "completed"
    },
    "tags": []
   },
   "outputs": [
    {
     "data": {
      "text/plain": [
       "array([[7.350e+01, 7.750e+01, 9.900e+01, 0.000e+00, 1.000e+00, 0.000e+00,\n",
       "        1.000e+00, 2.011e+03, 2.850e+01, 1.105e+01, 3.170e+00,       nan,\n",
       "        8.500e+00, 9.250e+00, 5.600e+00],\n",
       "       [7.525e+01, 8.000e+01, 1.000e+02, 0.000e+00, 0.000e+00, 0.000e+00,\n",
       "        1.000e+00, 2.012e+03, 3.300e+01, 1.095e+01, 3.280e+00,       nan,\n",
       "        8.500e+00, 9.000e+00, 6.000e+00],\n",
       "       [7.050e+01, 7.200e+01, 9.450e+01, 0.000e+00, 1.000e+00, 0.000e+00,\n",
       "        1.000e+00, 2.000e+03, 3.600e+01, 1.048e+01, 3.060e+00,       nan,\n",
       "              nan,       nan,       nan]])"
      ]
     },
     "execution_count": 63,
     "metadata": {},
     "output_type": "execute_result"
    }
   ],
   "source": [
    "train_prepared[0:3, top_15_indices]"
   ]
  },
  {
   "cell_type": "markdown",
   "id": "f3b860fc",
   "metadata": {
    "papermill": {
     "duration": 0.021039,
     "end_time": "2022-09-27T06:54:35.249020",
     "exception": false,
     "start_time": "2022-09-27T06:54:35.227981",
     "status": "completed"
    },
    "tags": []
   },
   "source": [
    "Okay, looks good!"
   ]
  },
  {
   "cell_type": "code",
   "execution_count": 64,
   "id": "0e9db10d",
   "metadata": {
    "execution": {
     "iopub.execute_input": "2022-09-27T07:52:24.347838Z",
     "iopub.status.busy": "2022-09-27T07:52:24.347333Z",
     "iopub.status.idle": "2022-09-27T07:52:24.357789Z",
     "shell.execute_reply": "2022-09-27T07:52:24.356326Z"
    },
    "papermill": {
     "duration": 0.035323,
     "end_time": "2022-09-27T07:52:24.360066",
     "exception": false,
     "start_time": "2022-09-27T07:52:24.324743",
     "status": "completed"
    },
    "tags": []
   },
   "outputs": [],
   "source": [
    "model_1 = joblib.load('model_1.pkl') # randomized search with all features\n"
   ]
  },
  {
   "cell_type": "code",
   "execution_count": null,
   "id": "4a989ff4",
   "metadata": {
    "execution": {
     "iopub.execute_input": "2022-09-27T07:52:24.404991Z",
     "iopub.status.busy": "2022-09-27T07:52:24.404213Z",
     "iopub.status.idle": "2022-09-27T07:52:26.245368Z",
     "shell.execute_reply": "2022-09-27T07:52:26.244490Z"
    },
    "papermill": {
     "duration": 1.866462,
     "end_time": "2022-09-27T07:52:26.248210",
     "exception": false,
     "start_time": "2022-09-27T07:52:24.381748",
     "status": "completed"
    },
    "tags": []
   },
   "outputs": [],
   "source": [
    "model_1_preds = cross_val_predict(model_1, train, train_label)"
   ]
  },
  {
   "cell_type": "code",
   "execution_count": 67,
   "id": "366aef68",
   "metadata": {
    "execution": {
     "iopub.execute_input": "2022-09-27T07:52:28.012480Z",
     "iopub.status.busy": "2022-09-27T07:52:28.012045Z",
     "iopub.status.idle": "2022-09-27T07:52:28.025775Z",
     "shell.execute_reply": "2022-09-27T07:52:28.024007Z"
    },
    "papermill": {
     "duration": 0.041243,
     "end_time": "2022-09-27T07:52:28.029211",
     "exception": false,
     "start_time": "2022-09-27T07:52:27.987968",
     "status": "completed"
    },
    "tags": []
   },
   "outputs": [
    {
     "name": "stdout",
     "output_type": "stream",
     "text": [
      "              precision    recall  f1-score   support\n",
      "\n",
      "       False       0.62      0.56      0.59       459\n",
      "        True       0.71      0.76      0.73       657\n",
      "\n",
      "    accuracy                           0.68      1116\n",
      "   macro avg       0.66      0.66      0.66      1116\n",
      "weighted avg       0.67      0.68      0.67      1116\n",
      "\n"
     ]
    }
   ],
   "source": [
    "print(classification_report(train_label, model_1_preds))"
   ]
  },
  {
   "cell_type": "markdown",
   "id": "02f046ef",
   "metadata": {
    "papermill": {
     "duration": 0.023005,
     "end_time": "2022-09-27T07:52:28.443593",
     "exception": false,
     "start_time": "2022-09-27T07:52:28.420588",
     "status": "completed"
    },
    "tags": []
   },
   "source": [
    "# ERROR ANALYSIS\n",
    "\n",
    "We present the basic metrics for classification tasks, the confusiton metric, f1, and etc. And we plot the roc curve for more understantding of the results. Also, we tried to modify the threshhold to see how the result goes."
   ]
  },
  {
   "cell_type": "code",
   "execution_count": null,
   "id": "3ec92235",
   "metadata": {
    "execution": {
     "iopub.execute_input": "2022-09-27T07:52:28.489682Z",
     "iopub.status.busy": "2022-09-27T07:52:28.489271Z",
     "iopub.status.idle": "2022-09-27T07:52:29.848067Z",
     "shell.execute_reply": "2022-09-27T07:52:29.847157Z"
    },
    "papermill": {
     "duration": 1.3851,
     "end_time": "2022-09-27T07:52:29.850730",
     "exception": false,
     "start_time": "2022-09-27T07:52:28.465630",
     "status": "completed"
    },
    "tags": []
   },
   "outputs": [],
   "source": [
    "y_probas = cross_val_predict(model_1, train, train_label, cv=5, method='predict_proba')"
   ]
  },
  {
   "cell_type": "code",
   "execution_count": 69,
   "id": "979a6984",
   "metadata": {
    "execution": {
     "iopub.execute_input": "2022-09-27T07:52:29.901126Z",
     "iopub.status.busy": "2022-09-27T07:52:29.900717Z",
     "iopub.status.idle": "2022-09-27T07:52:30.162528Z",
     "shell.execute_reply": "2022-09-27T07:52:30.160843Z"
    },
    "papermill": {
     "duration": 0.289322,
     "end_time": "2022-09-27T07:52:30.165077",
     "exception": false,
     "start_time": "2022-09-27T07:52:29.875755",
     "status": "completed"
    },
    "tags": []
   },
   "outputs": [
    {
     "data": {
      "image/png": "[encoded data removed]",
      "text/plain": [
       "<Figure size 576x288 with 1 Axes>"
      ]
     },
     "metadata": {
      "needs_background": "light"
     },
     "output_type": "display_data"
    }
   ],
   "source": [
    "precisions, recalls, thresholds = precision_recall_curve(train_label, y_probas[:,1])\n",
    "\n",
    "def plot_precision_recall_vs_threshold(precisions, recalls, thresholds):\n",
    "    plt.plot(thresholds, precisions[:-1], \"b--\", label=\"Precision\", linewidth=2)\n",
    "    plt.plot(thresholds, recalls[:-1], \"g-\", label=\"Recall\", linewidth=2)\n",
    "    plt.legend(loc=\"center right\", fontsize=16) \n",
    "    plt.xlabel(\"Threshold\", fontsize=16)        \n",
    "    plt.grid(True)                              \n",
    "    plt.axis([0.1, 1, 0, 1])             \n",
    "\n",
    "\n",
    "\n",
    "recall_80_precision = recalls[np.argmax(precisions >= 0.8)]\n",
    "threshold_80_precision = thresholds[np.argmax(precisions >= 0.8)]\n",
    "\n",
    "\n",
    "plt.figure(figsize=(8, 4))                                                                  \n",
    "plot_precision_recall_vs_threshold(precisions, recalls, thresholds)\n",
    "plt.plot([threshold_80_precision, threshold_80_precision], [0., 0.8], \"r:\")                 \n",
    "plt.plot([0, threshold_80_precision], [0.8, 0.8], \"r:\")                                \n",
    "plt.plot([0, threshold_80_precision], [recall_80_precision, recall_80_precision], \"r:\")\n",
    "plt.plot([threshold_80_precision], [0.8], \"ro\")                                             \n",
    "plt.plot([threshold_80_precision], [recall_80_precision], \"ro\")                             \n",
    "(\"precision_recall_vs_threshold_plot\")                                              \n",
    "plt.show()"
   ]
  },
  {
   "cell_type": "code",
   "execution_count": null,
   "id": "337e5f38",
   "metadata": {
    "execution": {
     "iopub.execute_input": "2022-09-27T07:52:30.216364Z",
     "iopub.status.busy": "2022-09-27T07:52:30.215967Z",
     "iopub.status.idle": "2022-09-27T07:52:30.221427Z",
     "shell.execute_reply": "2022-09-27T07:52:30.220260Z"
    },
    "papermill": {
     "duration": 0.032683,
     "end_time": "2022-09-27T07:52:30.223915",
     "exception": false,
     "start_time": "2022-09-27T07:52:30.191232",
     "status": "completed"
    },
    "tags": []
   },
   "outputs": [],
   "source": [
    "y_pred_precision = (y_probas > 0.6)"
   ]
  },
  {
   "cell_type": "code",
   "execution_count": null,
   "id": "c0cd3e61",
   "metadata": {
    "execution": {
     "iopub.execute_input": "2022-09-27T07:52:30.707614Z",
     "iopub.status.busy": "2022-09-27T07:52:30.706740Z",
     "iopub.status.idle": "2022-09-27T07:52:30.719969Z",
     "shell.execute_reply": "2022-09-27T07:52:30.718715Z"
    },
    "papermill": {
     "duration": 0.040135,
     "end_time": "2022-09-27T07:52:30.722703",
     "exception": false,
     "start_time": "2022-09-27T07:52:30.682568",
     "status": "completed"
    },
    "tags": []
   },
   "outputs": [
    {
     "name": "stdout",
     "output_type": "stream",
     "text": [
      "              precision    recall  f1-score   support\n",
      "\n",
      "       False       0.57      0.73      0.64       466\n",
      "        True       0.76      0.60      0.67       650\n",
      "\n",
      "    accuracy                           0.66      1116\n",
      "   macro avg       0.66      0.67      0.66      1116\n",
      "weighted avg       0.68      0.66      0.66      1116\n",
      "\n"
     ]
    }
   ],
   "source": [
    "print(classification_report(train_label, y_pred_precision[:,1]))"
   ]
  },
  {
   "cell_type": "code",
   "execution_count": null,
   "id": "1211b861",
   "metadata": {
    "execution": {
     "iopub.execute_input": "2022-09-27T07:52:30.771893Z",
     "iopub.status.busy": "2022-09-27T07:52:30.771504Z",
     "iopub.status.idle": "2022-09-27T07:52:30.986906Z",
     "shell.execute_reply": "2022-09-27T07:52:30.986054Z"
    },
    "papermill": {
     "duration": 0.242554,
     "end_time": "2022-09-27T07:52:30.989258",
     "exception": false,
     "start_time": "2022-09-27T07:52:30.746704",
     "status": "completed"
    },
    "tags": []
   },
   "outputs": [
    {
     "data": {
      "text/plain": [
       "<sklearn.metrics._plot.precision_recall_curve.PrecisionRecallDisplay at 0x7fc6f22d9490>"
      ]
     },
     "execution_count": 54,
     "metadata": {},
     "output_type": "execute_result"
    },
    {
     "data": {
      "image/png": "[encoded data removed]",
      "text/plain": [
       "<Figure size 432x288 with 1 Axes>"
      ]
     },
     "metadata": {
      "needs_background": "light"
     },
     "output_type": "display_data"
    }
   ],
   "source": [
    "disp = PrecisionRecallDisplay(precisions, recalls)\n",
    "disp.plot()"
   ]
  },
  {
   "cell_type": "code",
   "execution_count": 89,
   "id": "966c5dd5",
   "metadata": {
    "execution": {
     "iopub.execute_input": "2022-09-27T07:52:31.039561Z",
     "iopub.status.busy": "2022-09-27T07:52:31.038894Z",
     "iopub.status.idle": "2022-09-27T07:52:31.262982Z",
     "shell.execute_reply": "2022-09-27T07:52:31.262226Z"
    },
    "papermill": {
     "duration": 0.251553,
     "end_time": "2022-09-27T07:52:31.265329",
     "exception": false,
     "start_time": "2022-09-27T07:52:31.013776",
     "status": "completed"
    },
    "tags": []
   },
   "outputs": [
    {
     "data": {
      "image/png": "[encoded data removed]",
      "text/plain": [
       "<Figure size 432x288 with 1 Axes>"
      ]
     },
     "metadata": {
      "needs_background": "light"
     },
     "output_type": "display_data"
    }
   ],
   "source": [
    "fpr, tpr, thresholds = roc_curve(train_label, y_probas[:,1])\n",
    "\n",
    "roc_auc = auc(fpr, tpr)\n",
    "display = RocCurveDisplay(fpr=fpr, tpr=tpr, roc_auc=roc_auc)\n",
    "display.plot()"
   ]
  },
  {
   "cell_type": "code",
   "execution_count": 74,
   "id": "b440116b",
   "metadata": {
    "execution": {
     "iopub.execute_input": "2022-09-27T07:52:31.315556Z",
     "iopub.status.busy": "2022-09-27T07:52:31.314845Z",
     "iopub.status.idle": "2022-09-27T07:52:31.572308Z",
     "shell.execute_reply": "2022-09-27T07:52:31.571384Z"
    },
    "papermill": {
     "duration": 0.285382,
     "end_time": "2022-09-27T07:52:31.574984",
     "exception": false,
     "start_time": "2022-09-27T07:52:31.289602",
     "status": "completed"
    },
    "tags": []
   },
   "outputs": [
    {
     "name": "stderr",
     "output_type": "stream",
     "text": [
      "/Applications/anaconda3/envs/IML/lib/python3.8/site-packages/xgboost/sklearn.py:888: UserWarning: The use of label encoder in XGBClassifier is deprecated and will be removed in a future release. To remove this warning, do the following: 1) Pass option use_label_encoder=False when constructing XGBClassifier object; and 2) Encode your labels (y) as integers starting with 0, i.e. 0, 1, 2, ..., [num_class - 1].\n",
      "  warnings.warn(label_encoder_deprecation_msg, UserWarning)\n"
     ]
    },
    {
     "name": "stdout",
     "output_type": "stream",
     "text": [
      "[17:26:59] WARNING: /opt/concourse/worker/volumes/live/7a2b9f41-3287-451b-6691-43e9a6c0910f/volume/xgboost-split_1619728204606/work/src/learner.cc:1061: Starting in XGBoost 1.3.0, the default evaluation metric used with the objective 'binary:logistic' was changed from 'error' to 'logloss'. Explicitly set eval_metric if you'd like to restore the old behavior.\n"
     ]
    }
   ],
   "source": [
    "final_model = model_1.fit(train, train_label)"
   ]
  },
  {
   "cell_type": "code",
   "execution_count": 99,
   "id": "29773d5d",
   "metadata": {},
   "outputs": [
    {
     "data": {
      "text/plain": [
       "['model_final.pkl']"
      ]
     },
     "execution_count": 99,
     "metadata": {},
     "output_type": "execute_result"
    }
   ],
   "source": [
    "joblib.dump(model_all_features, 'model_final.pkl')"
   ]
  },
  {
   "cell_type": "markdown",
   "id": "83a6d22e",
   "metadata": {
    "papermill": {
     "duration": 0.025101,
     "end_time": "2022-09-27T07:52:31.695647",
     "exception": false,
     "start_time": "2022-09-27T07:52:31.670546",
     "status": "completed"
    },
    "tags": []
   },
   "source": [
    "# Test the trained model\n",
    "use the model to predict the test set. "
   ]
  },
  {
   "cell_type": "code",
   "execution_count": 71,
   "id": "9d1f81d6",
   "metadata": {
    "execution": {
     "iopub.execute_input": "2022-09-27T07:52:31.746149Z",
     "iopub.status.busy": "2022-09-27T07:52:31.745739Z",
     "iopub.status.idle": "2022-09-27T07:52:31.776719Z",
     "shell.execute_reply": "2022-09-27T07:52:31.775630Z"
    },
    "papermill": {
     "duration": 0.058842,
     "end_time": "2022-09-27T07:52:31.779129",
     "exception": false,
     "start_time": "2022-09-27T07:52:31.720287",
     "status": "completed"
    },
    "tags": []
   },
   "outputs": [],
   "source": [
    "cols_to_drop = ['player_id', 'player_name', 'yearDraft', 'numberPickOverall', 'drafted']\n",
    "\n",
    "X_test = test.drop(cols_to_drop, axis=1)\n",
    "y_test = test['drafted']"
   ]
  },
  {
   "cell_type": "code",
   "execution_count": 97,
   "id": "bb81b274",
   "metadata": {
    "execution": {
     "iopub.execute_input": "2022-09-27T07:52:31.829702Z",
     "iopub.status.busy": "2022-09-27T07:52:31.828823Z",
     "iopub.status.idle": "2022-09-27T07:52:31.846726Z",
     "shell.execute_reply": "2022-09-27T07:52:31.845831Z"
    },
    "papermill": {
     "duration": 0.046637,
     "end_time": "2022-09-27T07:52:31.849759",
     "exception": false,
     "start_time": "2022-09-27T07:52:31.803122",
     "status": "completed"
    },
    "tags": []
   },
   "outputs": [],
   "source": [
    "y_pred = (final_model.predict_proba(X_test) > 0.6)[:, 1] # use the threshold decided above"
   ]
  },
  {
   "cell_type": "code",
   "execution_count": 98,
   "id": "789a7f57",
   "metadata": {
    "execution": {
     "iopub.execute_input": "2022-09-27T07:52:32.207522Z",
     "iopub.status.busy": "2022-09-27T07:52:32.206188Z",
     "iopub.status.idle": "2022-09-27T07:52:32.216992Z",
     "shell.execute_reply": "2022-09-27T07:52:32.215536Z"
    },
    "papermill": {
     "duration": 0.04055,
     "end_time": "2022-09-27T07:52:32.220284",
     "exception": false,
     "start_time": "2022-09-27T07:52:32.179734",
     "status": "completed"
    },
    "tags": []
   },
   "outputs": [
    {
     "name": "stdout",
     "output_type": "stream",
     "text": [
      "              precision    recall  f1-score   support\n",
      "\n",
      "       False       0.59      0.61      0.60       127\n",
      "        True       0.67      0.64      0.66       152\n",
      "\n",
      "    accuracy                           0.63       279\n",
      "   macro avg       0.63      0.63      0.63       279\n",
      "weighted avg       0.63      0.63      0.63       279\n",
      "\n"
     ]
    }
   ],
   "source": [
    "print(classification_report(y_test, y_pred))"
   ]
  },
  {
   "cell_type": "markdown",
   "id": "321a5cf1",
   "metadata": {
    "papermill": {
     "duration": 0.024368,
     "end_time": "2022-09-27T07:52:32.269792",
     "exception": false,
     "start_time": "2022-09-27T07:52:32.245424",
     "status": "completed"
    },
    "tags": []
   },
   "source": [
    "There's slight drop in overall accuracy, from 66% to 63%, which is acceptable and indicate no overfitting. Also, based on the number of data records, and the relevance of features, this performance is decent enough. Next and last, we will see how the model actual precition of the top draft picks.\n"
   ]
  },
  {
   "cell_type": "code",
   "execution_count": 77,
   "id": "9873901a",
   "metadata": {
    "execution": {
     "iopub.execute_input": "2022-09-27T07:52:32.321619Z",
     "iopub.status.busy": "2022-09-27T07:52:32.320467Z",
     "iopub.status.idle": "2022-09-27T07:52:32.349965Z",
     "shell.execute_reply": "2022-09-27T07:52:32.348839Z"
    },
    "papermill": {
     "duration": 0.065112,
     "end_time": "2022-09-27T07:52:32.359612",
     "exception": false,
     "start_time": "2022-09-27T07:52:32.294500",
     "status": "completed"
    },
    "tags": []
   },
   "outputs": [],
   "source": [
    "y_top5 = test[test.numberPickOverall <= 5]['drafted']\n",
    "X_top5 = test[test.numberPickOverall <= 5].drop(cols_to_drop, axis=1)\n",
    "\n",
    "y_top5_pred = (final_model.predict_proba(X_top5) > 0.6)[:, 1]"
   ]
  },
  {
   "cell_type": "code",
   "execution_count": 78,
   "id": "4397d739",
   "metadata": {
    "execution": {
     "iopub.execute_input": "2022-09-27T07:52:32.411525Z",
     "iopub.status.busy": "2022-09-27T07:52:32.411028Z",
     "iopub.status.idle": "2022-09-27T07:52:32.418272Z",
     "shell.execute_reply": "2022-09-27T07:52:32.417140Z"
    },
    "papermill": {
     "duration": 0.03605,
     "end_time": "2022-09-27T07:52:32.420599",
     "exception": false,
     "start_time": "2022-09-27T07:52:32.384549",
     "status": "completed"
    },
    "tags": []
   },
   "outputs": [
    {
     "data": {
      "text/plain": [
       "16"
      ]
     },
     "execution_count": 78,
     "metadata": {},
     "output_type": "execute_result"
    }
   ],
   "source": [
    "len(y_top5_pred)"
   ]
  },
  {
   "cell_type": "code",
   "execution_count": 79,
   "id": "13e1a638",
   "metadata": {
    "execution": {
     "iopub.execute_input": "2022-09-27T07:52:32.472608Z",
     "iopub.status.busy": "2022-09-27T07:52:32.471330Z",
     "iopub.status.idle": "2022-09-27T07:52:32.488909Z",
     "shell.execute_reply": "2022-09-27T07:52:32.487484Z"
    },
    "papermill": {
     "duration": 0.045896,
     "end_time": "2022-09-27T07:52:32.491528",
     "exception": false,
     "start_time": "2022-09-27T07:52:32.445632",
     "status": "completed"
    },
    "tags": []
   },
   "outputs": [
    {
     "name": "stderr",
     "output_type": "stream",
     "text": [
      "/var/folders/rz/wj2pwbn164x144wk9djnk2840000gn/T/ipykernel_73536/1590401348.py:2: SettingWithCopyWarning: \n",
      "A value is trying to be set on a copy of a slice from a DataFrame.\n",
      "Try using .loc[row_indexer,col_indexer] = value instead\n",
      "\n",
      "See the caveats in the documentation: https://pandas.pydata.org/pandas-docs/stable/user_guide/indexing.html#returning-a-view-versus-a-copy\n",
      "  top5_picks['prediction'] = y_top5_pred\n"
     ]
    },
    {
     "data": {
      "text/html": [
       "<div>\n",
       "<style scoped>\n",
       "    .dataframe tbody tr th:only-of-type {\n",
       "        vertical-align: middle;\n",
       "    }\n",
       "\n",
       "    .dataframe tbody tr th {\n",
       "        vertical-align: top;\n",
       "    }\n",
       "\n",
       "    .dataframe thead th {\n",
       "        text-align: right;\n",
       "    }\n",
       "</style>\n",
       "<table border=\"1\" class=\"dataframe\">\n",
       "  <thead>\n",
       "    <tr style=\"text-align: right;\">\n",
       "      <th></th>\n",
       "      <th>player_name</th>\n",
       "      <th>numberPickOverall</th>\n",
       "      <th>prediction</th>\n",
       "    </tr>\n",
       "  </thead>\n",
       "  <tbody>\n",
       "    <tr>\n",
       "      <th>173</th>\n",
       "      <td>Drew Gooden</td>\n",
       "      <td>4.0</td>\n",
       "      <td>False</td>\n",
       "    </tr>\n",
       "    <tr>\n",
       "      <th>549</th>\n",
       "      <td>Mike Conley</td>\n",
       "      <td>4.0</td>\n",
       "      <td>False</td>\n",
       "    </tr>\n",
       "    <tr>\n",
       "      <th>751</th>\n",
       "      <td>DeMarcus Cousins</td>\n",
       "      <td>5.0</td>\n",
       "      <td>False</td>\n",
       "    </tr>\n",
       "    <tr>\n",
       "      <th>334</th>\n",
       "      <td>Dwight Howard</td>\n",
       "      <td>1.0</td>\n",
       "      <td>False</td>\n",
       "    </tr>\n",
       "    <tr>\n",
       "      <th>557</th>\n",
       "      <td>Kevin Durant</td>\n",
       "      <td>2.0</td>\n",
       "      <td>False</td>\n",
       "    </tr>\n",
       "  </tbody>\n",
       "</table>\n",
       "</div>"
      ],
      "text/plain": [
       "          player_name  numberPickOverall  prediction\n",
       "173       Drew Gooden                4.0       False\n",
       "549       Mike Conley                4.0       False\n",
       "751  DeMarcus Cousins                5.0       False\n",
       "334     Dwight Howard                1.0       False\n",
       "557      Kevin Durant                2.0       False"
      ]
     },
     "execution_count": 79,
     "metadata": {},
     "output_type": "execute_result"
    }
   ],
   "source": [
    "top5_picks = test[test.numberPickOverall <= 5]\n",
    "top5_picks['prediction'] = y_top5_pred\n",
    "\n",
    "top5_picks[['player_name', 'numberPickOverall', 'prediction']].loc[top5_picks.prediction==False]"
   ]
  }
 ],
 "metadata": {
  "kernelspec": {
   "display_name": "Python 3",
   "language": "python",
   "name": "python3"
  },
  "language_info": {
   "codemirror_mode": {
    "name": "ipython",
    "version": 3
   },
   "file_extension": ".py",
   "mimetype": "text/x-python",
   "name": "python",
   "nbconvert_exporter": "python",
   "pygments_lexer": "ipython3",
   "version": "3.8.10"
  },
  "papermill": {
   "default_parameters": {},
   "duration": 7187.018723,
   "end_time": "2022-09-27T07:52:33.402203",
   "environment_variables": {},
   "exception": null,
   "input_path": "__notebook__.ipynb",
   "output_path": "__notebook__.ipynb",
   "parameters": {},
   "start_time": "2022-09-27T05:52:46.383480",
   "version": "2.3.4"
  }
 },
 "nbformat": 4,
 "nbformat_minor": 5
}
